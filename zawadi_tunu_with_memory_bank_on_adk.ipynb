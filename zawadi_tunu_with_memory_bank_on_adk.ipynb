{
  "cells": [
    {
      "cell_type": "markdown",
      "metadata": {
        "id": "view-in-github",
        "colab_type": "text"
      },
      "source": [
        "<a href=\"https://colab.research.google.com/github/kamaustephen/Zawadi-Tunu/blob/main/zawadi_tunu_with_memory_bank_on_adk.ipynb\" target=\"_parent\"><img src=\"https://colab.research.google.com/assets/colab-badge.svg\" alt=\"Open In Colab\"/></a>"
      ]
    },
    {
      "cell_type": "markdown",
      "metadata": {
        "id": "jWFtuhDSw1NY"
      },
      "source": [
        "# Get started with Zawadi Tunu Built with Memory Bank on ADK\n",
        "\n",
        "<table align=\"left\">\n",
        "  <td style=\"text-align: center\">\n",
        "    <a href=\"https://colab.research.google.com/github/mwanyumba7/Zawadi-Tunu/blob/main/zawadi_tunu_with_memory_bank_on_adk.ipynb\">\n",
        "      <img width=\"32px\" src=\"https://www.gstatic.com/pantheon/images/bigquery/welcome_page/colab-logo.svg\" alt=\"Google Colaboratory logo\"><br> Open in Colab\n",
        "    </a>\n",
        "  </td>\n",
        "</table>"
      ]
    },
    {
      "cell_type": "markdown",
      "metadata": {
        "id": "qlXbr9YbMyzc"
      },
      "source": [
        "## Overview\n",
        "We will be building an Agent `Zawadi Tunu` which is an agent ispecialized in gift recommendation engine designed to elevate the act of gift-giving, transforming it from a chore into a deeply personalized and meaningful experience. Built as a demonstration of the Agent Development Kit (ADK) for Gemini and the Vertex AI Memory Bank, this agent's core strength lies in its ability to retain and recall nuanced information over time.\n",
        "\n",
        "Instead of generic suggestions, the agent uses its long-term memory to remember key details gleaned from previous conversations: a niece's age and past birthday presents (like the \"red bike\" in the demo), a spouse's stated preference for aisle seats, or a parent's hint about a desired hobby.\n",
        "\n",
        "This tutorial demonstrates how to build ADK agents with Memory, including both `InMemoryMemoryService` and `VertexAiMemoryBankService`.\n",
        "\n",
        "This tutorial will cover:\n",
        "* Comparing `InMemoryMemoryService` vs. `VertexAiMemoryBankService`.\n",
        "* Generating memories with ADK and Agent Engine Memory Bank.\n",
        "* Retrieving memories with ADK and Agent Engine Memory Bank.\n",
        "* Customizing your Memory Bank instance's behavior."
      ]
    },
    {
      "cell_type": "markdown",
      "metadata": {
        "id": "HSSuQi5wS-AY"
      },
      "source": [
        "## Get started"
      ]
    },
    {
      "cell_type": "markdown",
      "metadata": {
        "id": "ngEAiXw8cQRt"
      },
      "source": [
        "### Install Google Gen AI SDK and other required packages\n"
      ]
    },
    {
      "cell_type": "code",
      "execution_count": 1,
      "metadata": {
        "colab": {
          "base_uri": "https://localhost:8080/"
        },
        "id": "ZNg0utat73eG",
        "outputId": "46464491-746c-40e8-fbc8-0704258aa50b"
      },
      "outputs": [
        {
          "output_type": "stream",
          "name": "stdout",
          "text": [
            "\u001b[2K     \u001b[90m━━━━━━━━━━━━━━━━━━━━━━━━━━━━━━━━━━━━━━━━\u001b[0m \u001b[32m44.6/44.6 kB\u001b[0m \u001b[31m1.2 MB/s\u001b[0m eta \u001b[36m0:00:00\u001b[0m\n",
            "\u001b[2K   \u001b[90m━━━━━━━━━━━━━━━━━━━━━━━━━━━━━━━━━━━━━━━━\u001b[0m \u001b[32m2.0/2.0 MB\u001b[0m \u001b[31m17.1 MB/s\u001b[0m eta \u001b[36m0:00:00\u001b[0m\n",
            "\u001b[2K   \u001b[90m━━━━━━━━━━━━━━━━━━━━━━━━━━━━━━━━━━━━━━━━\u001b[0m \u001b[32m8.1/8.1 MB\u001b[0m \u001b[31m53.8 MB/s\u001b[0m eta \u001b[36m0:00:00\u001b[0m\n",
            "\u001b[?25h"
          ]
        }
      ],
      "source": [
        "%pip install google-adk google-cloud-aiplatform --upgrade --quiet"
      ]
    },
    {
      "cell_type": "markdown",
      "metadata": {
        "id": "bbArJaMNcWVz"
      },
      "source": [
        "### Authenticate your notebook environment (Colab only)\n",
        "\n",
        "If you're running this notebook on Google Colab, run the cell below to authenticate your environment."
      ]
    },
    {
      "cell_type": "code",
      "execution_count": 2,
      "metadata": {
        "id": "oMmt34WM-08o"
      },
      "outputs": [],
      "source": [
        "import sys\n",
        "\n",
        "if \"google.colab\" in sys.modules:\n",
        "    from google.colab import auth\n",
        "\n",
        "    auth.authenticate_user()"
      ]
    },
    {
      "cell_type": "markdown",
      "metadata": {
        "id": "mbeaDydxcdEo"
      },
      "source": [
        "### Set Google Cloud project information\n",
        "\n",
        "To get started using Vertex AI, you must have an existing Google Cloud project and [enable the Vertex AI API](https://console.cloud.google.com/flows/enableapi?apiid=aiplatform.googleapis.com).\n",
        "\n",
        "Learn more about [setting up a project and a development environment](https://cloud.google.com/vertex-ai/docs/start/cloud-environment)."
      ]
    },
    {
      "cell_type": "code",
      "execution_count": 4,
      "metadata": {
        "id": "PKZ_ad_g_AuU"
      },
      "outputs": [],
      "source": [
        "# Use the environment variable if the user doesn't provide Project ID.\n",
        "import os\n",
        "\n",
        "import vertexai\n",
        "\n",
        "# fmt: off\n",
        "PROJECT = \"my-project-unstacked\"  # @param {type: \"string\", placeholder: \"[your-project-id]\", isTemplate: true}\n",
        "# fmt: on\n",
        "if not PROJECT or PROJECT == \"[your-project-id]\":\n",
        "    PROJECT = str(os.environ.get(\"GOOGLE_CLOUD_PROJECT\"))\n",
        "\n",
        "LOCATION = os.environ.get(\"GOOGLE_CLOUD_REGION\", \"us-central1\")\n",
        "\n",
        "client = vertexai.Client(project=PROJECT, location=LOCATION)\n",
        "\n",
        "# Set environment variables for ADK.\n",
        "os.environ[\"GOOGLE_GENAI_USE_VERTEXAI\"] = \"TRUE\"\n",
        "os.environ[\"GOOGLE_CLOUD_PROJECT\"] = PROJECT\n",
        "os.environ[\"GOOGLE_CLOUD_LOCATION\"] = LOCATION"
      ]
    },
    {
      "cell_type": "markdown",
      "metadata": {
        "id": "b2fe816fc0d0"
      },
      "source": [
        "## (Optional) Set up logging\n",
        "To surface ADK logs in your notebook, you may need to configure the logging level of ADK's logger."
      ]
    },
    {
      "cell_type": "code",
      "execution_count": 7,
      "metadata": {
        "id": "91955e5b44ec"
      },
      "outputs": [],
      "source": [
        "import logging\n",
        "import sys\n",
        "\n",
        "# Set up a general handler for all logs to be printed in your Colab output.\n",
        "# We'll set the overall level to INFO.\n",
        "logging.basicConfig(\n",
        "    level=logging.INFO,\n",
        "    format=\"%(asctime)s - %(name)s - %(levelname)s - %(message)s\",\n",
        "    stream=sys.stdout,\n",
        ")\n",
        "\n",
        "# Get the specific logger used by ADK.\n",
        "adk_logger = logging.getLogger(\"google_adk\")\n",
        "\n",
        "# Set its level to DEBUG to ensure you capture ALL messages from the SDK,\n",
        "# even if the general level is higher (like INFO).\n",
        "adk_logger.setLevel(logging.DEBUG)"
      ]
    },
    {
      "cell_type": "markdown",
      "metadata": {
        "id": "W0n_JRrHNUUX"
      },
      "source": [
        "## Define a simple agent\n",
        "\n",
        "The ADK Runner defines what session service is used by the agent. The session service is responsible for saving the conversation history.\n",
        "\n",
        "In this example, we're using the in-memory session service (`InMemorySessionService`). However, you can use any session service with Memory.\n",
        "\n",
        "If you want to use Google's pre-built Memory tools, you can provide a Memory service to the Runner as well. In this example, we'll start by directly invoking memory so that we can compare different services. So, we're not directly setting `memory_service` in the Runner."
      ]
    },
    {
      "cell_type": "code",
      "execution_count": 8,
      "metadata": {
        "id": "rKxFZmSRAECu"
      },
      "outputs": [],
      "source": [
        "from google.adk.agents import LlmAgent\n",
        "from google.adk.runners import Runner\n",
        "from google.adk.sessions import InMemorySessionService\n",
        "from google.genai.types import Content, Part\n",
        "\n",
        "APP_NAME = \"memory_ForUnstacked_class\"\n",
        "MODEL = \"gemini-2.5-flash\"\n",
        "\n",
        "agent = LlmAgent(\n",
        "    model=MODEL,\n",
        "    name=\"Generic_QA_Agent\",\n",
        "    instruction=\"Answer the user's questions\",\n",
        ")\n",
        "\n",
        "session_service = InMemorySessionService()\n",
        "\n",
        "runner = Runner(agent=agent, app_name=APP_NAME, session_service=session_service)\n",
        "\n",
        "\n",
        "def call_agent(query, session, user_id):\n",
        "    content = Content(role=\"user\", parts=[Part(text=query)])\n",
        "    events = runner.run(user_id=user_id, session_id=session, new_message=content)\n",
        "\n",
        "    for event in events:\n",
        "        if event.is_final_response():\n",
        "            final_response = event.content.parts[0].text\n",
        "            print(\"Agent Response: \", final_response)"
      ]
    },
    {
      "cell_type": "markdown",
      "metadata": {
        "id": "WEAg11vnOyYs"
      },
      "source": [
        "## Introduction to ADK Memory Service\n",
        "ADK memory services offer an interface for creating and searching for memories. The [`BaseMemoryService`](https://github.com/google/adk-python/blob/main/src/google/adk/memory/base_memory_service.py) defines the interface for managing this searchable, long-term knowledge store. Its primary responsibilities are:\n",
        "\n",
        "* Ingesting Information (`add_session_to_memory`): Taking the contents of a (usually completed) Session and adding relevant information to the long-term knowledge store.\n",
        "* Searching Information (`search_memory`): Allowing an agent (typically via a Tool) to query the knowledge store and retrieve relevant snippets or context based on a search query.\n",
        "\n",
        "In this colab, we'll cover two options:\n",
        "\n",
        "* `InMemoryMemoryService`: A in-memory service that allows you to search your conversation history to retrieve the raw dialogue using basic keyword matching.\n",
        "* `VertexAiMemoryBankService`: A remote service that remotely generates memories for \"meaningful\" information from user conversation.\n",
        "\n",
        "\n",
        "You can also interact directly with Memory Bank by using the Agent Engine SDK."
      ]
    },
    {
      "cell_type": "markdown",
      "metadata": {
        "id": "LSZQQAPQWBXs"
      },
      "source": [
        "### `InMemoryMemoryService`\n",
        "\n",
        "[`InMemoryMemoryService`](https://github.com/google/adk-python/blob/main/src/google/adk/memory/in_memory_memory_service.py) persists **all** information in-memory. The events are not condensed, and information is not extracted from them."
      ]
    },
    {
      "cell_type": "code",
      "execution_count": 11,
      "metadata": {
        "id": "HqXCHxi2Cb-n"
      },
      "outputs": [],
      "source": [
        "from google.adk.memory import InMemoryMemoryService\n",
        "\n",
        "in_memory_service = InMemoryMemoryService()"
      ]
    },
    {
      "cell_type": "markdown",
      "metadata": {
        "id": "mTuaUZ1DWG7L"
      },
      "source": [
        "### `VertexAiMemoryBankService`\n",
        "Memory Bank will only persist information that's meaningful for future interactions. [`VertexAiMemoryBankService`](https://github.com/google/adk-python/blob/main/src/google/adk/memory/vertex_ai_memory_bank_service.py) provides a built-in integration between Memory Bank and ADK.\n",
        "\n",
        "To get started with Memory Bank, you need to first create an Agent Engine. This only takes a few seconds.\n",
        "\n",
        "If you don't have a Google Cloud project, you can use [Vertex in Express mode, which only requires an API key](https://cloud.google.com/vertex-ai/generative-ai/docs/agent-engine/memory-bank/set-up#authentication)."
      ]
    },
    {
      "cell_type": "code",
      "execution_count": 12,
      "metadata": {
        "colab": {
          "base_uri": "https://localhost:8080/"
        },
        "id": "rZP-0IVaQ5_N",
        "outputId": "10b21965-e95e-47e7-ef18-784b810313a4"
      },
      "outputs": [
        {
          "output_type": "stream",
          "name": "stderr",
          "text": [
            "INFO:vertexai_genai.agentengines:View progress and logs at https://console.cloud.google.com/logs/query?project=my-project-unstacked.\n",
            "INFO:vertexai_genai.agentengines:Agent Engine created. To use it in another session:\n",
            "INFO:vertexai_genai.agentengines:agent_engine=client.agent_engines.get('projects/613791733299/locations/us-central1/reasoningEngines/5134864437248786432')\n"
          ]
        }
      ],
      "source": [
        "import vertexai\n",
        "from google.adk.memory import VertexAiMemoryBankService\n",
        "\n",
        "client = vertexai.Client(project=PROJECT, location=LOCATION)\n",
        "\n",
        "agent_engine = client.agent_engines.create(\n",
        "    config={\n",
        "        \"context_spec\": {\n",
        "            \"memory_bank_config\": {\n",
        "                \"generation_config\": {\n",
        "                    \"model\": f\"projects/{PROJECT}/locations/{LOCATION}/publishers/google/models/gemini-2.5-flash\"\n",
        "                }\n",
        "            }\n",
        "        }\n",
        "    }\n",
        ")\n",
        "\n",
        "memory_bank_service = VertexAiMemoryBankService(\n",
        "    agent_engine_id=agent_engine.api_resource.name.split(\"/\")[-1],\n",
        "    project=PROJECT,\n",
        "    location=LOCATION,\n",
        ")"
      ]
    },
    {
      "cell_type": "markdown",
      "metadata": {
        "id": "N-IrevumRepq"
      },
      "source": [
        "## Generating Memories\n",
        "\n",
        "Memories will be generated from your conversation history stored in the `Session` object. The ADK `add_session_to_memory` method is responsible for triggering memory generation for your memory service, but the exact behavior depends on which service you use:\n",
        "\n",
        "* `InMemoryMemoryService` persists all information, including the raw dialogue.\n",
        "\n",
        "* `VertexAiMemoryBankService` only persists *meaningful* information. Not all conversations will result in generated memories. Additionally, the information will be condensed to individual, self-contained memories.\n",
        "\n",
        "In this example, we create two sessions:\n",
        "1. `chit_chat_session`, which is a conversation that contains events that may not be meaningful for future interactions.\n",
        "2. `recommendations_session`, which is a conversation about looking for birthday presents for a family member. It includes implicit information that may be helpful for future conversations."
      ]
    },
    {
      "cell_type": "code",
      "execution_count": 13,
      "metadata": {
        "colab": {
          "base_uri": "https://localhost:8080/"
        },
        "id": "VfTIuJfFAR2z",
        "outputId": "d44cf5e2-a9bc-4efb-d7db-a41ed6f10d8b"
      },
      "outputs": [
        {
          "output_type": "stream",
          "name": "stderr",
          "text": [
            "INFO:google_adk.google.adk.models.google_llm:Sending out request, model: gemini-2.5-flash, backend: GoogleLLMVariant.VERTEX_AI, stream: False\n",
            "DEBUG:google_adk.google.adk.models.google_llm:\n",
            "LLM Request:\n",
            "-----------------------------------------------------------\n",
            "System Instruction:\n",
            "Answer the user's questions\n",
            "\n",
            "You are an agent. Your internal name is \"Generic_QA_Agent\".\n",
            "-----------------------------------------------------------\n",
            "Config:\n",
            "{'labels': {'adk_agent_name': 'Generic_QA_Agent'}}\n",
            "-----------------------------------------------------------\n",
            "Contents:\n",
            "{\"parts\":[{\"text\":\"what types of questions do you answer\"}],\"role\":\"user\"}\n",
            "-----------------------------------------------------------\n",
            "Functions:\n",
            "\n",
            "-----------------------------------------------------------\n",
            "\n",
            "INFO:google_adk.google.adk.models.google_llm:Response received from the model.\n",
            "DEBUG:google_adk.google.adk.models.google_llm:\n",
            "LLM Response:\n",
            "-----------------------------------------------------------\n",
            "Text:\n",
            "As a large language model, I'm designed to answer a very wide variety of questions across many domains. Here are some general categories:\n",
            "\n",
            "1.  **Factual Information:**\n",
            "    *   Definitions of terms and concepts.\n",
            "    *   Historical events, dates, and figures.\n",
            "    *   Scientific principles and explanations.\n",
            "    *   Geographical facts.\n",
            "    *   Information about people, places, things, and ideas.\n",
            "\n",
            "2.  **Explanations and How-Tos:**\n",
            "    *   How things work.\n",
            "    *   Step-by-step instructions for tasks (e.g., how to bake a cake, how to write a formal email).\n",
            "    *   Concepts clarified in simpler terms.\n",
            "\n",
            "3.  **Creative and Generative Tasks:**\n",
            "    *   Writing different kinds of creative content (poems, stories, scripts, song lyrics, emails, code snippets).\n",
            "    *   Brainstorming ideas (e.g., for names, topics, projects).\n",
            "    *   Summarizing long texts or articles.\n",
            "    *   Translating languages.\n",
            "\n",
            "4.  **Problem-Solving and Logic:**\n",
            "    *   Mathematical problems.\n",
            "    *   Logical puzzles.\n",
            "    *   Coding assistance and debugging.\n",
            "    *   Offering different perspectives on a problem.\n",
            "\n",
            "5.  **Comparisons and Recommendations:**\n",
            "    *   Comparing different products, concepts, or ideas.\n",
            "    *   Suggesting books, movies, places, or activities based on criteria (though I don't have personal preferences, I can leverage data).\n",
            "\n",
            "6.  **Language and Grammar:**\n",
            "    *   Grammar correction.\n",
            "    *   Synonyms and antonyms.\n",
            "    *   Explaining linguistic nuances.\n",
            "\n",
            "Essentially, if a question can be answered with information or logic that a highly knowledgeable entity would possess, I can likely provide a helpful response.\n",
            "\n",
            "**What I generally *cannot* do:**\n",
            "*   Provide personal opinions or feelings.\n",
            "*   Access real-time private or proprietary information (like checking your bank account).\n",
            "*   Perform actions in the real world.\n",
            "*   Engage in sentient thought or consciousness.\n",
            "*   Predict the future with certainty.\n",
            "-----------------------------------------------------------\n",
            "Function calls:\n",
            "\n",
            "-----------------------------------------------------------\n",
            "Raw response:\n",
            "{\"sdk_http_response\":{\"headers\":{\"Content-Type\":\"application/json; charset=UTF-8\",\"Vary\":\"Origin, X-Origin, Referer\",\"Content-Encoding\":\"gzip\",\"Date\":\"Thu, 23 Oct 2025 16:17:00 GMT\",\"Server\":\"scaffolding on HTTPServer2\",\"X-XSS-Protection\":\"0\",\"X-Frame-Options\":\"SAMEORIGIN\",\"X-Content-Type-Options\":\"nosniff\",\"Transfer-Encoding\":\"chunked\"}},\"candidates\":[{\"content\":{\"parts\":[{\"text\":\"As a large language model, I'm designed to answer a very wide variety of questions across many domains. Here are some general categories:\\n\\n1.  **Factual Information:**\\n    *   Definitions of terms and concepts.\\n    *   Historical events, dates, and figures.\\n    *   Scientific principles and explanations.\\n    *   Geographical facts.\\n    *   Information about people, places, things, and ideas.\\n\\n2.  **Explanations and How-Tos:**\\n    *   How things work.\\n    *   Step-by-step instructions for tasks (e.g., how to bake a cake, how to write a formal email).\\n    *   Concepts clarified in simpler terms.\\n\\n3.  **Creative and Generative Tasks:**\\n    *   Writing different kinds of creative content (poems, stories, scripts, song lyrics, emails, code snippets).\\n    *   Brainstorming ideas (e.g., for names, topics, projects).\\n    *   Summarizing long texts or articles.\\n    *   Translating languages.\\n\\n4.  **Problem-Solving and Logic:**\\n    *   Mathematical problems.\\n    *   Logical puzzles.\\n    *   Coding assistance and debugging.\\n    *   Offering different perspectives on a problem.\\n\\n5.  **Comparisons and Recommendations:**\\n    *   Comparing different products, concepts, or ideas.\\n    *   Suggesting books, movies, places, or activities based on criteria (though I don't have personal preferences, I can leverage data).\\n\\n6.  **Language and Grammar:**\\n    *   Grammar correction.\\n    *   Synonyms and antonyms.\\n    *   Explaining linguistic nuances.\\n\\nEssentially, if a question can be answered with information or logic that a highly knowledgeable entity would possess, I can likely provide a helpful response.\\n\\n**What I generally *cannot* do:**\\n*   Provide personal opinions or feelings.\\n*   Access real-time private or proprietary information (like checking your bank account).\\n*   Perform actions in the real world.\\n*   Engage in sentient thought or consciousness.\\n*   Predict the future with certainty.\"}],\"role\":\"model\"},\"finish_reason\":\"STOP\",\"avg_logprobs\":-0.3791149996450819}],\"create_time\":\"2025-10-23T16:16:56.291440Z\",\"model_version\":\"gemini-2.5-flash\",\"response_id\":\"-FT6aPDkEYi0698P7syMmAM\",\"usage_metadata\":{\"candidates_token_count\":454,\"candidates_tokens_details\":[{\"modality\":\"TEXT\",\"token_count\":454}],\"prompt_token_count\":30,\"prompt_tokens_details\":[{\"modality\":\"TEXT\",\"token_count\":30}],\"thoughts_token_count\":161,\"total_token_count\":645,\"traffic_type\":\"ON_DEMAND\"},\"automatic_function_calling_history\":[]}\n",
            "-----------------------------------------------------------\n",
            "\n"
          ]
        },
        {
          "output_type": "stream",
          "name": "stdout",
          "text": [
            "Agent Response:  As a large language model, I'm designed to answer a very wide variety of questions across many domains. Here are some general categories:\n",
            "\n",
            "1.  **Factual Information:**\n",
            "    *   Definitions of terms and concepts.\n",
            "    *   Historical events, dates, and figures.\n",
            "    *   Scientific principles and explanations.\n",
            "    *   Geographical facts.\n",
            "    *   Information about people, places, things, and ideas.\n",
            "\n",
            "2.  **Explanations and How-Tos:**\n",
            "    *   How things work.\n",
            "    *   Step-by-step instructions for tasks (e.g., how to bake a cake, how to write a formal email).\n",
            "    *   Concepts clarified in simpler terms.\n",
            "\n",
            "3.  **Creative and Generative Tasks:**\n",
            "    *   Writing different kinds of creative content (poems, stories, scripts, song lyrics, emails, code snippets).\n",
            "    *   Brainstorming ideas (e.g., for names, topics, projects).\n",
            "    *   Summarizing long texts or articles.\n",
            "    *   Translating languages.\n",
            "\n",
            "4.  **Problem-Solving and Logic:**\n",
            "    *   Mathematical problems.\n",
            "    *   Logical puzzles.\n",
            "    *   Coding assistance and debugging.\n",
            "    *   Offering different perspectives on a problem.\n",
            "\n",
            "5.  **Comparisons and Recommendations:**\n",
            "    *   Comparing different products, concepts, or ideas.\n",
            "    *   Suggesting books, movies, places, or activities based on criteria (though I don't have personal preferences, I can leverage data).\n",
            "\n",
            "6.  **Language and Grammar:**\n",
            "    *   Grammar correction.\n",
            "    *   Synonyms and antonyms.\n",
            "    *   Explaining linguistic nuances.\n",
            "\n",
            "Essentially, if a question can be answered with information or logic that a highly knowledgeable entity would possess, I can likely provide a helpful response.\n",
            "\n",
            "**What I generally *cannot* do:**\n",
            "*   Provide personal opinions or feelings.\n",
            "*   Access real-time private or proprietary information (like checking your bank account).\n",
            "*   Perform actions in the real world.\n",
            "*   Engage in sentient thought or consciousness.\n",
            "*   Predict the future with certainty.\n"
          ]
        }
      ],
      "source": [
        "USER_ID = \"My User\"\n",
        "\n",
        "chit_chat_session = await session_service.create_session(\n",
        "    app_name=APP_NAME, user_id=USER_ID\n",
        ")\n",
        "\n",
        "call_agent(\n",
        "    \"what types of questions do you answer\", chit_chat_session.id, user_id=USER_ID\n",
        ")\n",
        "# Refresh session object.\n",
        "chit_chat_session = await session_service.get_session(\n",
        "    app_name=APP_NAME, user_id=USER_ID, session_id=chit_chat_session.id\n",
        ")"
      ]
    },
    {
      "cell_type": "code",
      "execution_count": 15,
      "metadata": {
        "colab": {
          "base_uri": "https://localhost:8080/"
        },
        "id": "hLvyyXRHEEQH",
        "outputId": "7613b19c-fa58-4f6e-bec4-3a9ee4bfe726"
      },
      "outputs": [
        {
          "output_type": "stream",
          "name": "stderr",
          "text": [
            "INFO:google_adk.google.adk.models.google_llm:Sending out request, model: gemini-2.5-flash, backend: GoogleLLMVariant.VERTEX_AI, stream: False\n",
            "DEBUG:google_adk.google.adk.models.google_llm:\n",
            "LLM Request:\n",
            "-----------------------------------------------------------\n",
            "System Instruction:\n",
            "Answer the user's questions\n",
            "\n",
            "You are an agent. Your internal name is \"Generic_QA_Agent\".\n",
            "-----------------------------------------------------------\n",
            "Config:\n",
            "{'labels': {'adk_agent_name': 'Generic_QA_Agent'}}\n",
            "-----------------------------------------------------------\n",
            "Contents:\n",
            "{\"parts\":[{\"text\":\"I have a five year old niece. What recommendations do you have for birthday presents?\"}],\"role\":\"user\"}\n",
            "-----------------------------------------------------------\n",
            "Functions:\n",
            "\n",
            "-----------------------------------------------------------\n",
            "\n",
            "INFO:google_adk.google.adk.models.google_llm:Response received from the model.\n",
            "DEBUG:google_adk.google.adk.models.google_llm:\n",
            "LLM Response:\n",
            "-----------------------------------------------------------\n",
            "Text:\n",
            "That's a fun age to shop for! Five-year-olds are often full of imagination and developing many new skills. Here are some birthday present recommendations, keeping a variety of interests in mind:\n",
            "\n",
            "1.  **Creative & Art Supplies:**\n",
            "    *   **Art Easel:** A standing easel (double-sided with chalkboard and dry-erase) is fantastic for drawing, painting, and imaginative play.\n",
            "    *   **Craft Kits:** Look for kits for making jewelry, decorating suncatchers, scratch art, or simple sewing/weaving projects designed for kids.\n",
            "    *   **Play-Doh or Modeling Clay Sets:** Always a hit for sensory play and sculpting.\n",
            "    *   **Large Coloring Books or Activity Pads:** Paired with crayons, colored pencils, or washable markers.\n",
            "\n",
            "2.  **Building & Construction Toys:**\n",
            "    *   **LEGO Duplo or LEGO Juniors/4+ Sets:** These are great for transitioning from larger blocks to smaller LEGO bricks, with themes like Disney princesses, superheroes, or city vehicles.\n",
            "    *   **Magna-Tiles or PicassoTiles:** Magnetic building tiles are incredibly popular for open-ended construction and developing spatial reasoning.\n",
            "    *   **Wooden Blocks:** A classic for building towers, houses, and more.\n",
            "\n",
            "3.  **Imaginative & Role-Playing Toys:**\n",
            "    *   **Dress-Up Clothes/Costumes:** Princess, superhero, doctor, chef, or animal costumes encourage pretend play.\n",
            "    *   **Dollhouse or Play Kitchen Accessories:** If she already has a dollhouse or kitchen, accessories like furniture, food sets, or play dishes are always welcome.\n",
            "    *   **Puppets:** Hand puppets or a puppet theater can spark storytelling.\n",
            "    *   **Action Figures or Dolls:** Depending on her interests (e.g., Barbie, Disney Princess dolls, action figures like PJ Masks).\n",
            "\n",
            "4.  **Books:**\n",
            "    *   **Picture Books or Early Readers:** Look for popular series, books with strong female protagonists, or engaging stories that she can \"read\" along with you.\n",
            "    *   **Interactive Books:** Pop-up books, lift-the-flap books, or sound books.\n",
            "    *   **Activity Books:** Sticker books, maze books, or \"seek and find\" books.\n",
            "\n",
            "5.  **Outdoor & Active Play:**\n",
            "    *   **Scooter or Tricycle:** If she doesn't have one or is ready for an upgrade. (Don't forget a helmet!)\n",
            "    *   **Jump Rope:** A simple classic for active fun.\n",
            "    *   **Bubble Machine or Giant Bubble Wands:** Always magical for young kids.\n",
            "    *   **Gardening Set:** A child-sized set with tools, gloves, and perhaps some seeds for an easy-to-grow plant.\n",
            "\n",
            "6.  **Educational & STEM (Science, Technology, Engineering, Math):**\n",
            "    *   **Kids' Microscope or Binoculars:** Simple, durable ones designed for small hands to explore nature.\n",
            "    *   **Beginner Board Games:** Games like Candyland, Chutes and Ladders, Zingo, or simple matching/memory games teach turn-taking and basic strategy.\n",
            "    *   **Jigsaw Puzzles:** 24-piece to 60-piece puzzles are usually a good challenge for this age.\n",
            "\n",
            "**Pro-Tip:** If you can discreetly ask her parents about her current favorite characters, animals, or activities, that will help you narrow down the best choice!\n",
            "-----------------------------------------------------------\n",
            "Function calls:\n",
            "\n",
            "-----------------------------------------------------------\n",
            "Raw response:\n",
            "{\"sdk_http_response\":{\"headers\":{\"Content-Type\":\"application/json; charset=UTF-8\",\"Vary\":\"Origin, X-Origin, Referer\",\"Content-Encoding\":\"gzip\",\"Date\":\"Thu, 23 Oct 2025 16:19:50 GMT\",\"Server\":\"scaffolding on HTTPServer2\",\"X-XSS-Protection\":\"0\",\"X-Frame-Options\":\"SAMEORIGIN\",\"X-Content-Type-Options\":\"nosniff\",\"Transfer-Encoding\":\"chunked\"}},\"candidates\":[{\"content\":{\"parts\":[{\"text\":\"That's a fun age to shop for! Five-year-olds are often full of imagination and developing many new skills. Here are some birthday present recommendations, keeping a variety of interests in mind:\\n\\n1.  **Creative & Art Supplies:**\\n    *   **Art Easel:** A standing easel (double-sided with chalkboard and dry-erase) is fantastic for drawing, painting, and imaginative play.\\n    *   **Craft Kits:** Look for kits for making jewelry, decorating suncatchers, scratch art, or simple sewing/weaving projects designed for kids.\\n    *   **Play-Doh or Modeling Clay Sets:** Always a hit for sensory play and sculpting.\\n    *   **Large Coloring Books or Activity Pads:** Paired with crayons, colored pencils, or washable markers.\\n\\n2.  **Building & Construction Toys:**\\n    *   **LEGO Duplo or LEGO Juniors/4+ Sets:** These are great for transitioning from larger blocks to smaller LEGO bricks, with themes like Disney princesses, superheroes, or city vehicles.\\n    *   **Magna-Tiles or PicassoTiles:** Magnetic building tiles are incredibly popular for open-ended construction and developing spatial reasoning.\\n    *   **Wooden Blocks:** A classic for building towers, houses, and more.\\n\\n3.  **Imaginative & Role-Playing Toys:**\\n    *   **Dress-Up Clothes/Costumes:** Princess, superhero, doctor, chef, or animal costumes encourage pretend play.\\n    *   **Dollhouse or Play Kitchen Accessories:** If she already has a dollhouse or kitchen, accessories like furniture, food sets, or play dishes are always welcome.\\n    *   **Puppets:** Hand puppets or a puppet theater can spark storytelling.\\n    *   **Action Figures or Dolls:** Depending on her interests (e.g., Barbie, Disney Princess dolls, action figures like PJ Masks).\\n\\n4.  **Books:**\\n    *   **Picture Books or Early Readers:** Look for popular series, books with strong female protagonists, or engaging stories that she can \\\"read\\\" along with you.\\n    *   **Interactive Books:** Pop-up books, lift-the-flap books, or sound books.\\n    *   **Activity Books:** Sticker books, maze books, or \\\"seek and find\\\" books.\\n\\n5.  **Outdoor & Active Play:**\\n    *   **Scooter or Tricycle:** If she doesn't have one or is ready for an upgrade. (Don't forget a helmet!)\\n    *   **Jump Rope:** A simple classic for active fun.\\n    *   **Bubble Machine or Giant Bubble Wands:** Always magical for young kids.\\n    *   **Gardening Set:** A child-sized set with tools, gloves, and perhaps some seeds for an easy-to-grow plant.\\n\\n6.  **Educational & STEM (Science, Technology, Engineering, Math):**\\n    *   **Kids' Microscope or Binoculars:** Simple, durable ones designed for small hands to explore nature.\\n    *   **Beginner Board Games:** Games like Candyland, Chutes and Ladders, Zingo, or simple matching/memory games teach turn-taking and basic strategy.\\n    *   **Jigsaw Puzzles:** 24-piece to 60-piece puzzles are usually a good challenge for this age.\\n\\n**Pro-Tip:** If you can discreetly ask her parents about her current favorite characters, animals, or activities, that will help you narrow down the best choice!\"}],\"role\":\"model\"},\"finish_reason\":\"STOP\",\"avg_logprobs\":-0.39827071788699125}],\"create_time\":\"2025-10-23T16:19:42.978379Z\",\"model_version\":\"gemini-2.5-flash\",\"response_id\":\"nlX6aMvbO62g3NoPg96PgAY\",\"usage_metadata\":{\"candidates_token_count\":731,\"candidates_tokens_details\":[{\"modality\":\"TEXT\",\"token_count\":731}],\"prompt_token_count\":40,\"prompt_tokens_details\":[{\"modality\":\"TEXT\",\"token_count\":40}],\"thoughts_token_count\":174,\"total_token_count\":945,\"traffic_type\":\"ON_DEMAND\"},\"automatic_function_calling_history\":[]}\n",
            "-----------------------------------------------------------\n",
            "\n",
            "INFO:google_adk.google.adk.models.google_llm:Sending out request, model: gemini-2.5-flash, backend: GoogleLLMVariant.VERTEX_AI, stream: False\n",
            "DEBUG:google_adk.google.adk.models.google_llm:\n",
            "LLM Request:\n",
            "-----------------------------------------------------------\n",
            "System Instruction:\n",
            "Answer the user's questions\n",
            "\n",
            "You are an agent. Your internal name is \"Generic_QA_Agent\".\n",
            "-----------------------------------------------------------\n",
            "Config:\n",
            "{'labels': {'adk_agent_name': 'Generic_QA_Agent'}}\n",
            "-----------------------------------------------------------\n",
            "Contents:\n",
            "{\"parts\":[{\"text\":\"I have a five year old niece. What recommendations do you have for birthday presents?\"}],\"role\":\"user\"}\n",
            "{\"parts\":[{\"text\":\"That's a fun age to shop for! Five-year-olds are often full of imagination and developing many new skills. Here are some birthday present recommendations, keeping a variety of interests in mind:\\n\\n1.  **Creative & Art Supplies:**\\n    *   **Art Easel:** A standing easel (double-sided with chalkboard and dry-erase) is fantastic for drawing, painting, and imaginative play.\\n    *   **Craft Kits:** Look for kits for making jewelry, decorating suncatchers, scratch art, or simple sewing/weaving projects designed for kids.\\n    *   **Play-Doh or Modeling Clay Sets:** Always a hit for sensory play and sculpting.\\n    *   **Large Coloring Books or Activity Pads:** Paired with crayons, colored pencils, or washable markers.\\n\\n2.  **Building & Construction Toys:**\\n    *   **LEGO Duplo or LEGO Juniors/4+ Sets:** These are great for transitioning from larger blocks to smaller LEGO bricks, with themes like Disney princesses, superheroes, or city vehicles.\\n    *   **Magna-Tiles or PicassoTiles:** Magnetic building tiles are incredibly popular for open-ended construction and developing spatial reasoning.\\n    *   **Wooden Blocks:** A classic for building towers, houses, and more.\\n\\n3.  **Imaginative & Role-Playing Toys:**\\n    *   **Dress-Up Clothes/Costumes:** Princess, superhero, doctor, chef, or animal costumes encourage pretend play.\\n    *   **Dollhouse or Play Kitchen Accessories:** If she already has a dollhouse or kitchen, accessories like furniture, food sets, or play dishes are always welcome.\\n    *   **Puppets:** Hand puppets or a puppet theater can spark storytelling.\\n    *   **Action Figures or Dolls:** Depending on her interests (e.g., Barbie, Disney Princess dolls, action figures like PJ Masks).\\n\\n4.  **Books:**\\n    *   **Picture Books or Early Readers:** Look for popular series, books with strong female protagonists, or engaging stories that she can \\\"read\\\" along with you.\\n    *   **Interactive Books:** Pop-up books, lift-the-flap books, or sound books.\\n    *   **Activity Books:** Sticker books, maze books, or \\\"seek and find\\\" books.\\n\\n5.  **Outdoor & Active Play:**\\n    *   **Scooter or Tricycle:** If she doesn't have one or is ready for an upgrade. (Don't forget a helmet!)\\n    *   **Jump Rope:** A simple classic for active fun.\\n    *   **Bubble Machine or Giant Bubble Wands:** Always magical for young kids.\\n    *   **Gardening Set:** A child-sized set with tools, gloves, and perhaps some seeds for an easy-to-grow plant.\\n\\n6.  **Educational & STEM (Science, Technology, Engineering, Math):**\\n    *   **Kids' Microscope or Binoculars:** Simple, durable ones designed for small hands to explore nature.\\n    *   **Beginner Board Games:** Games like Candyland, Chutes and Ladders, Zingo, or simple matching/memory games teach turn-taking and basic strategy.\\n    *   **Jigsaw Puzzles:** 24-piece to 60-piece puzzles are usually a good challenge for this age.\\n\\n**Pro-Tip:** If you can discreetly ask her parents about her current favorite characters, animals, or activities, that will help you narrow down the best choice!\"}],\"role\":\"model\"}\n",
            "{\"parts\":[{\"text\":\"I like the idea of a bike. Are there any age appropriate options?\"}],\"role\":\"user\"}\n",
            "-----------------------------------------------------------\n",
            "Functions:\n",
            "\n",
            "-----------------------------------------------------------\n",
            "\n"
          ]
        },
        {
          "output_type": "stream",
          "name": "stdout",
          "text": [
            "Agent Response:  That's a fun age to shop for! Five-year-olds are often full of imagination and developing many new skills. Here are some birthday present recommendations, keeping a variety of interests in mind:\n",
            "\n",
            "1.  **Creative & Art Supplies:**\n",
            "    *   **Art Easel:** A standing easel (double-sided with chalkboard and dry-erase) is fantastic for drawing, painting, and imaginative play.\n",
            "    *   **Craft Kits:** Look for kits for making jewelry, decorating suncatchers, scratch art, or simple sewing/weaving projects designed for kids.\n",
            "    *   **Play-Doh or Modeling Clay Sets:** Always a hit for sensory play and sculpting.\n",
            "    *   **Large Coloring Books or Activity Pads:** Paired with crayons, colored pencils, or washable markers.\n",
            "\n",
            "2.  **Building & Construction Toys:**\n",
            "    *   **LEGO Duplo or LEGO Juniors/4+ Sets:** These are great for transitioning from larger blocks to smaller LEGO bricks, with themes like Disney princesses, superheroes, or city vehicles.\n",
            "    *   **Magna-Tiles or PicassoTiles:** Magnetic building tiles are incredibly popular for open-ended construction and developing spatial reasoning.\n",
            "    *   **Wooden Blocks:** A classic for building towers, houses, and more.\n",
            "\n",
            "3.  **Imaginative & Role-Playing Toys:**\n",
            "    *   **Dress-Up Clothes/Costumes:** Princess, superhero, doctor, chef, or animal costumes encourage pretend play.\n",
            "    *   **Dollhouse or Play Kitchen Accessories:** If she already has a dollhouse or kitchen, accessories like furniture, food sets, or play dishes are always welcome.\n",
            "    *   **Puppets:** Hand puppets or a puppet theater can spark storytelling.\n",
            "    *   **Action Figures or Dolls:** Depending on her interests (e.g., Barbie, Disney Princess dolls, action figures like PJ Masks).\n",
            "\n",
            "4.  **Books:**\n",
            "    *   **Picture Books or Early Readers:** Look for popular series, books with strong female protagonists, or engaging stories that she can \"read\" along with you.\n",
            "    *   **Interactive Books:** Pop-up books, lift-the-flap books, or sound books.\n",
            "    *   **Activity Books:** Sticker books, maze books, or \"seek and find\" books.\n",
            "\n",
            "5.  **Outdoor & Active Play:**\n",
            "    *   **Scooter or Tricycle:** If she doesn't have one or is ready for an upgrade. (Don't forget a helmet!)\n",
            "    *   **Jump Rope:** A simple classic for active fun.\n",
            "    *   **Bubble Machine or Giant Bubble Wands:** Always magical for young kids.\n",
            "    *   **Gardening Set:** A child-sized set with tools, gloves, and perhaps some seeds for an easy-to-grow plant.\n",
            "\n",
            "6.  **Educational & STEM (Science, Technology, Engineering, Math):**\n",
            "    *   **Kids' Microscope or Binoculars:** Simple, durable ones designed for small hands to explore nature.\n",
            "    *   **Beginner Board Games:** Games like Candyland, Chutes and Ladders, Zingo, or simple matching/memory games teach turn-taking and basic strategy.\n",
            "    *   **Jigsaw Puzzles:** 24-piece to 60-piece puzzles are usually a good challenge for this age.\n",
            "\n",
            "**Pro-Tip:** If you can discreetly ask her parents about her current favorite characters, animals, or activities, that will help you narrow down the best choice!\n"
          ]
        },
        {
          "output_type": "stream",
          "name": "stderr",
          "text": [
            "INFO:google_adk.google.adk.models.google_llm:Response received from the model.\n",
            "DEBUG:google_adk.google.adk.models.google_llm:\n",
            "LLM Response:\n",
            "-----------------------------------------------------------\n",
            "Text:\n",
            "That's a fantastic idea! A bike is a wonderful gift for a five-year-old, promoting physical activity, coordination, and independence. At this age, many children are either just learning to ride or refining their skills.\n",
            "\n",
            "Here are some age-appropriate options and key things to consider for a 5-year-old:\n",
            "\n",
            "1.  **16-Inch Wheel Bikes (Most Common for 5-Year-Olds):**\n",
            "    *   **Size:** This is generally the most appropriate wheel size for a 5-year-old. A child between **40-48 inches tall (approx. 102-122 cm)** with an inseam of **18-22 inches (approx. 45-55 cm)** will typically fit a 16-inch bike. The most important thing is that her feet can touch the ground comfortably when seated, or at least the balls of her feet for stability.\n",
            "    *   **Training Wheels:** Many 16-inch bikes come with removable training wheels. This is often the stage where kids transition *off* training wheels, but some might still need them for a short period.\n",
            "    *   **Brakes:** Look for bikes with a **coaster brake** (pedaling backward to stop). Some will also include a **front hand brake**, which is great for teaching them how to use it, but coaster brakes are often easier for younger kids to master initially.\n",
            "    *   **Single Speed:** A single-speed bike is perfect. Gears are unnecessary and would only add complexity at this age.\n",
            "    *   **Durability:** Look for a sturdy, but not overly heavy, frame. Aluminum frames are lighter and easier for kids to maneuver.\n",
            "    *   **Adjustable Seat:** Ensure the seat height is easily adjustable to grow with her.\n",
            "\n",
            "2.  **Balance Bikes (If She Hasn't Used One):**\n",
            "    *   **Alternative/Pre-Training:** If she hasn't used a balance bike before, and isn't quite ready for pedals, a larger balance bike could still be a great option. Some 5-year-olds are still developing the fundamental balancing skills. Using a balance bike for a few weeks or months can dramatically speed up the transition to a pedal bike without training wheels.\n",
            "    *   **Benefits:** They teach balance and steering without the distraction of pedals, making the eventual transition to a pedal bike much smoother (often bypassing training wheels entirely).\n",
            "\n",
            "**Key Considerations When Buying:**\n",
            "\n",
            "*   **Fit is Paramount:** More than the wheel size, ensure the bike fits *her*. Have her sit on it. Can she comfortably touch the ground with her tiptoes or the balls of her feet? Can she reach the handlebars comfortably without stretching too much?\n",
            "*   **Weight of the Bike:** A heavy bike can be very frustrating and difficult for a child to control and learn on. Try to find one that's relatively light.\n",
            "*   **Safety Gear:** A **properly fitting helmet** is absolutely non-negotiable. It's the most important accessory and should be part of the gift. You might also consider knee and elbow pads.\n",
            "*   **Testing it Out:** If possible, let her try sitting on a few bikes in a store. Her excitement and comfort level can tell you a lot!\n",
            "*   **Personalization:** Does she have a favorite color or character? Many kids' bikes come in fun designs that can make the gift even more special.\n",
            "\n",
            "**Brands to Consider (often good quality for kids' bikes):**\n",
            "\n",
            "*   **Specialized, Trek, Giant, Prevelo, Woom:** These are generally higher-end kids' bikes, very lightweight and well-designed for learning.\n",
            "*   **Schwinn, Huffy, RoyalBaby, Dynacraft:** More budget-friendly options, often found at larger retailers. Just be sure to check the weight and build quality.\n",
            "\n",
            "A bike is a truly memorable gift that will provide countless hours of fun and skill development!\n",
            "-----------------------------------------------------------\n",
            "Function calls:\n",
            "\n",
            "-----------------------------------------------------------\n",
            "Raw response:\n",
            "{\"sdk_http_response\":{\"headers\":{\"Content-Type\":\"application/json; charset=UTF-8\",\"Vary\":\"Origin, X-Origin, Referer\",\"Content-Encoding\":\"gzip\",\"Date\":\"Thu, 23 Oct 2025 16:20:01 GMT\",\"Server\":\"scaffolding on HTTPServer2\",\"X-XSS-Protection\":\"0\",\"X-Frame-Options\":\"SAMEORIGIN\",\"X-Content-Type-Options\":\"nosniff\",\"Transfer-Encoding\":\"chunked\"}},\"candidates\":[{\"content\":{\"parts\":[{\"text\":\"That's a fantastic idea! A bike is a wonderful gift for a five-year-old, promoting physical activity, coordination, and independence. At this age, many children are either just learning to ride or refining their skills.\\n\\nHere are some age-appropriate options and key things to consider for a 5-year-old:\\n\\n1.  **16-Inch Wheel Bikes (Most Common for 5-Year-Olds):**\\n    *   **Size:** This is generally the most appropriate wheel size for a 5-year-old. A child between **40-48 inches tall (approx. 102-122 cm)** with an inseam of **18-22 inches (approx. 45-55 cm)** will typically fit a 16-inch bike. The most important thing is that her feet can touch the ground comfortably when seated, or at least the balls of her feet for stability.\\n    *   **Training Wheels:** Many 16-inch bikes come with removable training wheels. This is often the stage where kids transition *off* training wheels, but some might still need them for a short period.\\n    *   **Brakes:** Look for bikes with a **coaster brake** (pedaling backward to stop). Some will also include a **front hand brake**, which is great for teaching them how to use it, but coaster brakes are often easier for younger kids to master initially.\\n    *   **Single Speed:** A single-speed bike is perfect. Gears are unnecessary and would only add complexity at this age.\\n    *   **Durability:** Look for a sturdy, but not overly heavy, frame. Aluminum frames are lighter and easier for kids to maneuver.\\n    *   **Adjustable Seat:** Ensure the seat height is easily adjustable to grow with her.\\n\\n2.  **Balance Bikes (If She Hasn't Used One):**\\n    *   **Alternative/Pre-Training:** If she hasn't used a balance bike before, and isn't quite ready for pedals, a larger balance bike could still be a great option. Some 5-year-olds are still developing the fundamental balancing skills. Using a balance bike for a few weeks or months can dramatically speed up the transition to a pedal bike without training wheels.\\n    *   **Benefits:** They teach balance and steering without the distraction of pedals, making the eventual transition to a pedal bike much smoother (often bypassing training wheels entirely).\\n\\n**Key Considerations When Buying:**\\n\\n*   **Fit is Paramount:** More than the wheel size, ensure the bike fits *her*. Have her sit on it. Can she comfortably touch the ground with her tiptoes or the balls of her feet? Can she reach the handlebars comfortably without stretching too much?\\n*   **Weight of the Bike:** A heavy bike can be very frustrating and difficult for a child to control and learn on. Try to find one that's relatively light.\\n*   **Safety Gear:** A **properly fitting helmet** is absolutely non-negotiable. It's the most important accessory and should be part of the gift. You might also consider knee and elbow pads.\\n*   **Testing it Out:** If possible, let her try sitting on a few bikes in a store. Her excitement and comfort level can tell you a lot!\\n*   **Personalization:** Does she have a favorite color or character? Many kids' bikes come in fun designs that can make the gift even more special.\\n\\n**Brands to Consider (often good quality for kids' bikes):**\\n\\n*   **Specialized, Trek, Giant, Prevelo, Woom:** These are generally higher-end kids' bikes, very lightweight and well-designed for learning.\\n*   **Schwinn, Huffy, RoyalBaby, Dynacraft:** More budget-friendly options, often found at larger retailers. Just be sure to check the weight and build quality.\\n\\nA bike is a truly memorable gift that will provide countless hours of fun and skill development!\"}],\"role\":\"model\"},\"finish_reason\":\"STOP\",\"avg_logprobs\":-0.48597726400322955}],\"create_time\":\"2025-10-23T16:19:52.488150Z\",\"model_version\":\"gemini-2.5-flash\",\"response_id\":\"qFX6aNblHaeonvgPirTKyQE\",\"usage_metadata\":{\"candidates_token_count\":837,\"candidates_tokens_details\":[{\"modality\":\"TEXT\",\"token_count\":837}],\"prompt_token_count\":786,\"prompt_tokens_details\":[{\"modality\":\"TEXT\",\"token_count\":786}],\"thoughts_token_count\":281,\"total_token_count\":1904,\"traffic_type\":\"ON_DEMAND\"},\"automatic_function_calling_history\":[]}\n",
            "-----------------------------------------------------------\n",
            "\n"
          ]
        },
        {
          "output_type": "stream",
          "name": "stdout",
          "text": [
            "Agent Response:  That's a fantastic idea! A bike is a wonderful gift for a five-year-old, promoting physical activity, coordination, and independence. At this age, many children are either just learning to ride or refining their skills.\n",
            "\n",
            "Here are some age-appropriate options and key things to consider for a 5-year-old:\n",
            "\n",
            "1.  **16-Inch Wheel Bikes (Most Common for 5-Year-Olds):**\n",
            "    *   **Size:** This is generally the most appropriate wheel size for a 5-year-old. A child between **40-48 inches tall (approx. 102-122 cm)** with an inseam of **18-22 inches (approx. 45-55 cm)** will typically fit a 16-inch bike. The most important thing is that her feet can touch the ground comfortably when seated, or at least the balls of her feet for stability.\n",
            "    *   **Training Wheels:** Many 16-inch bikes come with removable training wheels. This is often the stage where kids transition *off* training wheels, but some might still need them for a short period.\n",
            "    *   **Brakes:** Look for bikes with a **coaster brake** (pedaling backward to stop). Some will also include a **front hand brake**, which is great for teaching them how to use it, but coaster brakes are often easier for younger kids to master initially.\n",
            "    *   **Single Speed:** A single-speed bike is perfect. Gears are unnecessary and would only add complexity at this age.\n",
            "    *   **Durability:** Look for a sturdy, but not overly heavy, frame. Aluminum frames are lighter and easier for kids to maneuver.\n",
            "    *   **Adjustable Seat:** Ensure the seat height is easily adjustable to grow with her.\n",
            "\n",
            "2.  **Balance Bikes (If She Hasn't Used One):**\n",
            "    *   **Alternative/Pre-Training:** If she hasn't used a balance bike before, and isn't quite ready for pedals, a larger balance bike could still be a great option. Some 5-year-olds are still developing the fundamental balancing skills. Using a balance bike for a few weeks or months can dramatically speed up the transition to a pedal bike without training wheels.\n",
            "    *   **Benefits:** They teach balance and steering without the distraction of pedals, making the eventual transition to a pedal bike much smoother (often bypassing training wheels entirely).\n",
            "\n",
            "**Key Considerations When Buying:**\n",
            "\n",
            "*   **Fit is Paramount:** More than the wheel size, ensure the bike fits *her*. Have her sit on it. Can she comfortably touch the ground with her tiptoes or the balls of her feet? Can she reach the handlebars comfortably without stretching too much?\n",
            "*   **Weight of the Bike:** A heavy bike can be very frustrating and difficult for a child to control and learn on. Try to find one that's relatively light.\n",
            "*   **Safety Gear:** A **properly fitting helmet** is absolutely non-negotiable. It's the most important accessory and should be part of the gift. You might also consider knee and elbow pads.\n",
            "*   **Testing it Out:** If possible, let her try sitting on a few bikes in a store. Her excitement and comfort level can tell you a lot!\n",
            "*   **Personalization:** Does she have a favorite color or character? Many kids' bikes come in fun designs that can make the gift even more special.\n",
            "\n",
            "**Brands to Consider (often good quality for kids' bikes):**\n",
            "\n",
            "*   **Specialized, Trek, Giant, Prevelo, Woom:** These are generally higher-end kids' bikes, very lightweight and well-designed for learning.\n",
            "*   **Schwinn, Huffy, RoyalBaby, Dynacraft:** More budget-friendly options, often found at larger retailers. Just be sure to check the weight and build quality.\n",
            "\n",
            "A bike is a truly memorable gift that will provide countless hours of fun and skill development!\n"
          ]
        }
      ],
      "source": [
        "recommendations_session = await session_service.create_session(\n",
        "    app_name=APP_NAME, user_id=USER_ID\n",
        ")\n",
        "\n",
        "call_agent(\n",
        "    \"I have a five year old niece. What recommendations do you have for birthday presents?\",\n",
        "    recommendations_session.id,\n",
        "    user_id=USER_ID,\n",
        ")\n",
        "call_agent(\n",
        "    \"I like the idea of a bike. Are there any age appropriate options?\",\n",
        "    recommendations_session.id,\n",
        "    user_id=USER_ID,\n",
        ")\n",
        "\n",
        "recommendations_session = await session_service.get_session(\n",
        "    app_name=APP_NAME, user_id=USER_ID, session_id=recommendations_session.id\n",
        ")"
      ]
    },
    {
      "cell_type": "markdown",
      "metadata": {
        "id": "0-bWy4LlTjio"
      },
      "source": [
        "### InMemoryMemoryService\n",
        "\n",
        "First, let's see what memories are extracted from the conversation using `InMemoryMemoryService`\n",
        "\n",
        "The memories include the raw dialogue of the conversation."
      ]
    },
    {
      "cell_type": "code",
      "execution_count": 16,
      "metadata": {
        "id": "D6PyuoF7_dz2"
      },
      "outputs": [],
      "source": [
        "await in_memory_service.add_session_to_memory(chit_chat_session)\n",
        "await in_memory_service.add_session_to_memory(recommendations_session)"
      ]
    },
    {
      "cell_type": "code",
      "execution_count": 17,
      "metadata": {
        "colab": {
          "base_uri": "https://localhost:8080/"
        },
        "id": "IP1_NjgjTzO0",
        "outputId": "c16bd9fb-868d-44f5-ab10-5f8128b3aaec"
      },
      "outputs": [
        {
          "output_type": "execute_result",
          "data": {
            "text/plain": [
              "{'memory_ForUnstacked_class/My User': {'5f3af289-e862-4c7c-9b3a-2a971a8dc668': [Event(content=Content(\n",
              "     parts=[\n",
              "       Part(\n",
              "         text='what types of questions do you answer'\n",
              "       ),\n",
              "     ],\n",
              "     role='user'\n",
              "   ), grounding_metadata=None, partial=None, turn_complete=None, finish_reason=None, error_code=None, error_message=None, interrupted=None, custom_metadata=None, usage_metadata=None, live_session_resumption_update=None, input_transcription=None, output_transcription=None, avg_logprobs=None, logprobs_result=None, cache_metadata=None, citation_metadata=None, invocation_id='e-0f308501-2c8c-4055-b1eb-a1b0f3bb4e36', author='user', actions=EventActions(skip_summarization=None, state_delta={}, artifact_delta={}, transfer_to_agent=None, escalate=None, requested_auth_configs={}, requested_tool_confirmations={}, compaction=None, end_of_agent=None, agent_state=None, rewind_before_invocation_id=None), long_running_tool_ids=None, branch=None, id='aaf42c92-c6bb-4aea-8f0d-9f7201c5e75f', timestamp=1761236214.182216),\n",
              "   Event(content=Content(\n",
              "     parts=[\n",
              "       Part(\n",
              "         text=\"\"\"As a large language model, I'm designed to answer a very wide variety of questions across many domains. Here are some general categories:\n",
              "   \n",
              "   1.  **Factual Information:**\n",
              "       *   Definitions of terms and concepts.\n",
              "       *   Historical events, dates, and figures.\n",
              "       *   Scientific principles and explanations.\n",
              "       *   Geographical facts.\n",
              "       *   Information about people, places, things, and ideas.\n",
              "   \n",
              "   2.  **Explanations and How-Tos:**\n",
              "       *   How things work.\n",
              "       *   Step-by-step instructions for tasks (e.g., how to bake a cake, how to write a formal email).\n",
              "       *   Concepts clarified in simpler terms.\n",
              "   \n",
              "   3.  **Creative and Generative Tasks:**\n",
              "       *   Writing different kinds of creative content (poems, stories, scripts, song lyrics, emails, code snippets).\n",
              "       *   Brainstorming ideas (e.g., for names, topics, projects).\n",
              "       *   Summarizing long texts or articles.\n",
              "       *   Translating languages.\n",
              "   \n",
              "   4.  **Problem-Solving and Logic:**\n",
              "       *   Mathematical problems.\n",
              "       *   Logical puzzles.\n",
              "       *   Coding assistance and debugging.\n",
              "       *   Offering different perspectives on a problem.\n",
              "   \n",
              "   5.  **Comparisons and Recommendations:**\n",
              "       *   Comparing different products, concepts, or ideas.\n",
              "       *   Suggesting books, movies, places, or activities based on criteria (though I don't have personal preferences, I can leverage data).\n",
              "   \n",
              "   6.  **Language and Grammar:**\n",
              "       *   Grammar correction.\n",
              "       *   Synonyms and antonyms.\n",
              "       *   Explaining linguistic nuances.\n",
              "   \n",
              "   Essentially, if a question can be answered with information or logic that a highly knowledgeable entity would possess, I can likely provide a helpful response.\n",
              "   \n",
              "   **What I generally *cannot* do:**\n",
              "   *   Provide personal opinions or feelings.\n",
              "   *   Access real-time private or proprietary information (like checking your bank account).\n",
              "   *   Perform actions in the real world.\n",
              "   *   Engage in sentient thought or consciousness.\n",
              "   *   Predict the future with certainty.\"\"\"\n",
              "       ),\n",
              "     ],\n",
              "     role='model'\n",
              "   ), grounding_metadata=None, partial=None, turn_complete=None, finish_reason=<FinishReason.STOP: 'STOP'>, error_code=None, error_message=None, interrupted=None, custom_metadata=None, usage_metadata=GenerateContentResponseUsageMetadata(\n",
              "     candidates_token_count=454,\n",
              "     candidates_tokens_details=[\n",
              "       ModalityTokenCount(\n",
              "         modality=<MediaModality.TEXT: 'TEXT'>,\n",
              "         token_count=454\n",
              "       ),\n",
              "     ],\n",
              "     prompt_token_count=30,\n",
              "     prompt_tokens_details=[\n",
              "       ModalityTokenCount(\n",
              "         modality=<MediaModality.TEXT: 'TEXT'>,\n",
              "         token_count=30\n",
              "       ),\n",
              "     ],\n",
              "     thoughts_token_count=161,\n",
              "     total_token_count=645,\n",
              "     traffic_type=<TrafficType.ON_DEMAND: 'ON_DEMAND'>\n",
              "   ), live_session_resumption_update=None, input_transcription=None, output_transcription=None, avg_logprobs=-0.3791149996450819, logprobs_result=None, cache_metadata=None, citation_metadata=None, invocation_id='e-0f308501-2c8c-4055-b1eb-a1b0f3bb4e36', author='Generic_QA_Agent', actions=EventActions(skip_summarization=None, state_delta={}, artifact_delta={}, transfer_to_agent=None, escalate=None, requested_auth_configs={}, requested_tool_confirmations={}, compaction=None, end_of_agent=None, agent_state=None, rewind_before_invocation_id=None), long_running_tool_ids=None, branch=None, id='9d2001de-1436-4014-bc69-fc4e3ddca244', timestamp=1761236214.183785)],\n",
              "  '02a965d5-c974-4929-93a5-3dfd4b250839': [Event(content=Content(\n",
              "     parts=[\n",
              "       Part(\n",
              "         text='I have a five year old niece. What recommendations do you have for birthday presents?'\n",
              "       ),\n",
              "     ],\n",
              "     role='user'\n",
              "   ), grounding_metadata=None, partial=None, turn_complete=None, finish_reason=None, error_code=None, error_message=None, interrupted=None, custom_metadata=None, usage_metadata=None, live_session_resumption_update=None, input_transcription=None, output_transcription=None, avg_logprobs=None, logprobs_result=None, cache_metadata=None, citation_metadata=None, invocation_id='e-c41c9a61-60c3-4468-b0aa-b254186c2eba', author='user', actions=EventActions(skip_summarization=None, state_delta={}, artifact_delta={}, transfer_to_agent=None, escalate=None, requested_auth_configs={}, requested_tool_confirmations={}, compaction=None, end_of_agent=None, agent_state=None, rewind_before_invocation_id=None), long_running_tool_ids=None, branch=None, id='69e89828-8cec-47bc-b234-5d12bb7c7859', timestamp=1761236380.336747),\n",
              "   Event(content=Content(\n",
              "     parts=[\n",
              "       Part(\n",
              "         text=\"\"\"That's a fun age to shop for! Five-year-olds are often full of imagination and developing many new skills. Here are some birthday present recommendations, keeping a variety of interests in mind:\n",
              "   \n",
              "   1.  **Creative & Art Supplies:**\n",
              "       *   **Art Easel:** A standing easel (double-sided with chalkboard and dry-erase) is fantastic for drawing, painting, and imaginative play.\n",
              "       *   **Craft Kits:** Look for kits for making jewelry, decorating suncatchers, scratch art, or simple sewing/weaving projects designed for kids.\n",
              "       *   **Play-Doh or Modeling Clay Sets:** Always a hit for sensory play and sculpting.\n",
              "       *   **Large Coloring Books or Activity Pads:** Paired with crayons, colored pencils, or washable markers.\n",
              "   \n",
              "   2.  **Building & Construction Toys:**\n",
              "       *   **LEGO Duplo or LEGO Juniors/4+ Sets:** These are great for transitioning from larger blocks to smaller LEGO bricks, with themes like Disney princesses, superheroes, or city vehicles.\n",
              "       *   **Magna-Tiles or PicassoTiles:** Magnetic building tiles are incredibly popular for open-ended construction and developing spatial reasoning.\n",
              "       *   **Wooden Blocks:** A classic for building towers, houses, and more.\n",
              "   \n",
              "   3.  **Imaginative & Role-Playing Toys:**\n",
              "       *   **Dress-Up Clothes/Costumes:** Princess, superhero, doctor, chef, or animal costumes encourage pretend play.\n",
              "       *   **Dollhouse or Play Kitchen Accessories:** If she already has a dollhouse or kitchen, accessories like furniture, food sets, or play dishes are always welcome.\n",
              "       *   **Puppets:** Hand puppets or a puppet theater can spark storytelling.\n",
              "       *   **Action Figures or Dolls:** Depending on her interests (e.g., Barbie, Disney Princess dolls, action figures like PJ Masks).\n",
              "   \n",
              "   4.  **Books:**\n",
              "       *   **Picture Books or Early Readers:** Look for popular series, books with strong female protagonists, or engaging stories that she can \"read\" along with you.\n",
              "       *   **Interactive Books:** Pop-up books, lift-the-flap books, or sound books.\n",
              "       *   **Activity Books:** Sticker books, maze books, or \"seek and find\" books.\n",
              "   \n",
              "   5.  **Outdoor & Active Play:**\n",
              "       *   **Scooter or Tricycle:** If she doesn't have one or is ready for an upgrade. (Don't forget a helmet!)\n",
              "       *   **Jump Rope:** A simple classic for active fun.\n",
              "       *   **Bubble Machine or Giant Bubble Wands:** Always magical for young kids.\n",
              "       *   **Gardening Set:** A child-sized set with tools, gloves, and perhaps some seeds for an easy-to-grow plant.\n",
              "   \n",
              "   6.  **Educational & STEM (Science, Technology, Engineering, Math):**\n",
              "       *   **Kids' Microscope or Binoculars:** Simple, durable ones designed for small hands to explore nature.\n",
              "       *   **Beginner Board Games:** Games like Candyland, Chutes and Ladders, Zingo, or simple matching/memory games teach turn-taking and basic strategy.\n",
              "       *   **Jigsaw Puzzles:** 24-piece to 60-piece puzzles are usually a good challenge for this age.\n",
              "   \n",
              "   **Pro-Tip:** If you can discreetly ask her parents about her current favorite characters, animals, or activities, that will help you narrow down the best choice!\"\"\"\n",
              "       ),\n",
              "     ],\n",
              "     role='model'\n",
              "   ), grounding_metadata=None, partial=None, turn_complete=None, finish_reason=<FinishReason.STOP: 'STOP'>, error_code=None, error_message=None, interrupted=None, custom_metadata=None, usage_metadata=GenerateContentResponseUsageMetadata(\n",
              "     candidates_token_count=731,\n",
              "     candidates_tokens_details=[\n",
              "       ModalityTokenCount(\n",
              "         modality=<MediaModality.TEXT: 'TEXT'>,\n",
              "         token_count=731\n",
              "       ),\n",
              "     ],\n",
              "     prompt_token_count=40,\n",
              "     prompt_tokens_details=[\n",
              "       ModalityTokenCount(\n",
              "         modality=<MediaModality.TEXT: 'TEXT'>,\n",
              "         token_count=40\n",
              "       ),\n",
              "     ],\n",
              "     thoughts_token_count=174,\n",
              "     total_token_count=945,\n",
              "     traffic_type=<TrafficType.ON_DEMAND: 'ON_DEMAND'>\n",
              "   ), live_session_resumption_update=None, input_transcription=None, output_transcription=None, avg_logprobs=-0.39827071788699125, logprobs_result=None, cache_metadata=None, citation_metadata=None, invocation_id='e-c41c9a61-60c3-4468-b0aa-b254186c2eba', author='Generic_QA_Agent', actions=EventActions(skip_summarization=None, state_delta={}, artifact_delta={}, transfer_to_agent=None, escalate=None, requested_auth_configs={}, requested_tool_confirmations={}, compaction=None, end_of_agent=None, agent_state=None, rewind_before_invocation_id=None), long_running_tool_ids=None, branch=None, id='41b56eb7-d4de-4eb4-b702-fc467bd826b8', timestamp=1761236380.337386),\n",
              "   Event(content=Content(\n",
              "     parts=[\n",
              "       Part(\n",
              "         text='I like the idea of a bike. Are there any age appropriate options?'\n",
              "       ),\n",
              "     ],\n",
              "     role='user'\n",
              "   ), grounding_metadata=None, partial=None, turn_complete=None, finish_reason=None, error_code=None, error_message=None, interrupted=None, custom_metadata=None, usage_metadata=None, live_session_resumption_update=None, input_transcription=None, output_transcription=None, avg_logprobs=None, logprobs_result=None, cache_metadata=None, citation_metadata=None, invocation_id='e-7f813319-6805-41d1-97fa-496728322155', author='user', actions=EventActions(skip_summarization=None, state_delta={}, artifact_delta={}, transfer_to_agent=None, escalate=None, requested_auth_configs={}, requested_tool_confirmations={}, compaction=None, end_of_agent=None, agent_state=None, rewind_before_invocation_id=None), long_running_tool_ids=None, branch=None, id='e6aebc37-59ec-47cc-aa0c-cda72cdc3b98', timestamp=1761236390.360022),\n",
              "   Event(content=Content(\n",
              "     parts=[\n",
              "       Part(\n",
              "         text=\"\"\"That's a fantastic idea! A bike is a wonderful gift for a five-year-old, promoting physical activity, coordination, and independence. At this age, many children are either just learning to ride or refining their skills.\n",
              "   \n",
              "   Here are some age-appropriate options and key things to consider for a 5-year-old:\n",
              "   \n",
              "   1.  **16-Inch Wheel Bikes (Most Common for 5-Year-Olds):**\n",
              "       *   **Size:** This is generally the most appropriate wheel size for a 5-year-old. A child between **40-48 inches tall (approx. 102-122 cm)** with an inseam of **18-22 inches (approx. 45-55 cm)** will typically fit a 16-inch bike. The most important thing is that her feet can touch the ground comfortably when seated, or at least the balls of her feet for stability.\n",
              "       *   **Training Wheels:** Many 16-inch bikes come with removable training wheels. This is often the stage where kids transition *off* training wheels, but some might still need them for a short period.\n",
              "       *   **Brakes:** Look for bikes with a **coaster brake** (pedaling backward to stop). Some will also include a **front hand brake**, which is great for teaching them how to use it, but coaster brakes are often easier for younger kids to master initially.\n",
              "       *   **Single Speed:** A single-speed bike is perfect. Gears are unnecessary and would only add complexity at this age.\n",
              "       *   **Durability:** Look for a sturdy, but not overly heavy, frame. Aluminum frames are lighter and easier for kids to maneuver.\n",
              "       *   **Adjustable Seat:** Ensure the seat height is easily adjustable to grow with her.\n",
              "   \n",
              "   2.  **Balance Bikes (If She Hasn't Used One):**\n",
              "       *   **Alternative/Pre-Training:** If she hasn't used a balance bike before, and isn't quite ready for pedals, a larger balance bike could still be a great option. Some 5-year-olds are still developing the fundamental balancing skills. Using a balance bike for a few weeks or months can dramatically speed up the transition to a pedal bike without training wheels.\n",
              "       *   **Benefits:** They teach balance and steering without the distraction of pedals, making the eventual transition to a pedal bike much smoother (often bypassing training wheels entirely).\n",
              "   \n",
              "   **Key Considerations When Buying:**\n",
              "   \n",
              "   *   **Fit is Paramount:** More than the wheel size, ensure the bike fits *her*. Have her sit on it. Can she comfortably touch the ground with her tiptoes or the balls of her feet? Can she reach the handlebars comfortably without stretching too much?\n",
              "   *   **Weight of the Bike:** A heavy bike can be very frustrating and difficult for a child to control and learn on. Try to find one that's relatively light.\n",
              "   *   **Safety Gear:** A **properly fitting helmet** is absolutely non-negotiable. It's the most important accessory and should be part of the gift. You might also consider knee and elbow pads.\n",
              "   *   **Testing it Out:** If possible, let her try sitting on a few bikes in a store. Her excitement and comfort level can tell you a lot!\n",
              "   *   **Personalization:** Does she have a favorite color or character? Many kids' bikes come in fun designs that can make the gift even more special.\n",
              "   \n",
              "   **Brands to Consider (often good quality for kids' bikes):**\n",
              "   \n",
              "   *   **Specialized, Trek, Giant, Prevelo, Woom:** These are generally higher-end kids' bikes, very lightweight and well-designed for learning.\n",
              "   *   **Schwinn, Huffy, RoyalBaby, Dynacraft:** More budget-friendly options, often found at larger retailers. Just be sure to check the weight and build quality.\n",
              "   \n",
              "   A bike is a truly memorable gift that will provide countless hours of fun and skill development!\"\"\"\n",
              "       ),\n",
              "     ],\n",
              "     role='model'\n",
              "   ), grounding_metadata=None, partial=None, turn_complete=None, finish_reason=<FinishReason.STOP: 'STOP'>, error_code=None, error_message=None, interrupted=None, custom_metadata=None, usage_metadata=GenerateContentResponseUsageMetadata(\n",
              "     candidates_token_count=837,\n",
              "     candidates_tokens_details=[\n",
              "       ModalityTokenCount(\n",
              "         modality=<MediaModality.TEXT: 'TEXT'>,\n",
              "         token_count=837\n",
              "       ),\n",
              "     ],\n",
              "     prompt_token_count=786,\n",
              "     prompt_tokens_details=[\n",
              "       ModalityTokenCount(\n",
              "         modality=<MediaModality.TEXT: 'TEXT'>,\n",
              "         token_count=786\n",
              "       ),\n",
              "     ],\n",
              "     thoughts_token_count=281,\n",
              "     total_token_count=1904,\n",
              "     traffic_type=<TrafficType.ON_DEMAND: 'ON_DEMAND'>\n",
              "   ), live_session_resumption_update=None, input_transcription=None, output_transcription=None, avg_logprobs=-0.48597726400322955, logprobs_result=None, cache_metadata=None, citation_metadata=None, invocation_id='e-7f813319-6805-41d1-97fa-496728322155', author='Generic_QA_Agent', actions=EventActions(skip_summarization=None, state_delta={}, artifact_delta={}, transfer_to_agent=None, escalate=None, requested_auth_configs={}, requested_tool_confirmations={}, compaction=None, end_of_agent=None, agent_state=None, rewind_before_invocation_id=None), long_running_tool_ids=None, branch=None, id='9daf0731-7bd4-4f7b-b02f-56db5ca970e7', timestamp=1761236390.360713)]}}"
            ]
          },
          "metadata": {},
          "execution_count": 17
        }
      ],
      "source": [
        "# Peek at the memories.\n",
        "in_memory_service._session_events"
      ]
    },
    {
      "cell_type": "code",
      "execution_count": 18,
      "metadata": {
        "colab": {
          "base_uri": "https://localhost:8080/"
        },
        "id": "ZY1cRqfi_4Qz",
        "outputId": "029ce7ee-4f1a-418c-a102-1eb2eee7d2e4"
      },
      "outputs": [
        {
          "output_type": "execute_result",
          "data": {
            "text/plain": [
              "SearchMemoryResponse(memories=[])"
            ]
          },
          "metadata": {},
          "execution_count": 18
        }
      ],
      "source": [
        "await in_memory_service.search_memory(app_name=APP_NAME, user_id=USER_ID, query=\"test\")"
      ]
    },
    {
      "cell_type": "code",
      "execution_count": 19,
      "metadata": {
        "colab": {
          "base_uri": "https://localhost:8080/"
        },
        "id": "wV2OziabBVt5",
        "outputId": "a39eb27a-1797-4c83-ed87-ec4118f39cb2"
      },
      "outputs": [
        {
          "output_type": "execute_result",
          "data": {
            "text/plain": [
              "SearchMemoryResponse(memories=[MemoryEntry(content=Content(\n",
              "  parts=[\n",
              "    Part(\n",
              "      text='what types of questions do you answer'\n",
              "    ),\n",
              "  ],\n",
              "  role='user'\n",
              "), author='user', timestamp='2025-10-23T16:16:54.182216'), MemoryEntry(content=Content(\n",
              "  parts=[\n",
              "    Part(\n",
              "      text=\"\"\"As a large language model, I'm designed to answer a very wide variety of questions across many domains. Here are some general categories:\n",
              "\n",
              "1.  **Factual Information:**\n",
              "    *   Definitions of terms and concepts.\n",
              "    *   Historical events, dates, and figures.\n",
              "    *   Scientific principles and explanations.\n",
              "    *   Geographical facts.\n",
              "    *   Information about people, places, things, and ideas.\n",
              "\n",
              "2.  **Explanations and How-Tos:**\n",
              "    *   How things work.\n",
              "    *   Step-by-step instructions for tasks (e.g., how to bake a cake, how to write a formal email).\n",
              "    *   Concepts clarified in simpler terms.\n",
              "\n",
              "3.  **Creative and Generative Tasks:**\n",
              "    *   Writing different kinds of creative content (poems, stories, scripts, song lyrics, emails, code snippets).\n",
              "    *   Brainstorming ideas (e.g., for names, topics, projects).\n",
              "    *   Summarizing long texts or articles.\n",
              "    *   Translating languages.\n",
              "\n",
              "4.  **Problem-Solving and Logic:**\n",
              "    *   Mathematical problems.\n",
              "    *   Logical puzzles.\n",
              "    *   Coding assistance and debugging.\n",
              "    *   Offering different perspectives on a problem.\n",
              "\n",
              "5.  **Comparisons and Recommendations:**\n",
              "    *   Comparing different products, concepts, or ideas.\n",
              "    *   Suggesting books, movies, places, or activities based on criteria (though I don't have personal preferences, I can leverage data).\n",
              "\n",
              "6.  **Language and Grammar:**\n",
              "    *   Grammar correction.\n",
              "    *   Synonyms and antonyms.\n",
              "    *   Explaining linguistic nuances.\n",
              "\n",
              "Essentially, if a question can be answered with information or logic that a highly knowledgeable entity would possess, I can likely provide a helpful response.\n",
              "\n",
              "**What I generally *cannot* do:**\n",
              "*   Provide personal opinions or feelings.\n",
              "*   Access real-time private or proprietary information (like checking your bank account).\n",
              "*   Perform actions in the real world.\n",
              "*   Engage in sentient thought or consciousness.\n",
              "*   Predict the future with certainty.\"\"\"\n",
              "    ),\n",
              "  ],\n",
              "  role='model'\n",
              "), author='Generic_QA_Agent', timestamp='2025-10-23T16:16:54.183785'), MemoryEntry(content=Content(\n",
              "  parts=[\n",
              "    Part(\n",
              "      text='I have a five year old niece. What recommendations do you have for birthday presents?'\n",
              "    ),\n",
              "  ],\n",
              "  role='user'\n",
              "), author='user', timestamp='2025-10-23T16:19:40.336747'), MemoryEntry(content=Content(\n",
              "  parts=[\n",
              "    Part(\n",
              "      text=\"\"\"That's a fun age to shop for! Five-year-olds are often full of imagination and developing many new skills. Here are some birthday present recommendations, keeping a variety of interests in mind:\n",
              "\n",
              "1.  **Creative & Art Supplies:**\n",
              "    *   **Art Easel:** A standing easel (double-sided with chalkboard and dry-erase) is fantastic for drawing, painting, and imaginative play.\n",
              "    *   **Craft Kits:** Look for kits for making jewelry, decorating suncatchers, scratch art, or simple sewing/weaving projects designed for kids.\n",
              "    *   **Play-Doh or Modeling Clay Sets:** Always a hit for sensory play and sculpting.\n",
              "    *   **Large Coloring Books or Activity Pads:** Paired with crayons, colored pencils, or washable markers.\n",
              "\n",
              "2.  **Building & Construction Toys:**\n",
              "    *   **LEGO Duplo or LEGO Juniors/4+ Sets:** These are great for transitioning from larger blocks to smaller LEGO bricks, with themes like Disney princesses, superheroes, or city vehicles.\n",
              "    *   **Magna-Tiles or PicassoTiles:** Magnetic building tiles are incredibly popular for open-ended construction and developing spatial reasoning.\n",
              "    *   **Wooden Blocks:** A classic for building towers, houses, and more.\n",
              "\n",
              "3.  **Imaginative & Role-Playing Toys:**\n",
              "    *   **Dress-Up Clothes/Costumes:** Princess, superhero, doctor, chef, or animal costumes encourage pretend play.\n",
              "    *   **Dollhouse or Play Kitchen Accessories:** If she already has a dollhouse or kitchen, accessories like furniture, food sets, or play dishes are always welcome.\n",
              "    *   **Puppets:** Hand puppets or a puppet theater can spark storytelling.\n",
              "    *   **Action Figures or Dolls:** Depending on her interests (e.g., Barbie, Disney Princess dolls, action figures like PJ Masks).\n",
              "\n",
              "4.  **Books:**\n",
              "    *   **Picture Books or Early Readers:** Look for popular series, books with strong female protagonists, or engaging stories that she can \"read\" along with you.\n",
              "    *   **Interactive Books:** Pop-up books, lift-the-flap books, or sound books.\n",
              "    *   **Activity Books:** Sticker books, maze books, or \"seek and find\" books.\n",
              "\n",
              "5.  **Outdoor & Active Play:**\n",
              "    *   **Scooter or Tricycle:** If she doesn't have one or is ready for an upgrade. (Don't forget a helmet!)\n",
              "    *   **Jump Rope:** A simple classic for active fun.\n",
              "    *   **Bubble Machine or Giant Bubble Wands:** Always magical for young kids.\n",
              "    *   **Gardening Set:** A child-sized set with tools, gloves, and perhaps some seeds for an easy-to-grow plant.\n",
              "\n",
              "6.  **Educational & STEM (Science, Technology, Engineering, Math):**\n",
              "    *   **Kids' Microscope or Binoculars:** Simple, durable ones designed for small hands to explore nature.\n",
              "    *   **Beginner Board Games:** Games like Candyland, Chutes and Ladders, Zingo, or simple matching/memory games teach turn-taking and basic strategy.\n",
              "    *   **Jigsaw Puzzles:** 24-piece to 60-piece puzzles are usually a good challenge for this age.\n",
              "\n",
              "**Pro-Tip:** If you can discreetly ask her parents about her current favorite characters, animals, or activities, that will help you narrow down the best choice!\"\"\"\n",
              "    ),\n",
              "  ],\n",
              "  role='model'\n",
              "), author='Generic_QA_Agent', timestamp='2025-10-23T16:19:40.337386'), MemoryEntry(content=Content(\n",
              "  parts=[\n",
              "    Part(\n",
              "      text='I like the idea of a bike. Are there any age appropriate options?'\n",
              "    ),\n",
              "  ],\n",
              "  role='user'\n",
              "), author='user', timestamp='2025-10-23T16:19:50.360022'), MemoryEntry(content=Content(\n",
              "  parts=[\n",
              "    Part(\n",
              "      text=\"\"\"That's a fantastic idea! A bike is a wonderful gift for a five-year-old, promoting physical activity, coordination, and independence. At this age, many children are either just learning to ride or refining their skills.\n",
              "\n",
              "Here are some age-appropriate options and key things to consider for a 5-year-old:\n",
              "\n",
              "1.  **16-Inch Wheel Bikes (Most Common for 5-Year-Olds):**\n",
              "    *   **Size:** This is generally the most appropriate wheel size for a 5-year-old. A child between **40-48 inches tall (approx. 102-122 cm)** with an inseam of **18-22 inches (approx. 45-55 cm)** will typically fit a 16-inch bike. The most important thing is that her feet can touch the ground comfortably when seated, or at least the balls of her feet for stability.\n",
              "    *   **Training Wheels:** Many 16-inch bikes come with removable training wheels. This is often the stage where kids transition *off* training wheels, but some might still need them for a short period.\n",
              "    *   **Brakes:** Look for bikes with a **coaster brake** (pedaling backward to stop). Some will also include a **front hand brake**, which is great for teaching them how to use it, but coaster brakes are often easier for younger kids to master initially.\n",
              "    *   **Single Speed:** A single-speed bike is perfect. Gears are unnecessary and would only add complexity at this age.\n",
              "    *   **Durability:** Look for a sturdy, but not overly heavy, frame. Aluminum frames are lighter and easier for kids to maneuver.\n",
              "    *   **Adjustable Seat:** Ensure the seat height is easily adjustable to grow with her.\n",
              "\n",
              "2.  **Balance Bikes (If She Hasn't Used One):**\n",
              "    *   **Alternative/Pre-Training:** If she hasn't used a balance bike before, and isn't quite ready for pedals, a larger balance bike could still be a great option. Some 5-year-olds are still developing the fundamental balancing skills. Using a balance bike for a few weeks or months can dramatically speed up the transition to a pedal bike without training wheels.\n",
              "    *   **Benefits:** They teach balance and steering without the distraction of pedals, making the eventual transition to a pedal bike much smoother (often bypassing training wheels entirely).\n",
              "\n",
              "**Key Considerations When Buying:**\n",
              "\n",
              "*   **Fit is Paramount:** More than the wheel size, ensure the bike fits *her*. Have her sit on it. Can she comfortably touch the ground with her tiptoes or the balls of her feet? Can she reach the handlebars comfortably without stretching too much?\n",
              "*   **Weight of the Bike:** A heavy bike can be very frustrating and difficult for a child to control and learn on. Try to find one that's relatively light.\n",
              "*   **Safety Gear:** A **properly fitting helmet** is absolutely non-negotiable. It's the most important accessory and should be part of the gift. You might also consider knee and elbow pads.\n",
              "*   **Testing it Out:** If possible, let her try sitting on a few bikes in a store. Her excitement and comfort level can tell you a lot!\n",
              "*   **Personalization:** Does she have a favorite color or character? Many kids' bikes come in fun designs that can make the gift even more special.\n",
              "\n",
              "**Brands to Consider (often good quality for kids' bikes):**\n",
              "\n",
              "*   **Specialized, Trek, Giant, Prevelo, Woom:** These are generally higher-end kids' bikes, very lightweight and well-designed for learning.\n",
              "*   **Schwinn, Huffy, RoyalBaby, Dynacraft:** More budget-friendly options, often found at larger retailers. Just be sure to check the weight and build quality.\n",
              "\n",
              "A bike is a truly memorable gift that will provide countless hours of fun and skill development!\"\"\"\n",
              "    ),\n",
              "  ],\n",
              "  role='model'\n",
              "), author='Generic_QA_Agent', timestamp='2025-10-23T16:19:50.360713')])"
            ]
          },
          "metadata": {},
          "execution_count": 19
        }
      ],
      "source": [
        "await in_memory_service.search_memory(\n",
        "    app_name=APP_NAME,\n",
        "    user_id=USER_ID,\n",
        "    query=\"what should I get my mom for mother's day\",\n",
        ")"
      ]
    },
    {
      "cell_type": "markdown",
      "metadata": {
        "id": "j8d9R6NMUgyw"
      },
      "source": [
        "### Memory Bank via `VertexAiMemoryBankService`\n",
        "\n",
        "Now, let's use Memory Bank to generate and store memories. Unlike `InMemoryMemoryService`, only content that's meaningful interactions will be persisted. If there's no meaningful content, the `add_session_to_memory` call will be a no-op; memories are not generated.\n",
        "\n",
        "Memory generation happens in the background. It's a non-blocking operation, so `add_session_to_memory` may complete before memories are actually generated in the background. If you want memory generation to be a blocking operation, use the Agent Engine SDK:\n",
        "\n",
        "```\n",
        "client.agent_engines.memories.generate(\n",
        "    ...,\n",
        "    config={\n",
        "        # Default value is True.\n",
        "        \"wait_for_completion\": True\n",
        "    }\n",
        ")\n",
        "```\n",
        "\n",
        "There are two key operations that Memory Bank performs under-the-hood with memory generation:\n",
        "\n",
        "* **Extraction**: Extracts information about the user from their conversations with the agent. Only information that matches at least one of your instance's memory topics will be persisted.\n",
        "* **Consolidation**: Identifies if existing memories with the same scope should be deleted or updated based on the extracted information. Memory Bank checks that new memories are not duplicative or contradictory before merging them with existing memories. If existing memories don't overlap with the new information, a new memory will be created."
      ]
    },
    {
      "cell_type": "markdown",
      "metadata": {
        "id": "HzYBHoUNSZKn"
      },
      "source": [
        "#### ADK `add_session_to_memory`"
      ]
    },
    {
      "cell_type": "code",
      "execution_count": 21,
      "metadata": {
        "colab": {
          "base_uri": "https://localhost:8080/"
        },
        "id": "ytzu349cBdW6",
        "outputId": "2d4f347b-d781-4652-e618-d3ac3d9ca593"
      },
      "outputs": [
        {
          "output_type": "stream",
          "name": "stderr",
          "text": [
            "INFO:google_adk.google.adk.memory.vertex_ai_memory_bank_service:Generate memory response received.\n",
            "DEBUG:google_adk.google.adk.memory.vertex_ai_memory_bank_service:Generate memory response: name='projects/613791733299/locations/us-central1/reasoningEngines/5134864437248786432/operations/2922398775873896448' metadata={'@type': 'type.googleapis.com/google.cloud.aiplatform.v1beta1.GenerateMemoriesOperationMetadata', 'genericMetadata': {'createTime': '2025-10-23T16:25:33.398716Z', 'updateTime': '2025-10-23T16:25:33.398716Z'}} done=None error=None response=None\n",
            "INFO:google_adk.google.adk.memory.vertex_ai_memory_bank_service:Generate memory response received.\n",
            "DEBUG:google_adk.google.adk.memory.vertex_ai_memory_bank_service:Generate memory response: name='projects/613791733299/locations/us-central1/reasoningEngines/5134864437248786432/operations/337332589763231744' metadata={'@type': 'type.googleapis.com/google.cloud.aiplatform.v1beta1.GenerateMemoriesOperationMetadata', 'genericMetadata': {'createTime': '2025-10-23T16:25:35.609601Z', 'updateTime': '2025-10-23T16:25:35.609601Z'}} done=None error=None response=None\n"
          ]
        }
      ],
      "source": [
        "await memory_bank_service.add_session_to_memory(chit_chat_session)\n",
        "await memory_bank_service.add_session_to_memory(recommendations_session)"
      ]
    },
    {
      "cell_type": "markdown",
      "metadata": {
        "id": "E3ihzck53quZ"
      },
      "source": [
        "If you run this immediately after `add_session_to_memory`, there may be no memories printed. `add_session_to_memory` is a non-blocking function and memory generation can take a few seconds to run."
      ]
    },
    {
      "cell_type": "code",
      "execution_count": 22,
      "metadata": {
        "colab": {
          "base_uri": "https://localhost:8080/"
        },
        "id": "3emdHmGhBtMd",
        "outputId": "70b1c4ae-c84b-4062-d267-71e6ddac02c1"
      },
      "outputs": [
        {
          "output_type": "stream",
          "name": "stderr",
          "text": [
            "INFO:google_adk.google.adk.memory.vertex_ai_memory_bank_service:Search memory response received.\n",
            "DEBUG:google_adk.google.adk.memory.vertex_ai_memory_bank_service:Retrieved memory: distance=0.9760586468750674 memory=Memory(\n",
            "  create_time=datetime.datetime(2025, 10, 23, 16, 25, 24, 584156, tzinfo=TzInfo(UTC)),\n",
            "  fact='I like the idea of giving my five-year-old niece a bike for her birthday.',\n",
            "  name='projects/613791733299/locations/us-central1/reasoningEngines/5134864437248786432/memories/6782891080040841216',\n",
            "  scope={\n",
            "    'app_name': 'memory_ForUnstacked_class',\n",
            "    'user_id': 'My User'\n",
            "  },\n",
            "  update_time=datetime.datetime(2025, 10, 23, 16, 25, 24, 584156, tzinfo=TzInfo(UTC))\n",
            ")\n",
            "DEBUG:google_adk.google.adk.memory.vertex_ai_memory_bank_service:Retrieved memory: distance=1.010207354439636 memory=Memory(\n",
            "  create_time=datetime.datetime(2025, 10, 23, 16, 25, 24, 581997, tzinfo=TzInfo(UTC)),\n",
            "  fact='I have a five-year-old niece.',\n",
            "  name='projects/613791733299/locations/us-central1/reasoningEngines/5134864437248786432/memories/2171205061613453312',\n",
            "  scope={\n",
            "    'app_name': 'memory_ForUnstacked_class',\n",
            "    'user_id': 'My User'\n",
            "  },\n",
            "  update_time=datetime.datetime(2025, 10, 23, 16, 25, 24, 581997, tzinfo=TzInfo(UTC))\n",
            ")\n"
          ]
        },
        {
          "output_type": "execute_result",
          "data": {
            "text/plain": [
              "SearchMemoryResponse(memories=[MemoryEntry(content=Content(\n",
              "  parts=[\n",
              "    Part(\n",
              "      text='I like the idea of giving my five-year-old niece a bike for her birthday.'\n",
              "    ),\n",
              "  ],\n",
              "  role='user'\n",
              "), author='user', timestamp='2025-10-23T16:25:24.584156+00:00'), MemoryEntry(content=Content(\n",
              "  parts=[\n",
              "    Part(\n",
              "      text='I have a five-year-old niece.'\n",
              "    ),\n",
              "  ],\n",
              "  role='user'\n",
              "), author='user', timestamp='2025-10-23T16:25:24.581997+00:00')])"
            ]
          },
          "metadata": {},
          "execution_count": 22
        }
      ],
      "source": [
        "await memory_bank_service.search_memory(\n",
        "    app_name=APP_NAME,\n",
        "    user_id=USER_ID,\n",
        "    query=\"What should I get my mom for mother's day\",\n",
        ")"
      ]
    },
    {
      "cell_type": "markdown",
      "metadata": {
        "id": "DtdqszuOUyJ0"
      },
      "source": [
        "#### Agent Engine SDK `GenerateMemories`\n",
        "\n",
        "If I want to interact directly with Memory Bank, I can use the Agent Engine SDK. For example, I can use [`RetrieveMemories`](https://cloud.google.com/vertex-ai/generative-ai/docs/agent-engine/memory-bank/fetch-memories#scope-based) to retrieve my memories with or without similarity search.\n",
        "\n",
        "Memories are isolated by their `scope`, which is an arbitrary dictionary. `VertexAiMemoryBankService` uses the scope keys `app_name` and `user_id`. `app_name` is set by your Runner, and `user_id` is set when creating your `Session`."
      ]
    },
    {
      "cell_type": "code",
      "execution_count": null,
      "metadata": {
        "colab": {
          "base_uri": "https://localhost:8080/"
        },
        "id": "xXxDASPUG3OK",
        "outputId": "7a6f2830-5aa2-4e46-8e01-ff91d10d25cb"
      },
      "outputs": [
        {
          "data": {
            "text/plain": [
              "[RetrieveMemoriesResponseRetrievedMemory(\n",
              "   memory=Memory(\n",
              "     create_time=datetime.datetime(2025, 10, 21, 13, 54, 55, 859611, tzinfo=TzInfo(UTC)),\n",
              "     fact='I have a three-year-old niece.',\n",
              "     name='projects/437300234315/locations/us-central1/reasoningEngines/283924688617340928/memories/6773180193344323584',\n",
              "     scope={\n",
              "       'app_name': 'memory_example_app',\n",
              "       'user_id': 'My User'\n",
              "     },\n",
              "     update_time=datetime.datetime(2025, 10, 21, 14, 0, 56, 83625, tzinfo=TzInfo(UTC))\n",
              "   )\n",
              " ),\n",
              " RetrieveMemoriesResponseRetrievedMemory(\n",
              "   memory=Memory(\n",
              "     create_time=datetime.datetime(2025, 10, 21, 13, 54, 55, 860546, tzinfo=TzInfo(UTC)),\n",
              "     fact='I like the idea of giving my three-year-old niece a bike for her birthday, and I am looking for age-appropriate options.',\n",
              "     name='projects/437300234315/locations/us-central1/reasoningEngines/283924688617340928/memories/4467337184130629632',\n",
              "     scope={\n",
              "       'app_name': 'memory_example_app',\n",
              "       'user_id': 'My User'\n",
              "     },\n",
              "     update_time=datetime.datetime(2025, 10, 21, 14, 0, 56, 83753, tzinfo=TzInfo(UTC))\n",
              "   )\n",
              " )]"
            ]
          },
          "execution_count": 22,
          "metadata": {},
          "output_type": "execute_result"
        }
      ],
      "source": [
        "response = client.agent_engines.memories.retrieve(\n",
        "    name=agent_engine.api_resource.name,\n",
        "    scope={\"app_name\": APP_NAME,\n",
        "           \"user_id\": USER_ID},\n",
        ")\n",
        "list(response)"
      ]
    },
    {
      "cell_type": "markdown",
      "metadata": {
        "id": "E-KVnoBHV1G5"
      },
      "source": [
        "You can also use `Retrievememories` to retrieve memories using similarity search."
      ]
    },
    {
      "cell_type": "code",
      "execution_count": null,
      "metadata": {
        "colab": {
          "base_uri": "https://localhost:8080/"
        },
        "id": "uwH2UgOZVs36",
        "outputId": "eed066a0-99d5-4a97-9165-338eaf60dff0"
      },
      "outputs": [
        {
          "data": {
            "text/plain": [
              "[RetrieveMemoriesResponseRetrievedMemory(\n",
              "   distance=0.7347648884243799,\n",
              "   memory=Memory(\n",
              "     create_time=datetime.datetime(2025, 10, 21, 13, 54, 55, 859611, tzinfo=TzInfo(UTC)),\n",
              "     fact='I have a three-year-old niece.',\n",
              "     name='projects/437300234315/locations/us-central1/reasoningEngines/283924688617340928/memories/6773180193344323584',\n",
              "     scope={\n",
              "       'app_name': 'memory_example_app',\n",
              "       'user_id': 'My User'\n",
              "     },\n",
              "     update_time=datetime.datetime(2025, 10, 21, 14, 0, 56, 83625, tzinfo=TzInfo(UTC))\n",
              "   )\n",
              " ),\n",
              " RetrieveMemoriesResponseRetrievedMemory(\n",
              "   distance=0.7844351878384009,\n",
              "   memory=Memory(\n",
              "     create_time=datetime.datetime(2025, 10, 21, 13, 54, 55, 860546, tzinfo=TzInfo(UTC)),\n",
              "     fact='I like the idea of giving my three-year-old niece a bike for her birthday, and I am looking for age-appropriate options.',\n",
              "     name='projects/437300234315/locations/us-central1/reasoningEngines/283924688617340928/memories/4467337184130629632',\n",
              "     scope={\n",
              "       'app_name': 'memory_example_app',\n",
              "       'user_id': 'My User'\n",
              "     },\n",
              "     update_time=datetime.datetime(2025, 10, 21, 14, 0, 56, 83753, tzinfo=TzInfo(UTC))\n",
              "   )\n",
              " )]"
            ]
          },
          "execution_count": 23,
          "metadata": {},
          "output_type": "execute_result"
        }
      ],
      "source": [
        "response = client.agent_engines.memories.retrieve(\n",
        "    name=agent_engine.api_resource.name,\n",
        "    scope={\"app_name\": APP_NAME, \"user_id\": USER_ID},\n",
        "    similarity_search_params={\n",
        "        \"search_query\": \"what should I get my niece for her birthday?\"\n",
        "    },\n",
        ")\n",
        "list(response)"
      ]
    },
    {
      "cell_type": "markdown",
      "metadata": {
        "id": "QWWmfmn7XHNf"
      },
      "source": [
        "Memory Bank uses a process called \"consolidation\" to ensure that we do not upload duplicative or contradictory information for the same scope."
      ]
    },
    {
      "cell_type": "code",
      "execution_count": null,
      "metadata": {
        "colab": {
          "base_uri": "https://localhost:8080/"
        },
        "id": "gyHYYlxIXGKQ",
        "outputId": "312f0a51-09ca-4cdf-ae1b-7e8437123837"
      },
      "outputs": [
        {
          "name": "stdout",
          "output_type": "stream",
          "text": [
            "***OPERATION RESPONSE***\n",
            "AgentEngineGenerateMemoriesOperation(\n",
            "  done=True,\n",
            "  metadata={\n",
            "    '@type': 'type.googleapis.com/google.cloud.aiplatform.v1beta1.GenerateMemoriesOperationMetadata',\n",
            "    'genericMetadata': {\n",
            "      'createTime': '2025-10-21T14:13:57.177888Z',\n",
            "      'updateTime': '2025-10-21T14:14:08.005726Z'\n",
            "    }\n",
            "  },\n",
            "  name='projects/437300234315/locations/us-central1/reasoningEngines/283924688617340928/operations/4212149692194095104',\n",
            "  response=GenerateMemoriesResponse(\n",
            "    generated_memories=[\n",
            "      GenerateMemoriesResponseGeneratedMemory(\n",
            "        action=<GenerateMemoriesResponseGeneratedMemoryAction.UPDATED: 'UPDATED'>,\n",
            "        memory=Memory(\n",
            "          name='projects/437300234315/locations/us-central1/reasoningEngines/283924688617340928/memories/4467337184130629632'\n",
            "        )\n",
            "      ),\n",
            "    ]\n",
            "  )\n",
            ")\n",
            "\n",
            "***GENERATED MEMORIES***\n",
            "Memory(\n",
            "  create_time=datetime.datetime(2025, 10, 21, 13, 54, 55, 860546, tzinfo=TzInfo(UTC)),\n",
            "  fact='I like the idea of getting my three-year-old niece a bike for her third birthday, and I am looking for age-appropriate options.',\n",
            "  name='projects/437300234315/locations/us-central1/reasoningEngines/283924688617340928/memories/4467337184130629632',\n",
            "  scope={\n",
            "    'app_name': 'memory_example_app',\n",
            "    'user_id': 'My User'\n",
            "  },\n",
            "  update_time=datetime.datetime(2025, 10, 21, 14, 14, 7, 921086, tzinfo=TzInfo(UTC))\n",
            ")\n"
          ]
        }
      ],
      "source": [
        "import pprint\n",
        "\n",
        "operation = client.agent_engines.memories.generate(\n",
        "    name=agent_engine.api_resource.name,\n",
        "    scope={\"app_name\": APP_NAME, \"user_id\": USER_ID},\n",
        "    direct_contents_source={\n",
        "        \"events\": [\n",
        "            {\n",
        "                \"content\": {\n",
        "                    \"role\": \"user\",\n",
        "                    \"parts\": [\n",
        "                        {\n",
        "                            \"text\": \"I like the idea of getting my niece a bike for her third birthday\"\n",
        "                        }\n",
        "                    ],\n",
        "                }\n",
        "            }\n",
        "        ]\n",
        "    },\n",
        ")\n",
        "print(\"***OPERATION RESPONSE***\")\n",
        "pprint.pprint(operation)\n",
        "\n",
        "print(\"\\n***GENERATED MEMORIES***\")\n",
        "for generated_memory in operation.response.generated_memories:\n",
        "    pprint.pprint(client.agent_engines.memories.get(name=generated_memory.memory.name))"
      ]
    },
    {
      "cell_type": "markdown",
      "metadata": {
        "id": "FUAJRM8pYiNj"
      },
      "source": [
        "What if your agent extracted memories that you want to combine with your existing memories? You can also use `GenerateMemories` to consolidate pre-extracted facts for the same scope [documenation](https://cloud.google.com/vertex-ai/generative-ai/docs/agent-engine/memory-bank/generate-memories#consolidate-pre-extracted-memories).\n",
        "\n",
        "Memory Bank already contains memories on this topic. So, the relevant existing memories will be updated rather than creating a new, duplicative memory."
      ]
    },
    {
      "cell_type": "code",
      "execution_count": null,
      "metadata": {
        "colab": {
          "base_uri": "https://localhost:8080/"
        },
        "id": "hVaFGo7RY0zE",
        "outputId": "a0adf1b4-97bc-4d0e-fed8-7dbd359acd4b"
      },
      "outputs": [
        {
          "name": "stdout",
          "output_type": "stream",
          "text": [
            "***OPERATION RESPONSE***\n",
            "AgentEngineGenerateMemoriesOperation(\n",
            "  done=True,\n",
            "  metadata={\n",
            "    '@type': 'type.googleapis.com/google.cloud.aiplatform.v1beta1.GenerateMemoriesOperationMetadata',\n",
            "    'genericMetadata': {\n",
            "      'createTime': '2025-10-21T14:15:51.979204Z',\n",
            "      'updateTime': '2025-10-21T14:15:56.096074Z'\n",
            "    }\n",
            "  },\n",
            "  name='projects/437300234315/locations/us-central1/reasoningEngines/283924688617340928/operations/7929308234635018240',\n",
            "  response=GenerateMemoriesResponse(\n",
            "    generated_memories=[\n",
            "      GenerateMemoriesResponseGeneratedMemory(\n",
            "        action=<GenerateMemoriesResponseGeneratedMemoryAction.UPDATED: 'UPDATED'>,\n",
            "        memory=Memory(\n",
            "          name='projects/437300234315/locations/us-central1/reasoningEngines/283924688617340928/memories/4467337184130629632'\n",
            "        )\n",
            "      ),\n",
            "    ]\n",
            "  )\n",
            ")\n",
            "\n",
            "***GENERATED MEMORIES***\n",
            "Memory(\n",
            "  create_time=datetime.datetime(2025, 10, 21, 13, 54, 55, 860546, tzinfo=TzInfo(UTC)),\n",
            "  fact='I got my three-year-old niece a red bike for her third birthday.',\n",
            "  name='projects/437300234315/locations/us-central1/reasoningEngines/283924688617340928/memories/4467337184130629632',\n",
            "  scope={\n",
            "    'app_name': 'memory_example_app',\n",
            "    'user_id': 'My User'\n",
            "  },\n",
            "  update_time=datetime.datetime(2025, 10, 21, 14, 15, 56, 19585, tzinfo=TzInfo(UTC))\n",
            ")\n"
          ]
        }
      ],
      "source": [
        "operation = client.agent_engines.memories.generate(\n",
        "    name=agent_engine.api_resource.name,\n",
        "    scope={\"app_name\": APP_NAME, \"user_id\": USER_ID},\n",
        "    direct_memories_source={\"direct_memories\": [{\"fact\": \"I got my niece a red bike\"}]},\n",
        ")\n",
        "\n",
        "print(\"***OPERATION RESPONSE***\")\n",
        "pprint.pprint(operation)\n",
        "\n",
        "print(\"\\n***GENERATED MEMORIES***\")\n",
        "for generated_memory in operation.response.generated_memories:\n",
        "    if generated_memory.action != \"DELETED\":\n",
        "        pprint.pprint(\n",
        "            client.agent_engines.memories.get(name=generated_memory.memory.name)\n",
        "        )"
      ]
    },
    {
      "cell_type": "markdown",
      "metadata": {
        "id": "Ql9iDjUO5Mxb"
      },
      "source": [
        "#### Automate with Callbacks\n",
        "\n",
        "To automate the triggering of memory generation, you can implement a callback to generate memories after every turn. See the [`Remember this: Agent state and memory with ADK` blog post](https://cloud.google.com/blog/topics/developers-practitioners/remember-this-agent-state-and-memory-with-adk) for more information."
      ]
    },
    {
      "cell_type": "code",
      "execution_count": null,
      "metadata": {
        "id": "sq4QSggUAuLu"
      },
      "outputs": [],
      "source": [
        "from google import adk\n",
        "\n",
        "\n",
        "async def auto_save_session_to_memory_callback(callback_context):\n",
        "    # Use the invocation context to access the conversation history that should\n",
        "    # be used as the data source for memory generation.\n",
        "    await memory_bank_service.add_session_to_memory(\n",
        "        callback_context._invocation_context.session\n",
        "    )\n",
        "    print(\"\\n****Triggered memory generation****\\n\")\n",
        "\n",
        "\n",
        "agent = LlmAgent(\n",
        "    model=MODEL,\n",
        "    name=\"Generic_QA_Agent\",\n",
        "    instruction=\"Answer the user's questions\",\n",
        "    tools=[adk.tools.preload_memory_tool.PreloadMemoryTool()],\n",
        "    after_agent_callback=auto_save_session_to_memory_callback,\n",
        ")\n",
        "\n",
        "runner = Runner(\n",
        "    agent=agent,\n",
        "    app_name=APP_NAME,\n",
        "    session_service=session_service,\n",
        "    memory_service=memory_bank_service,\n",
        ")"
      ]
    },
    {
      "cell_type": "code",
      "execution_count": null,
      "metadata": {
        "colab": {
          "base_uri": "https://localhost:8080/"
        },
        "id": "o-oU37SyA5J7",
        "outputId": "76dbbf0e-608a-4445-c5db-5703f89a079e"
      },
      "outputs": [
        {
          "name": "stderr",
          "output_type": "stream",
          "text": [
            "INFO:google_adk.google.adk.memory.vertex_ai_memory_bank_service:Search memory response received.\n",
            "DEBUG:google_adk.google.adk.memory.vertex_ai_memory_bank_service:Retrieved memory: distance=0.8091518668940462 memory=Memory(\n",
            "  create_time=datetime.datetime(2025, 10, 21, 13, 54, 55, 859611, tzinfo=TzInfo(UTC)),\n",
            "  fact='I have a three-year-old niece.',\n",
            "  name='projects/437300234315/locations/us-central1/reasoningEngines/283924688617340928/memories/6773180193344323584',\n",
            "  scope={\n",
            "    'app_name': 'memory_example_app',\n",
            "    'user_id': 'My User'\n",
            "  },\n",
            "  update_time=datetime.datetime(2025, 10, 21, 14, 0, 56, 83625, tzinfo=TzInfo(UTC))\n",
            ")\n",
            "DEBUG:google_adk.google.adk.memory.vertex_ai_memory_bank_service:Retrieved memory: distance=0.8936996259031423 memory=Memory(\n",
            "  create_time=datetime.datetime(2025, 10, 21, 13, 54, 55, 860546, tzinfo=TzInfo(UTC)),\n",
            "  fact='I got my three-year-old niece a red bike for her third birthday.',\n",
            "  name='projects/437300234315/locations/us-central1/reasoningEngines/283924688617340928/memories/4467337184130629632',\n",
            "  scope={\n",
            "    'app_name': 'memory_example_app',\n",
            "    'user_id': 'My User'\n",
            "  },\n",
            "  update_time=datetime.datetime(2025, 10, 21, 14, 15, 56, 19585, tzinfo=TzInfo(UTC))\n",
            ")\n",
            "INFO:google_adk.google.adk.models.google_llm:Sending out request, model: gemini-2.5-flash, backend: GoogleLLMVariant.VERTEX_AI, stream: False\n",
            "DEBUG:google_adk.google.adk.models.google_llm:\n",
            "LLM Request:\n",
            "-----------------------------------------------------------\n",
            "System Instruction:\n",
            "Answer the user's questions\n",
            "\n",
            "You are an agent. Your internal name is \"Generic_QA_Agent\".\n",
            "\n",
            "The following content is from your previous conversations with the user.\n",
            "They may be useful for answering the user's current query.\n",
            "<PAST_CONVERSATIONS>\n",
            "Time: 2025-10-21T14:00:56.083625+00:00\n",
            "user: I have a three-year-old niece.\n",
            "Time: 2025-10-21T14:15:56.019585+00:00\n",
            "user: I got my three-year-old niece a red bike for her third birthday.\n",
            "</PAST_CONVERSATIONS>\n",
            "\n",
            "-----------------------------------------------------------\n",
            "Contents:\n",
            "{\"parts\":[{\"text\":\"What christmas present recommendations do you have for my niece?\"}],\"role\":\"user\"}\n",
            "-----------------------------------------------------------\n",
            "Functions:\n",
            "\n",
            "-----------------------------------------------------------\n",
            "\n",
            "INFO:google_adk.google.adk.models.google_llm:Response received from the model.\n",
            "DEBUG:google_adk.google.adk.models.google_llm:\n",
            "LLM Response:\n",
            "-----------------------------------------------------------\n",
            "Text:\n",
            "Your three-year-old niece sounds like she has a great bike already! For Christmas, you might consider something different to add to her playtime. Here are some recommendations for a three-year-old:\n",
            "\n",
            "1.  **Creative Play:**\n",
            "    *   **Art Supplies:** Large crayons, washable finger paints, chunky paintbrushes, or a simple easel with paper.\n",
            "    *   **Play-Doh Sets:** These are always a hit and encourage fine motor skills and imaginative creation.\n",
            "    *   **Sticker Books:** Reusable sticker books or large activity sticker books can provide hours of fun.\n",
            "\n",
            "2.  **Building & Construction:**\n",
            "    *   **DUPLO or Large Building Blocks:** Perfect for little hands to build towers, houses, and anything they can imagine.\n",
            "    *   **Magnetic Tiles:** These are fantastic for open-ended building and exploring shapes.\n",
            "\n",
            "3.  **Imaginative & Pretend Play:**\n",
            "    *   **Dress-Up Clothes:** A simple costume (like a fairy, princess, doctor, or animal) can spark endless stories.\n",
            "    *   **Play Kitchen Accessories:** If she has a play kitchen, new food items, pots, or pans can refresh her play.\n",
            "    *   **Doll or Stuffed Animal Set:** A new baby doll with accessories (bottle, blanket) or a set of small animal figures.\n",
            "    *   **Puppets:** Hand puppets can encourage storytelling and communication.\n",
            "\n",
            "4.  **Books & Puzzles:**\n",
            "    *   **Picture Books:** Look for engaging stories with colorful illustrations. Interactive books (lift-the-flap, touch-and-feel) are also popular.\n",
            "    *   **Chunky Wooden Puzzles:** Simple 4-6 piece puzzles with knobs are great for developing problem-solving skills.\n",
            "\n",
            "5.  **Musical Instruments:**\n",
            "    *   **Child-friendly instruments:** A toy keyboard, tambourine, or shakers can introduce her to music.\n",
            "\n",
            "Think about what she's currently interested in, whether it's animals, vehicles, princesses, or creating things, and that might help narrow down the perfect gift!\n",
            "-----------------------------------------------------------\n",
            "Function calls:\n",
            "\n",
            "-----------------------------------------------------------\n",
            "Raw response:\n",
            "{\"sdk_http_response\":{\"headers\":{\"Content-Type\":\"application/json; charset=UTF-8\",\"Vary\":\"Origin, X-Origin, Referer\",\"Content-Encoding\":\"gzip\",\"Date\":\"Tue, 21 Oct 2025 14:17:27 GMT\",\"Server\":\"scaffolding on HTTPServer2\",\"X-XSS-Protection\":\"0\",\"X-Frame-Options\":\"SAMEORIGIN\",\"X-Content-Type-Options\":\"nosniff\",\"Transfer-Encoding\":\"chunked\"}},\"candidates\":[{\"content\":{\"parts\":[{\"text\":\"Your three-year-old niece sounds like she has a great bike already! For Christmas, you might consider something different to add to her playtime. Here are some recommendations for a three-year-old:\\n\\n1.  **Creative Play:**\\n    *   **Art Supplies:** Large crayons, washable finger paints, chunky paintbrushes, or a simple easel with paper.\\n    *   **Play-Doh Sets:** These are always a hit and encourage fine motor skills and imaginative creation.\\n    *   **Sticker Books:** Reusable sticker books or large activity sticker books can provide hours of fun.\\n\\n2.  **Building & Construction:**\\n    *   **DUPLO or Large Building Blocks:** Perfect for little hands to build towers, houses, and anything they can imagine.\\n    *   **Magnetic Tiles:** These are fantastic for open-ended building and exploring shapes.\\n\\n3.  **Imaginative & Pretend Play:**\\n    *   **Dress-Up Clothes:** A simple costume (like a fairy, princess, doctor, or animal) can spark endless stories.\\n    *   **Play Kitchen Accessories:** If she has a play kitchen, new food items, pots, or pans can refresh her play.\\n    *   **Doll or Stuffed Animal Set:** A new baby doll with accessories (bottle, blanket) or a set of small animal figures.\\n    *   **Puppets:** Hand puppets can encourage storytelling and communication.\\n\\n4.  **Books & Puzzles:**\\n    *   **Picture Books:** Look for engaging stories with colorful illustrations. Interactive books (lift-the-flap, touch-and-feel) are also popular.\\n    *   **Chunky Wooden Puzzles:** Simple 4-6 piece puzzles with knobs are great for developing problem-solving skills.\\n\\n5.  **Musical Instruments:**\\n    *   **Child-friendly instruments:** A toy keyboard, tambourine, or shakers can introduce her to music.\\n\\nThink about what she's currently interested in, whether it's animals, vehicles, princesses, or creating things, and that might help narrow down the perfect gift!\"}],\"role\":\"model\"},\"finish_reason\":\"STOP\",\"avg_logprobs\":-0.5732456364043771}],\"create_time\":\"2025-10-21T14:17:22.623065Z\",\"model_version\":\"gemini-2.5-flash\",\"response_id\":\"8pX3aNmDJrPQnvgP3Kaf8Ac\",\"usage_metadata\":{\"candidates_token_count\":438,\"candidates_tokens_details\":[{\"modality\":\"TEXT\",\"token_count\":438}],\"prompt_token_count\":183,\"prompt_tokens_details\":[{\"modality\":\"TEXT\",\"token_count\":183}],\"thoughts_token_count\":289,\"total_token_count\":910,\"traffic_type\":\"ON_DEMAND\"},\"automatic_function_calling_history\":[]}\n",
            "-----------------------------------------------------------\n",
            "\n"
          ]
        },
        {
          "name": "stdout",
          "output_type": "stream",
          "text": [
            "Agent Response:  Your three-year-old niece sounds like she has a great bike already! For Christmas, you might consider something different to add to her playtime. Here are some recommendations for a three-year-old:\n",
            "\n",
            "1.  **Creative Play:**\n",
            "    *   **Art Supplies:** Large crayons, washable finger paints, chunky paintbrushes, or a simple easel with paper.\n",
            "    *   **Play-Doh Sets:** These are always a hit and encourage fine motor skills and imaginative creation.\n",
            "    *   **Sticker Books:** Reusable sticker books or large activity sticker books can provide hours of fun.\n",
            "\n",
            "2.  **Building & Construction:**\n",
            "    *   **DUPLO or Large Building Blocks:** Perfect for little hands to build towers, houses, and anything they can imagine.\n",
            "    *   **Magnetic Tiles:** These are fantastic for open-ended building and exploring shapes.\n",
            "\n",
            "3.  **Imaginative & Pretend Play:**\n",
            "    *   **Dress-Up Clothes:** A simple costume (like a fairy, princess, doctor, or animal) can spark endless stories.\n",
            "    *   **Play Kitchen Accessories:** If she has a play kitchen, new food items, pots, or pans can refresh her play.\n",
            "    *   **Doll or Stuffed Animal Set:** A new baby doll with accessories (bottle, blanket) or a set of small animal figures.\n",
            "    *   **Puppets:** Hand puppets can encourage storytelling and communication.\n",
            "\n",
            "4.  **Books & Puzzles:**\n",
            "    *   **Picture Books:** Look for engaging stories with colorful illustrations. Interactive books (lift-the-flap, touch-and-feel) are also popular.\n",
            "    *   **Chunky Wooden Puzzles:** Simple 4-6 piece puzzles with knobs are great for developing problem-solving skills.\n",
            "\n",
            "5.  **Musical Instruments:**\n",
            "    *   **Child-friendly instruments:** A toy keyboard, tambourine, or shakers can introduce her to music.\n",
            "\n",
            "Think about what she's currently interested in, whether it's animals, vehicles, princesses, or creating things, and that might help narrow down the perfect gift!\n"
          ]
        },
        {
          "name": "stderr",
          "output_type": "stream",
          "text": [
            "INFO:google_adk.google.adk.memory.vertex_ai_memory_bank_service:Generate memory response received.\n",
            "DEBUG:google_adk.google.adk.memory.vertex_ai_memory_bank_service:Generate memory response: name='projects/437300234315/locations/us-central1/reasoningEngines/283924688617340928/operations/683016434195890176' metadata={'@type': 'type.googleapis.com/google.cloud.aiplatform.v1beta1.GenerateMemoriesOperationMetadata', 'genericMetadata': {'createTime': '2025-10-21T14:17:29.840373Z', 'updateTime': '2025-10-21T14:17:29.840373Z'}} done=None error=None response=None\n"
          ]
        },
        {
          "name": "stdout",
          "output_type": "stream",
          "text": [
            "\n",
            "****Triggered memory generation****\n",
            "\n"
          ]
        },
        {
          "name": "stderr",
          "output_type": "stream",
          "text": [
            "INFO:google_adk.google.adk.memory.vertex_ai_memory_bank_service:Search memory response received.\n",
            "DEBUG:google_adk.google.adk.memory.vertex_ai_memory_bank_service:Retrieved memory: distance=0.9376007979564559 memory=Memory(\n",
            "  create_time=datetime.datetime(2025, 10, 21, 13, 54, 55, 859611, tzinfo=TzInfo(UTC)),\n",
            "  fact='I have a three-year-old niece.',\n",
            "  name='projects/437300234315/locations/us-central1/reasoningEngines/283924688617340928/memories/6773180193344323584',\n",
            "  scope={\n",
            "    'app_name': 'memory_example_app',\n",
            "    'user_id': 'My User'\n",
            "  },\n",
            "  update_time=datetime.datetime(2025, 10, 21, 14, 0, 56, 83625, tzinfo=TzInfo(UTC))\n",
            ")\n",
            "DEBUG:google_adk.google.adk.memory.vertex_ai_memory_bank_service:Retrieved memory: distance=0.9382428087527607 memory=Memory(\n",
            "  create_time=datetime.datetime(2025, 10, 21, 13, 54, 55, 860546, tzinfo=TzInfo(UTC)),\n",
            "  fact='I got my three-year-old niece a red bike for her third birthday.',\n",
            "  name='projects/437300234315/locations/us-central1/reasoningEngines/283924688617340928/memories/4467337184130629632',\n",
            "  scope={\n",
            "    'app_name': 'memory_example_app',\n",
            "    'user_id': 'My User'\n",
            "  },\n",
            "  update_time=datetime.datetime(2025, 10, 21, 14, 15, 56, 19585, tzinfo=TzInfo(UTC))\n",
            ")\n",
            "INFO:google_adk.google.adk.models.google_llm:Sending out request, model: gemini-2.5-flash, backend: GoogleLLMVariant.VERTEX_AI, stream: False\n",
            "DEBUG:google_adk.google.adk.models.google_llm:\n",
            "LLM Request:\n",
            "-----------------------------------------------------------\n",
            "System Instruction:\n",
            "Answer the user's questions\n",
            "\n",
            "You are an agent. Your internal name is \"Generic_QA_Agent\".\n",
            "\n",
            "The following content is from your previous conversations with the user.\n",
            "They may be useful for answering the user's current query.\n",
            "<PAST_CONVERSATIONS>\n",
            "Time: 2025-10-21T14:00:56.083625+00:00\n",
            "user: I have a three-year-old niece.\n",
            "Time: 2025-10-21T14:15:56.019585+00:00\n",
            "user: I got my three-year-old niece a red bike for her third birthday.\n",
            "</PAST_CONVERSATIONS>\n",
            "\n",
            "-----------------------------------------------------------\n",
            "Contents:\n",
            "{\"parts\":[{\"text\":\"What christmas present recommendations do you have for my niece?\"}],\"role\":\"user\"}\n",
            "{\"parts\":[{\"text\":\"Your three-year-old niece sounds like she has a great bike already! For Christmas, you might consider something different to add to her playtime. Here are some recommendations for a three-year-old:\\n\\n1.  **Creative Play:**\\n    *   **Art Supplies:** Large crayons, washable finger paints, chunky paintbrushes, or a simple easel with paper.\\n    *   **Play-Doh Sets:** These are always a hit and encourage fine motor skills and imaginative creation.\\n    *   **Sticker Books:** Reusable sticker books or large activity sticker books can provide hours of fun.\\n\\n2.  **Building & Construction:**\\n    *   **DUPLO or Large Building Blocks:** Perfect for little hands to build towers, houses, and anything they can imagine.\\n    *   **Magnetic Tiles:** These are fantastic for open-ended building and exploring shapes.\\n\\n3.  **Imaginative & Pretend Play:**\\n    *   **Dress-Up Clothes:** A simple costume (like a fairy, princess, doctor, or animal) can spark endless stories.\\n    *   **Play Kitchen Accessories:** If she has a play kitchen, new food items, pots, or pans can refresh her play.\\n    *   **Doll or Stuffed Animal Set:** A new baby doll with accessories (bottle, blanket) or a set of small animal figures.\\n    *   **Puppets:** Hand puppets can encourage storytelling and communication.\\n\\n4.  **Books & Puzzles:**\\n    *   **Picture Books:** Look for engaging stories with colorful illustrations. Interactive books (lift-the-flap, touch-and-feel) are also popular.\\n    *   **Chunky Wooden Puzzles:** Simple 4-6 piece puzzles with knobs are great for developing problem-solving skills.\\n\\n5.  **Musical Instruments:**\\n    *   **Child-friendly instruments:** A toy keyboard, tambourine, or shakers can introduce her to music.\\n\\nThink about what she's currently interested in, whether it's animals, vehicles, princesses, or creating things, and that might help narrow down the perfect gift!\"}],\"role\":\"model\"}\n",
            "{\"parts\":[{\"text\":\"I think I'll get her a doll. What types are good for her age?\"}],\"role\":\"user\"}\n",
            "-----------------------------------------------------------\n",
            "Functions:\n",
            "\n",
            "-----------------------------------------------------------\n",
            "\n",
            "INFO:google_adk.google.adk.models.google_llm:Response received from the model.\n",
            "DEBUG:google_adk.google.adk.models.google_llm:\n",
            "LLM Response:\n",
            "-----------------------------------------------------------\n",
            "Text:\n",
            "That's a lovely idea! Dolls are wonderful for encouraging imaginative play, nurturing, and developing social-emotional skills in three-year-olds.\n",
            "\n",
            "For a three-year-old, you'll want something that is durable, easy for them to manage, and safe. Here are some types of dolls that are generally great for her age:\n",
            "\n",
            "1.  **Soft-Bodied Baby Dolls:**\n",
            "    *   **Why they're good:** These are often the first choice for this age. They are soft and cuddly, perfect for hugging and comforting. Many come with simple outfits that are easy for little hands to put on and take off (great for developing fine motor skills). They encourage nurturing play, like feeding, rocking, and putting to bed.\n",
            "    *   **Look for:** Dolls with soft, washable bodies and simple, chunky clothing. Brands like Cabbage Patch Kids (the soft-bodied versions), Melissa & Doug, or smaller baby doll lines are popular.\n",
            "\n",
            "2.  **Toddler Dolls (like some \"My First\" dolls):**\n",
            "    *   **Why they're good:** These are often slightly larger than baby dolls but still manageable. They might have a bit more articulation (moveable arms/legs) and a wider range of clothing options. They can be good for slightly more complex pretend play scenarios.\n",
            "    *   **Look for:** Dolls that are still relatively soft, or made from durable, child-friendly plastic. Avoid dolls with tiny accessories or intricate hair that will tangle easily. \"My First Princess\" dolls from brands like Disney often fit this category, as they usually have simpler outfits and fewer small parts than the collector versions.\n",
            "\n",
            "3.  **Doll with Easy-to-Manage Hair:**\n",
            "    *   **Why they're good:** At three, many children enjoy brushing and styling a doll's hair. Look for dolls with rooted hair that isn't too long or fine, making it less prone to tangling and easier for little fingers to brush.\n",
            "    *   **Look for:** Hair that feels thick and securely rooted. Some dolls come with a simple brush.\n",
            "\n",
            "4.  **Simple Rag Dolls:**\n",
            "    *   **Why they're good:** These are classic, timeless, and incredibly cuddly. They are usually very durable, machine washable, and have soft, friendly faces. They are great for quiet play and bedtime snuggles.\n",
            "    *   **Look for:** Well-made rag dolls with embroidered features (no small buttons for eyes, etc.) and sturdy stitching.\n",
            "\n",
            "**Things to consider and avoid:**\n",
            "\n",
            "*   **Size:** Make sure the doll isn't too big or heavy for her to carry comfortably.\n",
            "*   **Small Parts:** Absolutely avoid dolls with tiny shoes, hair accessories, or other small detachable parts that could be a choking hazard. Check age recommendations carefully.\n",
            "*   **Complex Electronics:** While some dolls talk or sing, too many complex features can sometimes limit imaginative play. A simple doll leaves more room for her to create her own stories.\n",
            "*   **Hair Quality:** Avoid dolls with very thin, wispy hair that knots and frizzes instantly, as it can be frustrating for a three-year-old.\n",
            "\n",
            "Many brands like **Corolle, Melissa & Doug, Manhattan Toy Company, HABA,** or even generic **soft baby dolls** you might find at toy stores, offer excellent options for this age group. If you can, opt for a doll with a friendly, welcoming expression.\n",
            "\n",
            "Happy shopping! She'll love whatever you choose.\n",
            "-----------------------------------------------------------\n",
            "Function calls:\n",
            "\n",
            "-----------------------------------------------------------\n",
            "Raw response:\n",
            "{\"sdk_http_response\":{\"headers\":{\"Content-Type\":\"application/json; charset=UTF-8\",\"Vary\":\"Origin, X-Origin, Referer\",\"Content-Encoding\":\"gzip\",\"Date\":\"Tue, 21 Oct 2025 14:17:43 GMT\",\"Server\":\"scaffolding on HTTPServer2\",\"X-XSS-Protection\":\"0\",\"X-Frame-Options\":\"SAMEORIGIN\",\"X-Content-Type-Options\":\"nosniff\",\"Transfer-Encoding\":\"chunked\"}},\"candidates\":[{\"content\":{\"parts\":[{\"text\":\"That's a lovely idea! Dolls are wonderful for encouraging imaginative play, nurturing, and developing social-emotional skills in three-year-olds.\\n\\nFor a three-year-old, you'll want something that is durable, easy for them to manage, and safe. Here are some types of dolls that are generally great for her age:\\n\\n1.  **Soft-Bodied Baby Dolls:**\\n    *   **Why they're good:** These are often the first choice for this age. They are soft and cuddly, perfect for hugging and comforting. Many come with simple outfits that are easy for little hands to put on and take off (great for developing fine motor skills). They encourage nurturing play, like feeding, rocking, and putting to bed.\\n    *   **Look for:** Dolls with soft, washable bodies and simple, chunky clothing. Brands like Cabbage Patch Kids (the soft-bodied versions), Melissa & Doug, or smaller baby doll lines are popular.\\n\\n2.  **Toddler Dolls (like some \\\"My First\\\" dolls):**\\n    *   **Why they're good:** These are often slightly larger than baby dolls but still manageable. They might have a bit more articulation (moveable arms/legs) and a wider range of clothing options. They can be good for slightly more complex pretend play scenarios.\\n    *   **Look for:** Dolls that are still relatively soft, or made from durable, child-friendly plastic. Avoid dolls with tiny accessories or intricate hair that will tangle easily. \\\"My First Princess\\\" dolls from brands like Disney often fit this category, as they usually have simpler outfits and fewer small parts than the collector versions.\\n\\n3.  **Doll with Easy-to-Manage Hair:**\\n    *   **Why they're good:** At three, many children enjoy brushing and styling a doll's hair. Look for dolls with rooted hair that isn't too long or fine, making it less prone to tangling and easier for little fingers to brush.\\n    *   **Look for:** Hair that feels thick and securely rooted. Some dolls come with a simple brush.\\n\\n4.  **Simple Rag Dolls:**\\n    *   **Why they're good:** These are classic, timeless, and incredibly cuddly. They are usually very durable, machine washable, and have soft, friendly faces. They are great for quiet play and bedtime snuggles.\\n    *   **Look for:** Well-made rag dolls with embroidered features (no small buttons for eyes, etc.) and sturdy stitching.\\n\\n**Things to consider and avoid:**\\n\\n*   **Size:** Make sure the doll isn't too big or heavy for her to carry comfortably.\\n*   **Small Parts:** Absolutely avoid dolls with tiny shoes, hair accessories, or other small detachable parts that could be a choking hazard. Check age recommendations carefully.\\n*   **Complex Electronics:** While some dolls talk or sing, too many complex features can sometimes limit imaginative play. A simple doll leaves more room for her to create her own stories.\\n*   **Hair Quality:** Avoid dolls with very thin, wispy hair that knots and frizzes instantly, as it can be frustrating for a three-year-old.\\n\\nMany brands like **Corolle, Melissa & Doug, Manhattan Toy Company, HABA,** or even generic **soft baby dolls** you might find at toy stores, offer excellent options for this age group. If you can, opt for a doll with a friendly, welcoming expression.\\n\\nHappy shopping! She'll love whatever you choose.\"}],\"role\":\"model\"},\"finish_reason\":\"STOP\",\"avg_logprobs\":-0.5814277868101274}],\"create_time\":\"2025-10-21T14:17:34.331377Z\",\"model_version\":\"gemini-2.5-flash\",\"response_id\":\"_pX3aPGcFOXb698PvciY6Ag\",\"usage_metadata\":{\"candidates_token_count\":731,\"candidates_tokens_details\":[{\"modality\":\"TEXT\",\"token_count\":731}],\"prompt_token_count\":639,\"prompt_tokens_details\":[{\"modality\":\"TEXT\",\"token_count\":639}],\"thoughts_token_count\":193,\"total_token_count\":1563,\"traffic_type\":\"ON_DEMAND\"},\"automatic_function_calling_history\":[]}\n",
            "-----------------------------------------------------------\n",
            "\n"
          ]
        },
        {
          "name": "stdout",
          "output_type": "stream",
          "text": [
            "Agent Response:  That's a lovely idea! Dolls are wonderful for encouraging imaginative play, nurturing, and developing social-emotional skills in three-year-olds.\n",
            "\n",
            "For a three-year-old, you'll want something that is durable, easy for them to manage, and safe. Here are some types of dolls that are generally great for her age:\n",
            "\n",
            "1.  **Soft-Bodied Baby Dolls:**\n",
            "    *   **Why they're good:** These are often the first choice for this age. They are soft and cuddly, perfect for hugging and comforting. Many come with simple outfits that are easy for little hands to put on and take off (great for developing fine motor skills). They encourage nurturing play, like feeding, rocking, and putting to bed.\n",
            "    *   **Look for:** Dolls with soft, washable bodies and simple, chunky clothing. Brands like Cabbage Patch Kids (the soft-bodied versions), Melissa & Doug, or smaller baby doll lines are popular.\n",
            "\n",
            "2.  **Toddler Dolls (like some \"My First\" dolls):**\n",
            "    *   **Why they're good:** These are often slightly larger than baby dolls but still manageable. They might have a bit more articulation (moveable arms/legs) and a wider range of clothing options. They can be good for slightly more complex pretend play scenarios.\n",
            "    *   **Look for:** Dolls that are still relatively soft, or made from durable, child-friendly plastic. Avoid dolls with tiny accessories or intricate hair that will tangle easily. \"My First Princess\" dolls from brands like Disney often fit this category, as they usually have simpler outfits and fewer small parts than the collector versions.\n",
            "\n",
            "3.  **Doll with Easy-to-Manage Hair:**\n",
            "    *   **Why they're good:** At three, many children enjoy brushing and styling a doll's hair. Look for dolls with rooted hair that isn't too long or fine, making it less prone to tangling and easier for little fingers to brush.\n",
            "    *   **Look for:** Hair that feels thick and securely rooted. Some dolls come with a simple brush.\n",
            "\n",
            "4.  **Simple Rag Dolls:**\n",
            "    *   **Why they're good:** These are classic, timeless, and incredibly cuddly. They are usually very durable, machine washable, and have soft, friendly faces. They are great for quiet play and bedtime snuggles.\n",
            "    *   **Look for:** Well-made rag dolls with embroidered features (no small buttons for eyes, etc.) and sturdy stitching.\n",
            "\n",
            "**Things to consider and avoid:**\n",
            "\n",
            "*   **Size:** Make sure the doll isn't too big or heavy for her to carry comfortably.\n",
            "*   **Small Parts:** Absolutely avoid dolls with tiny shoes, hair accessories, or other small detachable parts that could be a choking hazard. Check age recommendations carefully.\n",
            "*   **Complex Electronics:** While some dolls talk or sing, too many complex features can sometimes limit imaginative play. A simple doll leaves more room for her to create her own stories.\n",
            "*   **Hair Quality:** Avoid dolls with very thin, wispy hair that knots and frizzes instantly, as it can be frustrating for a three-year-old.\n",
            "\n",
            "Many brands like **Corolle, Melissa & Doug, Manhattan Toy Company, HABA,** or even generic **soft baby dolls** you might find at toy stores, offer excellent options for this age group. If you can, opt for a doll with a friendly, welcoming expression.\n",
            "\n",
            "Happy shopping! She'll love whatever you choose.\n"
          ]
        },
        {
          "name": "stderr",
          "output_type": "stream",
          "text": [
            "INFO:google_adk.google.adk.memory.vertex_ai_memory_bank_service:Generate memory response received.\n",
            "DEBUG:google_adk.google.adk.memory.vertex_ai_memory_bank_service:Generate memory response: name='projects/437300234315/locations/us-central1/reasoningEngines/283924688617340928/operations/4399612026683392000' metadata={'@type': 'type.googleapis.com/google.cloud.aiplatform.v1beta1.GenerateMemoriesOperationMetadata', 'genericMetadata': {'createTime': '2025-10-21T14:17:45.339368Z', 'updateTime': '2025-10-21T14:17:45.339368Z'}} done=None error=None response=None\n"
          ]
        },
        {
          "name": "stdout",
          "output_type": "stream",
          "text": [
            "\n",
            "****Triggered memory generation****\n",
            "\n"
          ]
        }
      ],
      "source": [
        "session = await session_service.create_session(app_name=APP_NAME, user_id=USER_ID)\n",
        "\n",
        "call_agent(\n",
        "    \"What christmas present recommendations do you have for my niece?\",\n",
        "    session.id,\n",
        "    user_id=USER_ID,\n",
        ")\n",
        "\n",
        "call_agent(\n",
        "    \"I think I'll get her a doll. What types are good for her age?\",\n",
        "    session.id,\n",
        "    user_id=USER_ID,\n",
        ")"
      ]
    },
    {
      "cell_type": "code",
      "execution_count": null,
      "metadata": {
        "colab": {
          "base_uri": "https://localhost:8080/"
        },
        "id": "E9_pkrRUBBSP",
        "outputId": "25e8aae3-802f-4e2b-e4e0-afee5cb3cd56"
      },
      "outputs": [
        {
          "data": {
            "text/plain": [
              "[RetrieveMemoriesResponseRetrievedMemory(\n",
              "   distance=0.7943347759252403,\n",
              "   memory=Memory(\n",
              "     create_time=datetime.datetime(2025, 10, 21, 13, 54, 55, 859611, tzinfo=TzInfo(UTC)),\n",
              "     fact='I have a three-year-old niece.',\n",
              "     name='projects/437300234315/locations/us-central1/reasoningEngines/283924688617340928/memories/6773180193344323584',\n",
              "     scope={\n",
              "       'app_name': 'memory_example_app',\n",
              "       'user_id': 'My User'\n",
              "     },\n",
              "     update_time=datetime.datetime(2025, 10, 21, 14, 0, 56, 83625, tzinfo=TzInfo(UTC))\n",
              "   )\n",
              " ),\n",
              " RetrieveMemoriesResponseRetrievedMemory(\n",
              "   distance=0.7986168617004635,\n",
              "   memory=Memory(\n",
              "     create_time=datetime.datetime(2025, 10, 21, 14, 17, 48, 588965, tzinfo=TzInfo(UTC)),\n",
              "     fact='I plan to get my three-year-old niece a doll for Christmas.',\n",
              "     name='projects/437300234315/locations/us-central1/reasoningEngines/283924688617340928/memories/8674121448559738880',\n",
              "     scope={\n",
              "       'app_name': 'memory_example_app',\n",
              "       'user_id': 'My User'\n",
              "     },\n",
              "     update_time=datetime.datetime(2025, 10, 21, 14, 17, 48, 588965, tzinfo=TzInfo(UTC))\n",
              "   )\n",
              " ),\n",
              " RetrieveMemoriesResponseRetrievedMemory(\n",
              "   distance=0.8143763517425631,\n",
              "   memory=Memory(\n",
              "     create_time=datetime.datetime(2025, 10, 21, 13, 54, 55, 860546, tzinfo=TzInfo(UTC)),\n",
              "     fact='I got my three-year-old niece a red bike for her third birthday.',\n",
              "     name='projects/437300234315/locations/us-central1/reasoningEngines/283924688617340928/memories/4467337184130629632',\n",
              "     scope={\n",
              "       'app_name': 'memory_example_app',\n",
              "       'user_id': 'My User'\n",
              "     },\n",
              "     update_time=datetime.datetime(2025, 10, 21, 14, 15, 56, 19585, tzinfo=TzInfo(UTC))\n",
              "   )\n",
              " )]"
            ]
          },
          "execution_count": 28,
          "metadata": {},
          "output_type": "execute_result"
        }
      ],
      "source": [
        "response = client.agent_engines.memories.retrieve(\n",
        "    name=agent_engine.api_resource.name,\n",
        "    scope={\"app_name\": APP_NAME, \"user_id\": USER_ID},\n",
        "    similarity_search_params={\n",
        "        \"search_query\": \"What was I thinking about getting my niece for Christmas?\"\n",
        "    },\n",
        ")\n",
        "list(response)"
      ]
    },
    {
      "cell_type": "markdown",
      "metadata": {
        "id": "koK2O-odR36D"
      },
      "source": [
        "The prior example used the entire Session to generate memories. However, this can be costly as the size of the session increases.\n",
        "\n",
        "You can also use callbacks to only save the current turn to Memory Bank. This has the downside, however, where you lose some of the context of the conversation."
      ]
    },
    {
      "cell_type": "code",
      "execution_count": null,
      "metadata": {
        "id": "F5hWwSvEPaaW"
      },
      "outputs": [],
      "source": [
        "async def auto_save_user_turn_to_memory_callback(callback_context):\n",
        "    last_turn = callback_context._invocation_context.user_content\n",
        "    client.agent_engines.memories.generate(\n",
        "        name=agent_engine.api_resource.name,\n",
        "        scope={\"app_name\": APP_NAME, \"user_id\": USER_ID},\n",
        "        direct_contents_source={\"events\": [{\"content\": last_turn}]},\n",
        "        config={\"wait_for_completion\": False},\n",
        "    )\n",
        "    print(\"\\n****Triggered memory generation****\\n\")\n",
        "\n",
        "\n",
        "agent = LlmAgent(\n",
        "    model=MODEL,\n",
        "    name=\"Generic_QA_Agent\",\n",
        "    instruction=\"Answer the user's questions\",\n",
        "    tools=[adk.tools.preload_memory_tool.PreloadMemoryTool()],\n",
        "    before_agent_callback=auto_save_user_turn_to_memory_callback,\n",
        ")\n",
        "\n",
        "runner = Runner(\n",
        "    agent=agent,\n",
        "    app_name=APP_NAME,\n",
        "    session_service=session_service,\n",
        "    memory_service=memory_bank_service,\n",
        ")"
      ]
    },
    {
      "cell_type": "code",
      "execution_count": null,
      "metadata": {
        "colab": {
          "base_uri": "https://localhost:8080/"
        },
        "id": "ziRXQsAJPeYl",
        "outputId": "685fe622-90a0-48f3-e98e-741443c19441"
      },
      "outputs": [
        {
          "name": "stdout",
          "output_type": "stream",
          "text": [
            "\n",
            "****Triggered memory generation****\n",
            "\n"
          ]
        },
        {
          "name": "stderr",
          "output_type": "stream",
          "text": [
            "INFO:google_adk.google.adk.memory.vertex_ai_memory_bank_service:Search memory response received.\n",
            "DEBUG:google_adk.google.adk.memory.vertex_ai_memory_bank_service:Retrieved memory: distance=0.6587006361125946 memory=Memory(\n",
            "  create_time=datetime.datetime(2025, 10, 21, 14, 17, 48, 588965, tzinfo=TzInfo(UTC)),\n",
            "  fact='I plan to get my three-year-old niece a doll for Christmas.',\n",
            "  name='projects/437300234315/locations/us-central1/reasoningEngines/283924688617340928/memories/8674121448559738880',\n",
            "  scope={\n",
            "    'app_name': 'memory_example_app',\n",
            "    'user_id': 'My User'\n",
            "  },\n",
            "  update_time=datetime.datetime(2025, 10, 21, 14, 17, 48, 588965, tzinfo=TzInfo(UTC))\n",
            ")\n",
            "DEBUG:google_adk.google.adk.memory.vertex_ai_memory_bank_service:Retrieved memory: distance=0.9376007979564559 memory=Memory(\n",
            "  create_time=datetime.datetime(2025, 10, 21, 13, 54, 55, 859611, tzinfo=TzInfo(UTC)),\n",
            "  fact='I have a three-year-old niece.',\n",
            "  name='projects/437300234315/locations/us-central1/reasoningEngines/283924688617340928/memories/6773180193344323584',\n",
            "  scope={\n",
            "    'app_name': 'memory_example_app',\n",
            "    'user_id': 'My User'\n",
            "  },\n",
            "  update_time=datetime.datetime(2025, 10, 21, 14, 0, 56, 83625, tzinfo=TzInfo(UTC))\n",
            ")\n",
            "DEBUG:google_adk.google.adk.memory.vertex_ai_memory_bank_service:Retrieved memory: distance=0.9382428087527607 memory=Memory(\n",
            "  create_time=datetime.datetime(2025, 10, 21, 13, 54, 55, 860546, tzinfo=TzInfo(UTC)),\n",
            "  fact='I got my three-year-old niece a red bike for her third birthday.',\n",
            "  name='projects/437300234315/locations/us-central1/reasoningEngines/283924688617340928/memories/4467337184130629632',\n",
            "  scope={\n",
            "    'app_name': 'memory_example_app',\n",
            "    'user_id': 'My User'\n",
            "  },\n",
            "  update_time=datetime.datetime(2025, 10, 21, 14, 15, 56, 19585, tzinfo=TzInfo(UTC))\n",
            ")\n",
            "INFO:google_adk.google.adk.models.google_llm:Sending out request, model: gemini-2.5-flash, backend: GoogleLLMVariant.VERTEX_AI, stream: False\n",
            "DEBUG:google_adk.google.adk.models.google_llm:\n",
            "LLM Request:\n",
            "-----------------------------------------------------------\n",
            "System Instruction:\n",
            "Answer the user's questions\n",
            "\n",
            "You are an agent. Your internal name is \"Generic_QA_Agent\".\n",
            "\n",
            "The following content is from your previous conversations with the user.\n",
            "They may be useful for answering the user's current query.\n",
            "<PAST_CONVERSATIONS>\n",
            "Time: 2025-10-21T14:17:48.588965+00:00\n",
            "user: I plan to get my three-year-old niece a doll for Christmas.\n",
            "Time: 2025-10-21T14:00:56.083625+00:00\n",
            "user: I have a three-year-old niece.\n",
            "Time: 2025-10-21T14:15:56.019585+00:00\n",
            "user: I got my three-year-old niece a red bike for her third birthday.\n",
            "</PAST_CONVERSATIONS>\n",
            "\n",
            "-----------------------------------------------------------\n",
            "Contents:\n",
            "{\"parts\":[{\"text\":\"What christmas present recommendations do you have for my niece?\"}],\"role\":\"user\"}\n",
            "{\"parts\":[{\"text\":\"Your three-year-old niece sounds like she has a great bike already! For Christmas, you might consider something different to add to her playtime. Here are some recommendations for a three-year-old:\\n\\n1.  **Creative Play:**\\n    *   **Art Supplies:** Large crayons, washable finger paints, chunky paintbrushes, or a simple easel with paper.\\n    *   **Play-Doh Sets:** These are always a hit and encourage fine motor skills and imaginative creation.\\n    *   **Sticker Books:** Reusable sticker books or large activity sticker books can provide hours of fun.\\n\\n2.  **Building & Construction:**\\n    *   **DUPLO or Large Building Blocks:** Perfect for little hands to build towers, houses, and anything they can imagine.\\n    *   **Magnetic Tiles:** These are fantastic for open-ended building and exploring shapes.\\n\\n3.  **Imaginative & Pretend Play:**\\n    *   **Dress-Up Clothes:** A simple costume (like a fairy, princess, doctor, or animal) can spark endless stories.\\n    *   **Play Kitchen Accessories:** If she has a play kitchen, new food items, pots, or pans can refresh her play.\\n    *   **Doll or Stuffed Animal Set:** A new baby doll with accessories (bottle, blanket) or a set of small animal figures.\\n    *   **Puppets:** Hand puppets can encourage storytelling and communication.\\n\\n4.  **Books & Puzzles:**\\n    *   **Picture Books:** Look for engaging stories with colorful illustrations. Interactive books (lift-the-flap, touch-and-feel) are also popular.\\n    *   **Chunky Wooden Puzzles:** Simple 4-6 piece puzzles with knobs are great for developing problem-solving skills.\\n\\n5.  **Musical Instruments:**\\n    *   **Child-friendly instruments:** A toy keyboard, tambourine, or shakers can introduce her to music.\\n\\nThink about what she's currently interested in, whether it's animals, vehicles, princesses, or creating things, and that might help narrow down the perfect gift!\"}],\"role\":\"model\"}\n",
            "{\"parts\":[{\"text\":\"I think I'll get her a doll. What types are good for her age?\"}],\"role\":\"user\"}\n",
            "{\"parts\":[{\"text\":\"That's a lovely idea! Dolls are wonderful for encouraging imaginative play, nurturing, and developing social-emotional skills in three-year-olds.\\n\\nFor a three-year-old, you'll want something that is durable, easy for them to manage, and safe. Here are some types of dolls that are generally great for her age:\\n\\n1.  **Soft-Bodied Baby Dolls:**\\n    *   **Why they're good:** These are often the first choice for this age. They are soft and cuddly, perfect for hugging and comforting. Many come with simple outfits that are easy for little hands to put on and take off (great for developing fine motor skills). They encourage nurturing play, like feeding, rocking, and putting to bed.\\n    *   **Look for:** Dolls with soft, washable bodies and simple, chunky clothing. Brands like Cabbage Patch Kids (the soft-bodied versions), Melissa & Doug, or smaller baby doll lines are popular.\\n\\n2.  **Toddler Dolls (like some \\\"My First\\\" dolls):**\\n    *   **Why they're good:** These are often slightly larger than baby dolls but still manageable. They might have a bit more articulation (moveable arms/legs) and a wider range of clothing options. They can be good for slightly more complex pretend play scenarios.\\n    *   **Look for:** Dolls that are still relatively soft, or made from durable, child-friendly plastic. Avoid dolls with tiny accessories or intricate hair that will tangle easily. \\\"My First Princess\\\" dolls from brands like Disney often fit this category, as they usually have simpler outfits and fewer small parts than the collector versions.\\n\\n3.  **Doll with Easy-to-Manage Hair:**\\n    *   **Why they're good:** At three, many children enjoy brushing and styling a doll's hair. Look for dolls with rooted hair that isn't too long or fine, making it less prone to tangling and easier for little fingers to brush.\\n    *   **Look for:** Hair that feels thick and securely rooted. Some dolls come with a simple brush.\\n\\n4.  **Simple Rag Dolls:**\\n    *   **Why they're good:** These are classic, timeless, and incredibly cuddly. They are usually very durable, machine washable, and have soft, friendly faces. They are great for quiet play and bedtime snuggles.\\n    *   **Look for:** Well-made rag dolls with embroidered features (no small buttons for eyes, etc.) and sturdy stitching.\\n\\n**Things to consider and avoid:**\\n\\n*   **Size:** Make sure the doll isn't too big or heavy for her to carry comfortably.\\n*   **Small Parts:** Absolutely avoid dolls with tiny shoes, hair accessories, or other small detachable parts that could be a choking hazard. Check age recommendations carefully.\\n*   **Complex Electronics:** While some dolls talk or sing, too many complex features can sometimes limit imaginative play. A simple doll leaves more room for her to create her own stories.\\n*   **Hair Quality:** Avoid dolls with very thin, wispy hair that knots and frizzes instantly, as it can be frustrating for a three-year-old.\\n\\nMany brands like **Corolle, Melissa & Doug, Manhattan Toy Company, HABA,** or even generic **soft baby dolls** you might find at toy stores, offer excellent options for this age group. If you can, opt for a doll with a friendly, welcoming expression.\\n\\nHappy shopping! She'll love whatever you choose.\"}],\"role\":\"model\"}\n",
            "{\"parts\":[{\"text\":\"I think I'll get her a doll. What types are good for her age?\"}],\"role\":\"user\"}\n",
            "-----------------------------------------------------------\n",
            "Functions:\n",
            "\n",
            "-----------------------------------------------------------\n",
            "\n",
            "INFO:google_adk.google.adk.models.google_llm:Response received from the model.\n",
            "DEBUG:google_adk.google.adk.models.google_llm:\n",
            "LLM Response:\n",
            "-----------------------------------------------------------\n",
            "Text:\n",
            "That's a wonderful choice! A doll is a classic gift that encourages nurturing, imaginative play, and social-emotional development in three-year-olds.\n",
            "\n",
            "When choosing a doll for her age, here are the key types that are generally best and why:\n",
            "\n",
            "1.  **Soft-Bodied Baby Dolls:**\n",
            "    *   **Why they're great:** These are often the most popular for this age. They're soft, cuddly, and perfect for hugging. Many come with simple, easy-to-manage clothing that helps children practice dressing skills. They naturally inspire nurturing play like feeding, rocking, and comforting.\n",
            "    *   **What to look for:** Washable materials are a plus! Look for dolls with friendly embroidered or painted faces rather than small plastic parts.\n",
            "\n",
            "2.  **Toddler Dolls (e.g., \"My First\" dolls):**\n",
            "    *   **Why they're great:** These dolls might be a bit larger or have slightly more articulation (movable limbs) than pure baby dolls but are still designed for younger children. They can be great for slightly more complex imaginative scenarios.\n",
            "    *   **What to look for:** Ensure they're still robust and don't have intricate outfits or tiny accessories that are difficult for little hands to manage.\n",
            "\n",
            "3.  **Rag Dolls:**\n",
            "    *   **Why they're great:** Timeless and incredibly durable, rag dolls are very cuddly and often machine washable. Their simple design encourages children to create their own stories and personalities for the doll.\n",
            "    *   **What to look for:** Well-made construction, embroidered features (to avoid choking hazards from buttons), and soft, child-safe materials.\n",
            "\n",
            "**Key Considerations for a 3-year-old:**\n",
            "\n",
            "*   **No Small Parts:** This is crucial. Avoid dolls with tiny shoes, hair clips, jewelry, or any other small detachable pieces that could be a choking hazard. Always double-check age recommendations.\n",
            "*   **Manageable Size:** The doll shouldn't be too big or heavy for her to easily carry, dress, and play with independently.\n",
            "*   **Durable & Washable:** Three-year-olds can be enthusiastic! A doll that can withstand play and be easily cleaned is a major plus.\n",
            "*   **Simple Features:** While some dolls have electronic functions, a simple doll often fosters more imaginative play as your niece creates the doll's voice and personality.\n",
            "*   **Easy Hair (if applicable):** If the doll has hair, look for rooted hair that isn't too long or fine, making it less prone to tangles and easier for her to brush (if she's interested in that).\n",
            "\n",
            "Popular brands like **Corolle, Melissa & Doug, Manhattan Toy Company, HABA,** and various generic soft baby dolls from reputable toy stores offer excellent choices suitable for a three-year-old. She'll be thrilled with a doll for Christmas!\n",
            "-----------------------------------------------------------\n",
            "Function calls:\n",
            "\n",
            "-----------------------------------------------------------\n",
            "Raw response:\n",
            "{\"sdk_http_response\":{\"headers\":{\"Content-Type\":\"application/json; charset=UTF-8\",\"Vary\":\"Origin, X-Origin, Referer\",\"Content-Encoding\":\"gzip\",\"Date\":\"Tue, 21 Oct 2025 14:22:11 GMT\",\"Server\":\"scaffolding on HTTPServer2\",\"X-XSS-Protection\":\"0\",\"X-Frame-Options\":\"SAMEORIGIN\",\"X-Content-Type-Options\":\"nosniff\",\"Transfer-Encoding\":\"chunked\"}},\"candidates\":[{\"content\":{\"parts\":[{\"text\":\"That's a wonderful choice! A doll is a classic gift that encourages nurturing, imaginative play, and social-emotional development in three-year-olds.\\n\\nWhen choosing a doll for her age, here are the key types that are generally best and why:\\n\\n1.  **Soft-Bodied Baby Dolls:**\\n    *   **Why they're great:** These are often the most popular for this age. They're soft, cuddly, and perfect for hugging. Many come with simple, easy-to-manage clothing that helps children practice dressing skills. They naturally inspire nurturing play like feeding, rocking, and comforting.\\n    *   **What to look for:** Washable materials are a plus! Look for dolls with friendly embroidered or painted faces rather than small plastic parts.\\n\\n2.  **Toddler Dolls (e.g., \\\"My First\\\" dolls):**\\n    *   **Why they're great:** These dolls might be a bit larger or have slightly more articulation (movable limbs) than pure baby dolls but are still designed for younger children. They can be great for slightly more complex imaginative scenarios.\\n    *   **What to look for:** Ensure they're still robust and don't have intricate outfits or tiny accessories that are difficult for little hands to manage.\\n\\n3.  **Rag Dolls:**\\n    *   **Why they're great:** Timeless and incredibly durable, rag dolls are very cuddly and often machine washable. Their simple design encourages children to create their own stories and personalities for the doll.\\n    *   **What to look for:** Well-made construction, embroidered features (to avoid choking hazards from buttons), and soft, child-safe materials.\\n\\n**Key Considerations for a 3-year-old:**\\n\\n*   **No Small Parts:** This is crucial. Avoid dolls with tiny shoes, hair clips, jewelry, or any other small detachable pieces that could be a choking hazard. Always double-check age recommendations.\\n*   **Manageable Size:** The doll shouldn't be too big or heavy for her to easily carry, dress, and play with independently.\\n*   **Durable & Washable:** Three-year-olds can be enthusiastic! A doll that can withstand play and be easily cleaned is a major plus.\\n*   **Simple Features:** While some dolls have electronic functions, a simple doll often fosters more imaginative play as your niece creates the doll's voice and personality.\\n*   **Easy Hair (if applicable):** If the doll has hair, look for rooted hair that isn't too long or fine, making it less prone to tangles and easier for her to brush (if she's interested in that).\\n\\nPopular brands like **Corolle, Melissa & Doug, Manhattan Toy Company, HABA,** and various generic soft baby dolls from reputable toy stores offer excellent choices suitable for a three-year-old. She'll be thrilled with a doll for Christmas!\"}],\"role\":\"model\"},\"finish_reason\":\"STOP\",\"avg_logprobs\":-0.4524714194053461}],\"create_time\":\"2025-10-21T14:22:07.032947Z\",\"model_version\":\"gemini-2.5-flash\",\"response_id\":\"D5f3aLOBAqCH3NoPqZW5gAo\",\"usage_metadata\":{\"candidates_token_count\":605,\"candidates_tokens_details\":[{\"modality\":\"TEXT\",\"token_count\":605}],\"prompt_token_count\":1443,\"prompt_tokens_details\":[{\"modality\":\"TEXT\",\"token_count\":1443}],\"thoughts_token_count\":62,\"total_token_count\":2110,\"traffic_type\":\"ON_DEMAND\"},\"automatic_function_calling_history\":[]}\n",
            "-----------------------------------------------------------\n",
            "\n"
          ]
        },
        {
          "name": "stdout",
          "output_type": "stream",
          "text": [
            "Agent Response:  That's a wonderful choice! A doll is a classic gift that encourages nurturing, imaginative play, and social-emotional development in three-year-olds.\n",
            "\n",
            "When choosing a doll for her age, here are the key types that are generally best and why:\n",
            "\n",
            "1.  **Soft-Bodied Baby Dolls:**\n",
            "    *   **Why they're great:** These are often the most popular for this age. They're soft, cuddly, and perfect for hugging. Many come with simple, easy-to-manage clothing that helps children practice dressing skills. They naturally inspire nurturing play like feeding, rocking, and comforting.\n",
            "    *   **What to look for:** Washable materials are a plus! Look for dolls with friendly embroidered or painted faces rather than small plastic parts.\n",
            "\n",
            "2.  **Toddler Dolls (e.g., \"My First\" dolls):**\n",
            "    *   **Why they're great:** These dolls might be a bit larger or have slightly more articulation (movable limbs) than pure baby dolls but are still designed for younger children. They can be great for slightly more complex imaginative scenarios.\n",
            "    *   **What to look for:** Ensure they're still robust and don't have intricate outfits or tiny accessories that are difficult for little hands to manage.\n",
            "\n",
            "3.  **Rag Dolls:**\n",
            "    *   **Why they're great:** Timeless and incredibly durable, rag dolls are very cuddly and often machine washable. Their simple design encourages children to create their own stories and personalities for the doll.\n",
            "    *   **What to look for:** Well-made construction, embroidered features (to avoid choking hazards from buttons), and soft, child-safe materials.\n",
            "\n",
            "**Key Considerations for a 3-year-old:**\n",
            "\n",
            "*   **No Small Parts:** This is crucial. Avoid dolls with tiny shoes, hair clips, jewelry, or any other small detachable pieces that could be a choking hazard. Always double-check age recommendations.\n",
            "*   **Manageable Size:** The doll shouldn't be too big or heavy for her to easily carry, dress, and play with independently.\n",
            "*   **Durable & Washable:** Three-year-olds can be enthusiastic! A doll that can withstand play and be easily cleaned is a major plus.\n",
            "*   **Simple Features:** While some dolls have electronic functions, a simple doll often fosters more imaginative play as your niece creates the doll's voice and personality.\n",
            "*   **Easy Hair (if applicable):** If the doll has hair, look for rooted hair that isn't too long or fine, making it less prone to tangles and easier for her to brush (if she's interested in that).\n",
            "\n",
            "Popular brands like **Corolle, Melissa & Doug, Manhattan Toy Company, HABA,** and various generic soft baby dolls from reputable toy stores offer excellent choices suitable for a three-year-old. She'll be thrilled with a doll for Christmas!\n"
          ]
        }
      ],
      "source": [
        "call_agent(\n",
        "    \"I think I'll get her a doll. What types are good for her age?\",\n",
        "    session.id,\n",
        "    user_id=USER_ID,\n",
        ")"
      ]
    },
    {
      "cell_type": "markdown",
      "metadata": {
        "id": "rstDOvEhWogm"
      },
      "source": [
        "## Using Memory in your agent\n",
        "\n",
        "Now, let's link our agent to Memory, so that memories can be fetched by your agent and used for inference. This allows your agent to remember information from prior sessions in a new, empty session.\n",
        "\n",
        "You can use ADK's built-in tools to fetch memories and incorporate them in the prompt. When using the built-in tools, it's important to provide both a memory tool when creating your Agent and a memory service when defining your Runner."
      ]
    },
    {
      "cell_type": "markdown",
      "metadata": {
        "id": "yOiYWk7GZlyN"
      },
      "source": [
        "### `adk.PreloadMemoryTool`\n",
        "The `PreloadMemoryTool` always retrieves memories at the start of each turn and includes the memories in the system instruction.\n",
        "\n",
        "Under the hood, it invokes `memory_service.search_memory` for the given User and App Name. Memory is invoked before the LLM is called, so there will not be an associated tool call logged for memory.\n",
        "\n",
        "We're going to use a [callback](https://google.github.io/adk-docs/callbacks/) to print out the System Instructions. Since we use `before_model_callback`, the callback executes right before the model is called.\n",
        "\n",
        "<img src=\"https://google.github.io/adk-docs/assets/callback_flow.png\">"
      ]
    },
    {
      "cell_type": "code",
      "execution_count": null,
      "metadata": {
        "id": "l1ENgxmkWnVl"
      },
      "outputs": [],
      "source": [
        "from google import adk\n",
        "\n",
        "\n",
        "def log_system_instructions(callback_context, llm_request):\n",
        "    \"\"\"A callback to print the LLM request.\"\"\"\n",
        "    print(\n",
        "        f\"\\n*System Instruction*:\\n{llm_request.config.system_instruction}\\n*********\\n\"\n",
        "    )\n",
        "\n",
        "\n",
        "agent = LlmAgent(\n",
        "    model=MODEL,\n",
        "    name=\"Generic_QA_Agent\",\n",
        "    instruction=\"Answer the user's questions\",\n",
        "    tools=[adk.tools.preload_memory_tool.PreloadMemoryTool()],\n",
        "    before_model_callback=log_system_instructions,\n",
        ")\n",
        "\n",
        "runner = Runner(\n",
        "    agent=agent,\n",
        "    app_name=APP_NAME,\n",
        "    session_service=session_service,\n",
        "    memory_service=memory_bank_service,\n",
        ")"
      ]
    },
    {
      "cell_type": "markdown",
      "metadata": {
        "id": "r0g7dxD0aG_H"
      },
      "source": [
        "This conversation uses a new session, so it doesn't have access to the user's conversation history without using memory.\n",
        "\n",
        "Since we're using `PreloadMemoryTool`, the retrieved memories will be appended to the System Instructions."
      ]
    },
    {
      "cell_type": "code",
      "execution_count": null,
      "metadata": {
        "colab": {
          "base_uri": "https://localhost:8080/"
        },
        "id": "2FD9VV_4Hqja",
        "outputId": "4a9b0535-052d-4e5a-d28c-ee06e0f6a09f"
      },
      "outputs": [
        {
          "name": "stderr",
          "output_type": "stream",
          "text": [
            "INFO:google_adk.google.adk.memory.vertex_ai_memory_bank_service:Search memory response received.\n",
            "DEBUG:google_adk.google.adk.memory.vertex_ai_memory_bank_service:Retrieved memory: distance=0.8436347388201234 memory=Memory(\n",
            "  create_time=datetime.datetime(2025, 10, 21, 13, 54, 55, 860546, tzinfo=TzInfo(UTC)),\n",
            "  fact='I got my three-year-old niece a red bike for her third birthday.',\n",
            "  name='projects/437300234315/locations/us-central1/reasoningEngines/283924688617340928/memories/4467337184130629632',\n",
            "  scope={\n",
            "    'app_name': 'memory_example_app',\n",
            "    'user_id': 'My User'\n",
            "  },\n",
            "  update_time=datetime.datetime(2025, 10, 21, 14, 15, 56, 19585, tzinfo=TzInfo(UTC))\n",
            ")\n",
            "DEBUG:google_adk.google.adk.memory.vertex_ai_memory_bank_service:Retrieved memory: distance=0.8454955729521494 memory=Memory(\n",
            "  create_time=datetime.datetime(2025, 10, 21, 14, 17, 48, 588965, tzinfo=TzInfo(UTC)),\n",
            "  fact='I plan to get my three-year-old niece a doll for Christmas.',\n",
            "  name='projects/437300234315/locations/us-central1/reasoningEngines/283924688617340928/memories/8674121448559738880',\n",
            "  scope={\n",
            "    'app_name': 'memory_example_app',\n",
            "    'user_id': 'My User'\n",
            "  },\n",
            "  update_time=datetime.datetime(2025, 10, 21, 14, 17, 48, 588965, tzinfo=TzInfo(UTC))\n",
            ")\n",
            "DEBUG:google_adk.google.adk.memory.vertex_ai_memory_bank_service:Retrieved memory: distance=0.8461041281672127 memory=Memory(\n",
            "  create_time=datetime.datetime(2025, 10, 21, 13, 54, 55, 859611, tzinfo=TzInfo(UTC)),\n",
            "  fact='I have a three-year-old niece.',\n",
            "  name='projects/437300234315/locations/us-central1/reasoningEngines/283924688617340928/memories/6773180193344323584',\n",
            "  scope={\n",
            "    'app_name': 'memory_example_app',\n",
            "    'user_id': 'My User'\n",
            "  },\n",
            "  update_time=datetime.datetime(2025, 10, 21, 14, 0, 56, 83625, tzinfo=TzInfo(UTC))\n",
            ")\n"
          ]
        },
        {
          "name": "stdout",
          "output_type": "stream",
          "text": [
            "\n",
            "*System Instruction*:\n",
            "Answer the user's questions\n",
            "\n",
            "You are an agent. Your internal name is \"Generic_QA_Agent\".\n",
            "\n",
            "The following content is from your previous conversations with the user.\n",
            "They may be useful for answering the user's current query.\n",
            "<PAST_CONVERSATIONS>\n",
            "Time: 2025-10-21T14:15:56.019585+00:00\n",
            "user: I got my three-year-old niece a red bike for her third birthday.\n",
            "Time: 2025-10-21T14:17:48.588965+00:00\n",
            "user: I plan to get my three-year-old niece a doll for Christmas.\n",
            "Time: 2025-10-21T14:00:56.083625+00:00\n",
            "user: I have a three-year-old niece.\n",
            "</PAST_CONVERSATIONS>\n",
            "\n",
            "*********\n",
            "\n"
          ]
        },
        {
          "name": "stderr",
          "output_type": "stream",
          "text": [
            "INFO:google_adk.google.adk.models.google_llm:Sending out request, model: gemini-2.5-flash, backend: GoogleLLMVariant.VERTEX_AI, stream: False\n",
            "DEBUG:google_adk.google.adk.models.google_llm:\n",
            "LLM Request:\n",
            "-----------------------------------------------------------\n",
            "System Instruction:\n",
            "Answer the user's questions\n",
            "\n",
            "You are an agent. Your internal name is \"Generic_QA_Agent\".\n",
            "\n",
            "The following content is from your previous conversations with the user.\n",
            "They may be useful for answering the user's current query.\n",
            "<PAST_CONVERSATIONS>\n",
            "Time: 2025-10-21T14:15:56.019585+00:00\n",
            "user: I got my three-year-old niece a red bike for her third birthday.\n",
            "Time: 2025-10-21T14:17:48.588965+00:00\n",
            "user: I plan to get my three-year-old niece a doll for Christmas.\n",
            "Time: 2025-10-21T14:00:56.083625+00:00\n",
            "user: I have a three-year-old niece.\n",
            "</PAST_CONVERSATIONS>\n",
            "\n",
            "-----------------------------------------------------------\n",
            "Contents:\n",
            "{\"parts\":[{\"text\":\"Can you remind me what I got my niece for her christmas?\"}],\"role\":\"user\"}\n",
            "-----------------------------------------------------------\n",
            "Functions:\n",
            "\n",
            "-----------------------------------------------------------\n",
            "\n",
            "INFO:google_adk.google.adk.models.google_llm:Response received from the model.\n",
            "DEBUG:google_adk.google.adk.models.google_llm:\n",
            "LLM Response:\n",
            "-----------------------------------------------------------\n",
            "Text:\n",
            "You planned to get your niece a doll for Christmas.\n",
            "-----------------------------------------------------------\n",
            "Function calls:\n",
            "\n",
            "-----------------------------------------------------------\n",
            "Raw response:\n",
            "{\"sdk_http_response\":{\"headers\":{\"Content-Type\":\"application/json; charset=UTF-8\",\"Vary\":\"Origin, X-Origin, Referer\",\"Content-Encoding\":\"gzip\",\"Date\":\"Tue, 21 Oct 2025 14:23:47 GMT\",\"Server\":\"scaffolding on HTTPServer2\",\"X-XSS-Protection\":\"0\",\"X-Frame-Options\":\"SAMEORIGIN\",\"X-Content-Type-Options\":\"nosniff\",\"Transfer-Encoding\":\"chunked\"}},\"candidates\":[{\"content\":{\"parts\":[{\"text\":\"You planned to get your niece a doll for Christmas.\"}],\"role\":\"model\"},\"finish_reason\":\"STOP\",\"avg_logprobs\":-3.0602767250754614}],\"create_time\":\"2025-10-21T14:23:46.244591Z\",\"model_version\":\"gemini-2.5-flash\",\"response_id\":\"cpf3aO_2DtWD2PgPnuuEyAE\",\"usage_metadata\":{\"candidates_token_count\":11,\"candidates_tokens_details\":[{\"modality\":\"TEXT\",\"token_count\":11}],\"prompt_token_count\":240,\"prompt_tokens_details\":[{\"modality\":\"TEXT\",\"token_count\":240}],\"thoughts_token_count\":146,\"total_token_count\":397,\"traffic_type\":\"ON_DEMAND\"},\"automatic_function_calling_history\":[]}\n",
            "-----------------------------------------------------------\n",
            "\n"
          ]
        },
        {
          "name": "stdout",
          "output_type": "stream",
          "text": [
            "Agent Response:  You planned to get your niece a doll for Christmas.\n"
          ]
        }
      ],
      "source": [
        "session = await session_service.create_session(app_name=APP_NAME, user_id=USER_ID)\n",
        "\n",
        "call_agent(\n",
        "    \"Can you remind me what I got my niece for her christmas?\",\n",
        "    session.id,\n",
        "    user_id=USER_ID,\n",
        ")"
      ]
    },
    {
      "cell_type": "markdown",
      "metadata": {
        "id": "TSpv-aGuaG4g"
      },
      "source": [
        "### adk.LoadMemoryTool\n",
        "\n",
        "Now, let's use `LoadMemoryTool`. Unlike `PreloadMemoryTool`, this tool acts like a standard tool. Your agent needs to decide whether the tool should be invoked."
      ]
    },
    {
      "cell_type": "code",
      "execution_count": null,
      "metadata": {
        "id": "aIbplEW0ZlRR"
      },
      "outputs": [],
      "source": [
        "from google import adk\n",
        "\n",
        "\n",
        "def log_tool_call(tool, args, tool_response, **kwargs):\n",
        "    \"\"\"A callback to print the LLM request.\"\"\"\n",
        "    print(f\"\\n*Tool*:\\n{tool}\")\n",
        "    print(f\"\\n*Tool call*:\\n{args}\")\n",
        "    print(f\"\\n*Tool response*:\\n{tool_response}\\n*********\\n\")\n",
        "\n",
        "\n",
        "agent = LlmAgent(\n",
        "    model=MODEL,\n",
        "    name=\"Generic_QA_Agent\",\n",
        "    instruction=\"Answer the user's questions\",\n",
        "    tools=[adk.tools.load_memory_tool.LoadMemoryTool()],\n",
        "    before_model_callback=log_system_instructions,\n",
        "    after_tool_callback=log_tool_call,\n",
        ")\n",
        "\n",
        "runner = Runner(\n",
        "    agent=agent,\n",
        "    app_name=APP_NAME,\n",
        "    session_service=session_service,\n",
        "    memory_service=memory_bank_service,\n",
        ")"
      ]
    },
    {
      "cell_type": "code",
      "execution_count": null,
      "metadata": {
        "colab": {
          "base_uri": "https://localhost:8080/"
        },
        "id": "u2LLB98aZssb",
        "outputId": "87fbcf42-e97f-4e92-9201-c8ac47242567"
      },
      "outputs": [
        {
          "name": "stdout",
          "output_type": "stream",
          "text": [
            "\n",
            "*System Instruction*:\n",
            "Answer the user's questions\n",
            "\n",
            "You are an agent. Your internal name is \"Generic_QA_Agent\".\n",
            "\n",
            "\n",
            "You have memory. You can use it to answer questions. If any questions need\n",
            "you to look up the memory, you should call load_memory function with a query.\n",
            "\n",
            "*********\n",
            "\n"
          ]
        },
        {
          "name": "stderr",
          "output_type": "stream",
          "text": [
            "INFO:google_adk.google.adk.models.google_llm:Sending out request, model: gemini-2.5-flash, backend: GoogleLLMVariant.VERTEX_AI, stream: False\n",
            "DEBUG:google_adk.google.adk.models.google_llm:\n",
            "LLM Request:\n",
            "-----------------------------------------------------------\n",
            "System Instruction:\n",
            "Answer the user's questions\n",
            "\n",
            "You are an agent. Your internal name is \"Generic_QA_Agent\".\n",
            "\n",
            "\n",
            "You have memory. You can use it to answer questions. If any questions need\n",
            "you to look up the memory, you should call load_memory function with a query.\n",
            "\n",
            "-----------------------------------------------------------\n",
            "Contents:\n",
            "{\"parts\":[{\"text\":\"Can you remind me what I got my niece for her christmas?\"}],\"role\":\"user\"}\n",
            "-----------------------------------------------------------\n",
            "Functions:\n",
            "load_memory: {'query': {'type': <Type.STRING: 'STRING'>}} \n",
            "-----------------------------------------------------------\n",
            "\n",
            "INFO:google_adk.google.adk.models.google_llm:Response received from the model.\n",
            "WARNING:google_genai.types:Warning: there are non-text parts in the response: ['thought_signature', 'function_call'], returning concatenated text result from text parts. Check the full candidates.content.parts accessor to get the full model response.\n",
            "DEBUG:google_adk.google.adk.models.google_llm:\n",
            "LLM Response:\n",
            "-----------------------------------------------------------\n",
            "Text:\n",
            "None\n",
            "-----------------------------------------------------------\n",
            "Function calls:\n",
            "name: load_memory, args: {'query': 'what I got my niece for christmas'}\n",
            "-----------------------------------------------------------\n",
            "Raw response:\n",
            "{\"sdk_http_response\":{\"headers\":{\"Content-Type\":\"application/json; charset=UTF-8\",\"Vary\":\"Origin, X-Origin, Referer\",\"Content-Encoding\":\"gzip\",\"Date\":\"Tue, 21 Oct 2025 14:29:51 GMT\",\"Server\":\"scaffolding on HTTPServer2\",\"X-XSS-Protection\":\"0\",\"X-Frame-Options\":\"SAMEORIGIN\",\"X-Content-Type-Options\":\"nosniff\",\"Transfer-Encoding\":\"chunked\"}},\"candidates\":[{\"content\":{\"parts\":[{\"thought_signature\":\"CocDAePx_17DNHeYTJXEv0WXkgqsmsILFbCH-38bs2HI8EWKJvuzFco5saQTBFlJIWjDJiO7lYGOocdj0v9uaLuP_2isqk4ZqeKXz-SKnwC1fJpnWKCwqDRiNLQT_qCrpxe9DDTs3GlUDYkIQ0aoj5lK2c98aEfOiTg2TNe2Ip4q6VytaP646QHiPHyRKjDuNClBOzJaKkqp0RP0zD8CVoUIl73Co23xTtijoBuHckzP0eUaGESKbC-1Mkbf_38reuKoZr-8T8-CES8fersGprWMPJReOU1WItdsZRcIJvAbFcZyOfMchXySRF3q4Nh8qqJ1q4kavUjP-DeHF3sSPuXE_uOYvJj4MMvPxz5hAJIK4Ejy794fiaILJ-smCjJ7jmuLo9N0BXDtqq-rvnWQHXk3Judagc409bvzwAERLne-w6h3nHH7yFIZNK7HJL_ScwMdhhFs3WPPAf5KJmaTuri7RYIj2Bmly_r09dQM7gaeAdjOtLro-zgV253wfel-GzmxD1AvGqKDjQ==\",\"function_call\":{\"args\":{\"query\":\"what I got my niece for christmas\"},\"name\":\"load_memory\"}}],\"role\":\"model\"},\"finish_reason\":\"STOP\",\"avg_logprobs\":-2.1048460873690518}],\"create_time\":\"2025-10-21T14:29:50.598579Z\",\"model_version\":\"gemini-2.5-flash\",\"response_id\":\"3pj3aLPEJNWD2PgPnuuEyAE\",\"usage_metadata\":{\"candidates_token_count\":11,\"candidates_tokens_details\":[{\"modality\":\"TEXT\",\"token_count\":11}],\"prompt_token_count\":114,\"prompt_tokens_details\":[{\"modality\":\"TEXT\",\"token_count\":114}],\"thoughts_token_count\":80,\"total_token_count\":205,\"traffic_type\":\"ON_DEMAND\"},\"automatic_function_calling_history\":[]}\n",
            "-----------------------------------------------------------\n",
            "\n",
            "INFO:google_adk.google.adk.memory.vertex_ai_memory_bank_service:Search memory response received.\n",
            "DEBUG:google_adk.google.adk.memory.vertex_ai_memory_bank_service:Retrieved memory: distance=0.7643322053222495 memory=Memory(\n",
            "  create_time=datetime.datetime(2025, 10, 21, 13, 54, 55, 859611, tzinfo=TzInfo(UTC)),\n",
            "  fact='I have a three-year-old niece.',\n",
            "  name='projects/437300234315/locations/us-central1/reasoningEngines/283924688617340928/memories/6773180193344323584',\n",
            "  scope={\n",
            "    'app_name': 'memory_example_app',\n",
            "    'user_id': 'My User'\n",
            "  },\n",
            "  update_time=datetime.datetime(2025, 10, 21, 14, 0, 56, 83625, tzinfo=TzInfo(UTC))\n",
            ")\n",
            "DEBUG:google_adk.google.adk.memory.vertex_ai_memory_bank_service:Retrieved memory: distance=0.7894313063666599 memory=Memory(\n",
            "  create_time=datetime.datetime(2025, 10, 21, 14, 17, 48, 588965, tzinfo=TzInfo(UTC)),\n",
            "  fact='I plan to get my three-year-old niece a doll for Christmas.',\n",
            "  name='projects/437300234315/locations/us-central1/reasoningEngines/283924688617340928/memories/8674121448559738880',\n",
            "  scope={\n",
            "    'app_name': 'memory_example_app',\n",
            "    'user_id': 'My User'\n",
            "  },\n",
            "  update_time=datetime.datetime(2025, 10, 21, 14, 17, 48, 588965, tzinfo=TzInfo(UTC))\n",
            ")\n",
            "DEBUG:google_adk.google.adk.memory.vertex_ai_memory_bank_service:Retrieved memory: distance=0.7942956430698213 memory=Memory(\n",
            "  create_time=datetime.datetime(2025, 10, 21, 13, 54, 55, 860546, tzinfo=TzInfo(UTC)),\n",
            "  fact='I got my three-year-old niece a red bike for her third birthday.',\n",
            "  name='projects/437300234315/locations/us-central1/reasoningEngines/283924688617340928/memories/4467337184130629632',\n",
            "  scope={\n",
            "    'app_name': 'memory_example_app',\n",
            "    'user_id': 'My User'\n",
            "  },\n",
            "  update_time=datetime.datetime(2025, 10, 21, 14, 15, 56, 19585, tzinfo=TzInfo(UTC))\n",
            ")\n",
            "INFO:google_adk.google.adk.models.google_llm:Sending out request, model: gemini-2.5-flash, backend: GoogleLLMVariant.VERTEX_AI, stream: False\n",
            "DEBUG:google_adk.google.adk.models.google_llm:\n",
            "LLM Request:\n",
            "-----------------------------------------------------------\n",
            "System Instruction:\n",
            "Answer the user's questions\n",
            "\n",
            "You are an agent. Your internal name is \"Generic_QA_Agent\".\n",
            "\n",
            "\n",
            "You have memory. You can use it to answer questions. If any questions need\n",
            "you to look up the memory, you should call load_memory function with a query.\n",
            "\n",
            "-----------------------------------------------------------\n",
            "Contents:\n",
            "{\"parts\":[{\"text\":\"Can you remind me what I got my niece for her christmas?\"}],\"role\":\"user\"}\n",
            "{\"parts\":[{\"thought_signature\":\"CocDAePx_17DNHeYTJXEv0WXkgqsmsILFbCH-38bs2HI8EWKJvuzFco5saQTBFlJIWjDJiO7lYGOocdj0v9uaLuP_2isqk4ZqeKXz-SKnwC1fJpnWKCwqDRiNLQT_qCrpxe9DDTs3GlUDYkIQ0aoj5lK2c98aEfOiTg2TNe2Ip4q6VytaP646QHiPHyRKjDuNClBOzJaKkqp0RP0zD8CVoUIl73Co23xTtijoBuHckzP0eUaGESKbC-1Mkbf_38reuKoZr-8T8-CES8fersGprWMPJReOU1WItdsZRcIJvAbFcZyOfMchXySRF3q4Nh8qqJ1q4kavUjP-DeHF3sSPuXE_uOYvJj4MMvPxz5hAJIK4Ejy794fiaILJ-smCjJ7jmuLo9N0BXDtqq-rvnWQHXk3Judagc409bvzwAERLne-w6h3nHH7yFIZNK7HJL_ScwMdhhFs3WPPAf5KJmaTuri7RYIj2Bmly_r09dQM7gaeAdjOtLro-zgV253wfel-GzmxD1AvGqKDjQ==\",\"function_call\":{\"args\":{\"query\":\"what I got my niece for christmas\"},\"name\":\"load_memory\"}}],\"role\":\"model\"}\n",
            "{\"parts\":[{\"function_response\":{\"name\":\"load_memory\",\"response\":{\"result\":{\"memories\":[{\"content\":{\"parts\":[{\"text\":\"I have a three-year-old niece.\"}],\"role\":\"user\"},\"author\":\"user\",\"timestamp\":\"2025-10-21T14:00:56.083625+00:00\"},{\"content\":{\"parts\":[{\"text\":\"I plan to get my three-year-old niece a doll for Christmas.\"}],\"role\":\"user\"},\"author\":\"user\",\"timestamp\":\"2025-10-21T14:17:48.588965+00:00\"},{\"content\":{\"parts\":[{\"text\":\"I got my three-year-old niece a red bike for her third birthday.\"}],\"role\":\"user\"},\"author\":\"user\",\"timestamp\":\"2025-10-21T14:15:56.019585+00:00\"}]}}}}],\"role\":\"user\"}\n",
            "-----------------------------------------------------------\n",
            "Functions:\n",
            "load_memory: {'query': {'type': <Type.STRING: 'STRING'>}} \n",
            "-----------------------------------------------------------\n",
            "\n"
          ]
        },
        {
          "name": "stdout",
          "output_type": "stream",
          "text": [
            "\n",
            "*Tool*:\n",
            "<google.adk.tools.load_memory_tool.LoadMemoryTool object at 0x7fda78a18f50>\n",
            "\n",
            "*Tool call*:\n",
            "{'query': 'what I got my niece for christmas'}\n",
            "\n",
            "*Tool response*:\n",
            "memories=[MemoryEntry(content=Content(\n",
            "  parts=[\n",
            "    Part(\n",
            "      text='I have a three-year-old niece.'\n",
            "    ),\n",
            "  ],\n",
            "  role='user'\n",
            "), author='user', timestamp='2025-10-21T14:00:56.083625+00:00'), MemoryEntry(content=Content(\n",
            "  parts=[\n",
            "    Part(\n",
            "      text='I plan to get my three-year-old niece a doll for Christmas.'\n",
            "    ),\n",
            "  ],\n",
            "  role='user'\n",
            "), author='user', timestamp='2025-10-21T14:17:48.588965+00:00'), MemoryEntry(content=Content(\n",
            "  parts=[\n",
            "    Part(\n",
            "      text='I got my three-year-old niece a red bike for her third birthday.'\n",
            "    ),\n",
            "  ],\n",
            "  role='user'\n",
            "), author='user', timestamp='2025-10-21T14:15:56.019585+00:00')]\n",
            "*********\n",
            "\n",
            "\n",
            "*System Instruction*:\n",
            "Answer the user's questions\n",
            "\n",
            "You are an agent. Your internal name is \"Generic_QA_Agent\".\n",
            "\n",
            "\n",
            "You have memory. You can use it to answer questions. If any questions need\n",
            "you to look up the memory, you should call load_memory function with a query.\n",
            "\n",
            "*********\n",
            "\n"
          ]
        },
        {
          "name": "stderr",
          "output_type": "stream",
          "text": [
            "INFO:google_adk.google.adk.models.google_llm:Response received from the model.\n",
            "WARNING:google_genai.types:Warning: there are non-text parts in the response: ['thought_signature'], returning concatenated text result from text parts. Check the full candidates.content.parts accessor to get the full model response.\n",
            "DEBUG:google_adk.google.adk.models.google_llm:\n",
            "LLM Response:\n",
            "-----------------------------------------------------------\n",
            "Text:\n",
            "I'm sorry, I couldn't find a record of what you got your niece for Christmas. I can see that you *planned* to get her a doll, but not what you actually got her. I also see you got her a red bike for her third birthday.\n",
            "-----------------------------------------------------------\n",
            "Function calls:\n",
            "\n",
            "-----------------------------------------------------------\n",
            "Raw response:\n",
            "{\"sdk_http_response\":{\"headers\":{\"Content-Type\":\"application/json; charset=UTF-8\",\"Vary\":\"Origin, X-Origin, Referer\",\"Content-Encoding\":\"gzip\",\"Date\":\"Tue, 21 Oct 2025 14:29:57 GMT\",\"Server\":\"scaffolding on HTTPServer2\",\"X-XSS-Protection\":\"0\",\"X-Frame-Options\":\"SAMEORIGIN\",\"X-Content-Type-Options\":\"nosniff\",\"Transfer-Encoding\":\"chunked\"}},\"candidates\":[{\"content\":{\"parts\":[{\"thought_signature\":\"CuIEAePx_16Jx-Ji1dPyddpYcgoxe3VXifqnKwhlURKte99HbXnogTpyuOiSEFDPdi24HOACmuMQidvfaBMLiSkO8kPBUDO4kABjR4NVpQRs5dOx3S4xWoqo8gPUNh3JmWMTMVSrLV2S3Mof4Gnj3tTfzQGAO75a6SQtLjciZhwztSWrLY5-YRQ42QsAYR_bgjrMyVqJfnTLlQKKLhrMh653PmlTWQOpo_wlpXuwl0DAuiGVVm1EBnc70PQahm4LX0-QaCANWOwMHHmkkXzp0diSRO5HZYK6ZmqavofiHk58GfiGF3owVY9DSBZ0rPj7-Ew6B_pT3yvT1TdsFTqMBj0sj9q53Cn_6N7SiOm9TJuvkNrOEPSpIgfx2DKCQw3ICBVouL6swbmQiqGFiYLYOZ9L2FzXedKZ14k3dROTQCZZ0yYRq9KjJ0QE_m1QIxfGaUiJQdup6624BCSeDfqRfZIgNUwMiYEj_w3Af4HJXRjgTFIrpizzFuw5lzsKEZTQfgPbYR3ZE92_FkoLC0kxKYTjnfLvL7A4ryr01wfqJoOg8kG6EbJLnHBxifUefbmKAvMj2883TkIfKegPPtBjOpl4eYkx0Sdu8O09tRRn-5IkVKWEPVYedIIxXBM2l7m4wh5LA95HGaZTIl2HZkt-CvMCwAdB_qgQzJC9zlaO08qSYSaYQ0k_DBdm4pw-aQSNgzAP9rAW7PugRCK5oCvtMPU61FvJiA1VFVI4C_V2ay-tUWrgSPaWkgoFNSRQ4mehivsfbF-abAjxWNvNZEViZfCluSdJTffqRMm15YRevKPNPB4S1A==\",\"text\":\"I'm sorry, I couldn't find a record of what you got your niece for Christmas. I can see that you *planned* to get her a doll, but not what you actually got her. I also see you got her a red bike for her third birthday.\"}],\"role\":\"model\"},\"finish_reason\":\"STOP\",\"avg_logprobs\":-0.8120983859948945}],\"create_time\":\"2025-10-21T14:29:55.818380Z\",\"model_version\":\"gemini-2.5-flash\",\"response_id\":\"45j3aMz5MaWB2PgPgpCCyA8\",\"usage_metadata\":{\"candidates_token_count\":57,\"candidates_tokens_details\":[{\"modality\":\"TEXT\",\"token_count\":57}],\"prompt_token_count\":293,\"prompt_tokens_details\":[{\"modality\":\"TEXT\",\"token_count\":371}],\"thoughts_token_count\":136,\"total_token_count\":486,\"traffic_type\":\"ON_DEMAND\"},\"automatic_function_calling_history\":[]}\n",
            "-----------------------------------------------------------\n",
            "\n"
          ]
        },
        {
          "name": "stdout",
          "output_type": "stream",
          "text": [
            "Agent Response:  I'm sorry, I couldn't find a record of what you got your niece for Christmas. I can see that you *planned* to get her a doll, but not what you actually got her. I also see you got her a red bike for her third birthday.\n"
          ]
        }
      ],
      "source": [
        "session = await session_service.create_session(app_name=APP_NAME, user_id=USER_ID)\n",
        "\n",
        "call_agent(\n",
        "    \"Can you remind me what I got my niece for her christmas?\",\n",
        "    session.id,\n",
        "    user_id=USER_ID,\n",
        ")"
      ]
    },
    {
      "cell_type": "markdown",
      "metadata": {
        "id": "9uGnTDQO42tf"
      },
      "source": [
        "If the agent decides that Memory is not helpful for a given query, the Memory tool will not be invoked."
      ]
    },
    {
      "cell_type": "code",
      "execution_count": null,
      "metadata": {
        "colab": {
          "base_uri": "https://localhost:8080/"
        },
        "id": "Pmm3SJOsd288",
        "outputId": "4a41126a-0562-4145-e613-3311afefc7da"
      },
      "outputs": [
        {
          "name": "stdout",
          "output_type": "stream",
          "text": [
            "\n",
            "*System Instruction*:\n",
            "Answer the user's questions\n",
            "\n",
            "You are an agent. Your internal name is \"Generic_QA_Agent\".\n",
            "\n",
            "\n",
            "You have memory. You can use it to answer questions. If any questions need\n",
            "you to look up the memory, you should call load_memory function with a query.\n",
            "\n",
            "*********\n",
            "\n"
          ]
        },
        {
          "name": "stderr",
          "output_type": "stream",
          "text": [
            "INFO:google_adk.google.adk.models.google_llm:Sending out request, model: gemini-2.5-flash, backend: GoogleLLMVariant.VERTEX_AI, stream: False\n",
            "DEBUG:google_adk.google.adk.models.google_llm:\n",
            "LLM Request:\n",
            "-----------------------------------------------------------\n",
            "System Instruction:\n",
            "Answer the user's questions\n",
            "\n",
            "You are an agent. Your internal name is \"Generic_QA_Agent\".\n",
            "\n",
            "\n",
            "You have memory. You can use it to answer questions. If any questions need\n",
            "you to look up the memory, you should call load_memory function with a query.\n",
            "\n",
            "-----------------------------------------------------------\n",
            "Contents:\n",
            "{\"parts\":[{\"text\":\"Hi!\"}],\"role\":\"user\"}\n",
            "-----------------------------------------------------------\n",
            "Functions:\n",
            "load_memory: {'query': {'type': <Type.STRING: 'STRING'>}} \n",
            "-----------------------------------------------------------\n",
            "\n",
            "INFO:google_adk.google.adk.models.google_llm:Response received from the model.\n",
            "WARNING:google_genai.types:Warning: there are non-text parts in the response: ['thought_signature'], returning concatenated text result from text parts. Check the full candidates.content.parts accessor to get the full model response.\n",
            "DEBUG:google_adk.google.adk.models.google_llm:\n",
            "LLM Response:\n",
            "-----------------------------------------------------------\n",
            "Text:\n",
            "Hi there! How can I help you today?\n",
            "-----------------------------------------------------------\n",
            "Function calls:\n",
            "\n",
            "-----------------------------------------------------------\n",
            "Raw response:\n",
            "{\"sdk_http_response\":{\"headers\":{\"Content-Type\":\"application/json; charset=UTF-8\",\"Vary\":\"Origin, X-Origin, Referer\",\"Content-Encoding\":\"gzip\",\"Date\":\"Tue, 21 Oct 2025 14:30:17 GMT\",\"Server\":\"scaffolding on HTTPServer2\",\"X-XSS-Protection\":\"0\",\"X-Frame-Options\":\"SAMEORIGIN\",\"X-Content-Type-Options\":\"nosniff\",\"Transfer-Encoding\":\"chunked\"}},\"candidates\":[{\"content\":{\"parts\":[{\"thought_signature\":\"CqsBAePx_144DDbBadJlr8ZNMGG57Fln8nhj68_dAKzTMtln0Ef1Jf6NwhQ2sUSWUP61Ys12tEFUWejJerok_Ourd4_yxiqpidkUw3l2rkim_9VlkpjATDB6j0bvw_IBrRwl9Sxe8Lm-G4H9x9HAuhdkClonWw-hlFgHoOjA5Og4V8ryUmwkLNCfMGAbDfWRVjEnDPFvlbPaMYztVNti9_SQc-8qZIbURok2AZUD\",\"text\":\"Hi there! How can I help you today?\"}],\"role\":\"model\"},\"finish_reason\":\"STOP\",\"avg_logprobs\":-1.0614112854003905}],\"create_time\":\"2025-10-21T14:30:17.144634Z\",\"model_version\":\"gemini-2.5-flash\",\"response_id\":\"-Zj3aPrpCK2g3NoPg96PgAY\",\"usage_metadata\":{\"candidates_token_count\":10,\"candidates_tokens_details\":[{\"modality\":\"TEXT\",\"token_count\":10}],\"prompt_token_count\":103,\"prompt_tokens_details\":[{\"modality\":\"TEXT\",\"token_count\":103}],\"thoughts_token_count\":32,\"total_token_count\":145,\"traffic_type\":\"ON_DEMAND\"},\"automatic_function_calling_history\":[]}\n",
            "-----------------------------------------------------------\n",
            "\n"
          ]
        },
        {
          "name": "stdout",
          "output_type": "stream",
          "text": [
            "Agent Response:  Hi there! How can I help you today?\n"
          ]
        }
      ],
      "source": [
        "session = await session_service.create_session(app_name=APP_NAME, user_id=USER_ID)\n",
        "\n",
        "call_agent(\"Hi!\", session.id, user_id=USER_ID)"
      ]
    },
    {
      "cell_type": "markdown",
      "metadata": {
        "id": "-M6GeiZzAox6"
      },
      "source": [
        "### Custom callback to retrieve memories\n",
        "\n",
        "If you want more control over how memories are retrieved, you can create your own custom callback.\n",
        "\n",
        "For example, you can use the Agent Engine SDK within the callback to retrieve memories without similarity search. This is lower latency than using similarity search.\n",
        "\n",
        "You can also customize your `scope` rather than using the default \"app_name\" and \"user_id\" scope keys used by ADK's memory service."
      ]
    },
    {
      "cell_type": "code",
      "execution_count": null,
      "metadata": {
        "id": "TUc_jTzr5QSm"
      },
      "outputs": [],
      "source": [
        "def retrieve_memories_callback(callback_context, llm_request):\n",
        "    user_id = callback_context._invocation_context.user_id\n",
        "\n",
        "    response = client.agent_engines.memories.retrieve(\n",
        "        name=agent_engine.api_resource.name,\n",
        "        # Unlike the ADK Memory Service, this does not use App Name in the scope.\n",
        "        scope={\"user_id\": user_id},\n",
        "    )\n",
        "    memories = [f\"* {memory.memory.fact}\" for memory in list(response)]\n",
        "    if not memories:\n",
        "        # No memories to add to System Instructions.\n",
        "        return\n",
        "    # Append formatted memories to the System Instructions\n",
        "    llm_request.config.system_instruction += (\n",
        "        \"\\nHere is information that you have about the user:\\n\"\n",
        "    )\n",
        "    llm_request.config.system_instruction += \"\\n\".join(memories)\n",
        "\n",
        "\n",
        "def log_tool_call(tool, args, tool_response, **kwargs):\n",
        "    \"\"\"A callback to print the LLM request.\"\"\"\n",
        "    print(f\"\\n*Tool*:\\n{tool}\")\n",
        "    print(f\"\\n*Tool call*:\\n{args}\")\n",
        "    print(f\"\\n*Tool response*:\\n{log_tool_call}\\n*********\\n\")\n",
        "\n",
        "\n",
        "agent = LlmAgent(\n",
        "    model=MODEL,\n",
        "    name=\"Generic_QA_Agent\",\n",
        "    instruction=\"Answer the user's questions\",\n",
        "    before_model_callback=retrieve_memories_callback,\n",
        ")\n",
        "\n",
        "runner = Runner(\n",
        "    agent=agent,\n",
        "    app_name=APP_NAME,\n",
        "    session_service=session_service,\n",
        "    memory_service=memory_bank_service,\n",
        ")"
      ]
    },
    {
      "cell_type": "markdown",
      "metadata": {
        "id": "hPHr71m4_hiJ"
      },
      "source": [
        "Since we're using a different scope than the ADK Memory Service, we don't have access to the prior memories. Memories are isolated by their scope dictionary."
      ]
    },
    {
      "cell_type": "code",
      "execution_count": null,
      "metadata": {
        "colab": {
          "base_uri": "https://localhost:8080/"
        },
        "id": "0zV-bZtz51E6",
        "outputId": "afe6ff7c-46dd-41a4-b271-bf96e2f2b7f4"
      },
      "outputs": [
        {
          "name": "stderr",
          "output_type": "stream",
          "text": [
            "INFO:google_adk.google.adk.models.google_llm:Sending out request, model: gemini-2.5-flash, backend: GoogleLLMVariant.VERTEX_AI, stream: False\n",
            "DEBUG:google_adk.google.adk.models.google_llm:\n",
            "LLM Request:\n",
            "-----------------------------------------------------------\n",
            "System Instruction:\n",
            "Answer the user's questions\n",
            "\n",
            "You are an agent. Your internal name is \"Generic_QA_Agent\".\n",
            "-----------------------------------------------------------\n",
            "Contents:\n",
            "{\"parts\":[{\"text\":\"Hi!\"}],\"role\":\"user\"}\n",
            "-----------------------------------------------------------\n",
            "Functions:\n",
            "\n",
            "-----------------------------------------------------------\n",
            "\n",
            "INFO:google_adk.google.adk.models.google_llm:Response received from the model.\n",
            "DEBUG:google_adk.google.adk.models.google_llm:\n",
            "LLM Response:\n",
            "-----------------------------------------------------------\n",
            "Text:\n",
            "Hello there! How can I help you today?\n",
            "-----------------------------------------------------------\n",
            "Function calls:\n",
            "\n",
            "-----------------------------------------------------------\n",
            "Raw response:\n",
            "{\"sdk_http_response\":{\"headers\":{\"Content-Type\":\"application/json; charset=UTF-8\",\"Vary\":\"Origin, X-Origin, Referer\",\"Content-Encoding\":\"gzip\",\"Date\":\"Tue, 21 Oct 2025 14:34:40 GMT\",\"Server\":\"scaffolding on HTTPServer2\",\"X-XSS-Protection\":\"0\",\"X-Frame-Options\":\"SAMEORIGIN\",\"X-Content-Type-Options\":\"nosniff\",\"Transfer-Encoding\":\"chunked\"}},\"candidates\":[{\"content\":{\"parts\":[{\"text\":\"Hello there! How can I help you today?\"}],\"role\":\"model\"},\"finish_reason\":\"STOP\",\"avg_logprobs\":-0.5082371711730957}],\"create_time\":\"2025-10-21T14:34:40.111377Z\",\"model_version\":\"gemini-2.5-flash\",\"response_id\":\"AJr3aJHmBtWD2PgPnuuEyAE\",\"usage_metadata\":{\"candidates_token_count\":10,\"candidates_tokens_details\":[{\"modality\":\"TEXT\",\"token_count\":10}],\"prompt_token_count\":25,\"prompt_tokens_details\":[{\"modality\":\"TEXT\",\"token_count\":25}],\"thoughts_token_count\":23,\"total_token_count\":58,\"traffic_type\":\"ON_DEMAND\"},\"automatic_function_calling_history\":[]}\n",
            "-----------------------------------------------------------\n",
            "\n"
          ]
        },
        {
          "name": "stdout",
          "output_type": "stream",
          "text": [
            "Agent Response:  Hello there! How can I help you today?\n"
          ]
        }
      ],
      "source": [
        "session = await session_service.create_session(app_name=APP_NAME, user_id=USER_ID)\n",
        "\n",
        "call_agent(\"Hi!\", session.id, user_id=USER_ID)"
      ]
    },
    {
      "cell_type": "markdown",
      "metadata": {
        "id": "F-RoQ0UF_s5v"
      },
      "source": [
        "Let's first generate memories for our new scope."
      ]
    },
    {
      "cell_type": "code",
      "execution_count": null,
      "metadata": {
        "colab": {
          "base_uri": "https://localhost:8080/"
        },
        "id": "3PjiIK2L_r43",
        "outputId": "0d2f1466-829a-4eb4-9cd6-6d77148b5b76"
      },
      "outputs": [
        {
          "data": {
            "text/plain": [
              "AgentEngineGenerateMemoriesOperation(\n",
              "  done=True,\n",
              "  metadata={\n",
              "    '@type': 'type.googleapis.com/google.cloud.aiplatform.v1beta1.GenerateMemoriesOperationMetadata',\n",
              "    'genericMetadata': {\n",
              "      'createTime': '2025-10-21T14:36:07.761304Z',\n",
              "      'updateTime': '2025-10-21T14:36:10.561373Z'\n",
              "    }\n",
              "  },\n",
              "  name='projects/437300234315/locations/us-central1/reasoningEngines/283924688617340928/operations/2797386090502160384',\n",
              "  response=GenerateMemoriesResponse(\n",
              "    generated_memories=[\n",
              "      GenerateMemoriesResponseGeneratedMemory(\n",
              "        action=<GenerateMemoriesResponseGeneratedMemoryAction.CREATED: 'CREATED'>,\n",
              "        memory=Memory(\n",
              "          name='projects/437300234315/locations/us-central1/reasoningEngines/283924688617340928/memories/2531211556826382336'\n",
              "        )\n",
              "      ),\n",
              "    ]\n",
              "  )\n",
              ")"
            ]
          },
          "execution_count": 38,
          "metadata": {},
          "output_type": "execute_result"
        }
      ],
      "source": [
        "client.agent_engines.memories.generate(\n",
        "    scope={\"user_id\": USER_ID},\n",
        "    name=agent_engine.api_resource.name,\n",
        "    direct_contents_source={\n",
        "        \"events\": [\n",
        "            {\"content\": {\"role\": \"user\", \"parts\": [{\"text\": \"I have four nieces!\"}]}}\n",
        "        ]\n",
        "    },\n",
        ")"
      ]
    },
    {
      "cell_type": "code",
      "execution_count": null,
      "metadata": {
        "colab": {
          "base_uri": "https://localhost:8080/"
        },
        "id": "fTzgPdtU_9Qd",
        "outputId": "44a9d58a-baff-4496-ec06-d24452fad512"
      },
      "outputs": [
        {
          "name": "stderr",
          "output_type": "stream",
          "text": [
            "INFO:google_adk.google.adk.models.google_llm:Sending out request, model: gemini-2.5-flash, backend: GoogleLLMVariant.VERTEX_AI, stream: False\n",
            "DEBUG:google_adk.google.adk.models.google_llm:\n",
            "LLM Request:\n",
            "-----------------------------------------------------------\n",
            "System Instruction:\n",
            "Answer the user's questions\n",
            "\n",
            "You are an agent. Your internal name is \"Generic_QA_Agent\".\n",
            "Here is information that you have about the user:\n",
            "* I have four nieces.\n",
            "-----------------------------------------------------------\n",
            "Contents:\n",
            "{\"parts\":[{\"text\":\"Hi!\"}],\"role\":\"user\"}\n",
            "{\"parts\":[{\"text\":\"Hello there! How can I help you today?\"}],\"role\":\"model\"}\n",
            "{\"parts\":[{\"text\":\"What information do you know about me?\"}],\"role\":\"user\"}\n",
            "-----------------------------------------------------------\n",
            "Functions:\n",
            "\n",
            "-----------------------------------------------------------\n",
            "\n",
            "INFO:google_adk.google.adk.models.google_llm:Response received from the model.\n",
            "DEBUG:google_adk.google.adk.models.google_llm:\n",
            "LLM Response:\n",
            "-----------------------------------------------------------\n",
            "Text:\n",
            "I know that you have four nieces.\n",
            "-----------------------------------------------------------\n",
            "Function calls:\n",
            "\n",
            "-----------------------------------------------------------\n",
            "Raw response:\n",
            "{\"sdk_http_response\":{\"headers\":{\"Content-Type\":\"application/json; charset=UTF-8\",\"Vary\":\"Origin, X-Origin, Referer\",\"Content-Encoding\":\"gzip\",\"Date\":\"Tue, 21 Oct 2025 14:36:23 GMT\",\"Server\":\"scaffolding on HTTPServer2\",\"X-XSS-Protection\":\"0\",\"X-Frame-Options\":\"SAMEORIGIN\",\"X-Content-Type-Options\":\"nosniff\",\"Transfer-Encoding\":\"chunked\"}},\"candidates\":[{\"content\":{\"parts\":[{\"text\":\"I know that you have four nieces.\"}],\"role\":\"model\"},\"finish_reason\":\"STOP\",\"avg_logprobs\":-1.7027127742767334}],\"create_time\":\"2025-10-21T14:36:22.449994Z\",\"model_version\":\"gemini-2.5-flash\",\"response_id\":\"Zpr3aMq7G_qBnvgP1-TfQA\",\"usage_metadata\":{\"candidates_token_count\":8,\"candidates_tokens_details\":[{\"modality\":\"TEXT\",\"token_count\":8}],\"prompt_token_count\":61,\"prompt_tokens_details\":[{\"modality\":\"TEXT\",\"token_count\":61}],\"thoughts_token_count\":35,\"total_token_count\":104,\"traffic_type\":\"ON_DEMAND\"},\"automatic_function_calling_history\":[]}\n",
            "-----------------------------------------------------------\n",
            "\n"
          ]
        },
        {
          "name": "stdout",
          "output_type": "stream",
          "text": [
            "Agent Response:  I know that you have four nieces.\n"
          ]
        }
      ],
      "source": [
        "call_agent(\"What information do you know about me?\", session.id, user_id=USER_ID)"
      ]
    },
    {
      "cell_type": "markdown",
      "metadata": {
        "id": "SAw7Dax-biQW"
      },
      "source": [
        "## Customize your Memory Bank's behavior\n",
        "\n",
        "So far, we've used Memory Bank with it's default settings. Now, let's customize some configurations. The configuration is set when creating or updating your Agent Engine."
      ]
    },
    {
      "cell_type": "markdown",
      "metadata": {
        "id": "6nIKVog-sitb"
      },
      "source": [
        "### Customizing Memory Extraction\n",
        "\n",
        "By default, Memory Bank considers memories that fit the following topics to be meaningful:\n",
        "\n",
        "* **Personal information (`USER_PERSONAL_INFO`)**: Significant personal information about the user, like names, relationships, hobbies, and important dates. For example, \"I work at Google\" or \"My wedding anniversary is on December 31\".\n",
        "* **User preferences (`USER_PREFERENCES`)**: Stated or implied likes, dislikes, preferred styles, or patterns. For example, \"I prefer the middle seat.\"\n",
        "* **Key conversation events and task outcomes (`KEY_CONVERSATION_DETAILS`)**: Important milestones or conclusions within the dialogue. For example, \"I booked plane tickets for a round trip between JFK and SFO. I leave on June 1, 2025 and return on June 7, 2025.\"\n",
        "* **Explicit remember / forget instructions (`EXPLICIT_INSTRUCTIONS`)**: Information that the user explicitly asks the agent to remember or forget. For example, if the user says \"Remember that I primarily use Python,\" Memory Bank generates a memory such as \"I primarily use Python.\"\n",
        "\n",
        "These are managed topics where Memory Bank manages their definition. If you want to use a subset of these topics or use custom topics, you can provide a \"CustomizationConfig\" to customize what information Memory Bank should consider meaningful to persist."
      ]
    },
    {
      "cell_type": "markdown",
      "metadata": {
        "id": "G2pwuUddXf59"
      },
      "source": [
        "#### Managed Topics\n",
        "\n",
        "We're going to update our Memory Bank to only extract user preferences.\n",
        "\n",
        "This will take affect for all requests to Memory Bank, regardless of whether you use ADK or Agent Engine SDK."
      ]
    },
    {
      "cell_type": "code",
      "execution_count": null,
      "metadata": {
        "colab": {
          "base_uri": "https://localhost:8080/"
        },
        "id": "6qc7x-1tXWS_",
        "outputId": "29f596d1-5b53-4664-bae9-3492559f1fd8"
      },
      "outputs": [
        {
          "name": "stderr",
          "output_type": "stream",
          "text": [
            "INFO:vertexai_genai.agentengines:View progress and logs at https://console.cloud.google.com/logs/query?project=unstacked-x-bwai.\n",
            "INFO:vertexai_genai.agentengines:Agent Engine updated. To use it in another session:\n",
            "INFO:vertexai_genai.agentengines:agent_engine=client.agent_engines.get('projects/437300234315/locations/us-central1/reasoningEngines/283924688617340928')\n"
          ]
        },
        {
          "data": {
            "text/plain": [
              "AgentEngine(api_resource.name='projects/437300234315/locations/us-central1/reasoningEngines/283924688617340928')"
            ]
          },
          "execution_count": 40,
          "metadata": {},
          "output_type": "execute_result"
        }
      ],
      "source": [
        "user_preferences_config = {\n",
        "    \"scope_keys\": [\"user_id\"],\n",
        "    \"memory_topics\": [\n",
        "        {\"managed_memory_topic\": {\"managed_topic_enum\": \"USER_PREFERENCES\"}}\n",
        "    ],\n",
        "}\n",
        "\n",
        "\n",
        "client.agent_engines.update(\n",
        "    name=agent_engine.api_resource.name,\n",
        "    config={\n",
        "        \"context_spec\": {\n",
        "            \"memory_bank_config\": {\n",
        "                \"customization_configs\": [user_preferences_config],\n",
        "            }\n",
        "        }\n",
        "    },\n",
        ")"
      ]
    },
    {
      "cell_type": "markdown",
      "metadata": {
        "id": "t3RNGsTmYI74"
      },
      "source": [
        "Memories that fit the `USER_PREFERENCES` category will be persisted."
      ]
    },
    {
      "cell_type": "code",
      "execution_count": null,
      "metadata": {
        "colab": {
          "base_uri": "https://localhost:8080/"
        },
        "id": "g_efAhHIYGEC",
        "outputId": "d685c94e-173e-4fb9-f567-4400941977d4"
      },
      "outputs": [
        {
          "data": {
            "text/plain": [
              "AgentEngineGenerateMemoriesOperation(\n",
              "  done=True,\n",
              "  metadata={\n",
              "    '@type': 'type.googleapis.com/google.cloud.aiplatform.v1beta1.GenerateMemoriesOperationMetadata',\n",
              "    'genericMetadata': {\n",
              "      'createTime': '2025-10-21T14:38:23.614611Z',\n",
              "      'updateTime': '2025-10-21T14:38:26.594311Z'\n",
              "    }\n",
              "  },\n",
              "  name='projects/437300234315/locations/us-central1/reasoningEngines/283924688617340928/operations/3001173973640675328',\n",
              "  response=GenerateMemoriesResponse(\n",
              "    generated_memories=[\n",
              "      GenerateMemoriesResponseGeneratedMemory(\n",
              "        action=<GenerateMemoriesResponseGeneratedMemoryAction.CREATED: 'CREATED'>,\n",
              "        memory=Memory(\n",
              "          name='projects/437300234315/locations/us-central1/reasoningEngines/283924688617340928/memories/8818236636635594752'\n",
              "        )\n",
              "      ),\n",
              "    ]\n",
              "  )\n",
              ")"
            ]
          },
          "execution_count": 41,
          "metadata": {},
          "output_type": "execute_result"
        }
      ],
      "source": [
        "client.agent_engines.memories.generate(\n",
        "    scope={\"user_id\": USER_ID},\n",
        "    name=agent_engine.api_resource.name,\n",
        "    direct_contents_source={\n",
        "        \"events\": [\n",
        "            {\n",
        "                \"content\": {\n",
        "                    \"role\": \"user\",\n",
        "                    \"parts\": [{\"text\": \"I prefer the aisle seat\"}],\n",
        "                }\n",
        "            }\n",
        "        ]\n",
        "    },\n",
        ")"
      ]
    },
    {
      "cell_type": "markdown",
      "metadata": {
        "id": "0W7oEz7KYOks"
      },
      "source": [
        "Memories that don't fit `USER_PREFERENCES` won't be persisted."
      ]
    },
    {
      "cell_type": "code",
      "execution_count": null,
      "metadata": {
        "colab": {
          "base_uri": "https://localhost:8080/"
        },
        "id": "V9sQPIGQYTr0",
        "outputId": "eefe1e99-4bcc-4cc7-982f-d21dbe3eb998"
      },
      "outputs": [
        {
          "data": {
            "text/plain": [
              "AgentEngineGenerateMemoriesOperation(\n",
              "  done=True,\n",
              "  metadata={\n",
              "    '@type': 'type.googleapis.com/google.cloud.aiplatform.v1beta1.GenerateMemoriesOperationMetadata',\n",
              "    'genericMetadata': {\n",
              "      'createTime': '2025-10-21T14:38:33.401302Z',\n",
              "      'updateTime': '2025-10-21T14:38:34.552294Z'\n",
              "    }\n",
              "  },\n",
              "  name='projects/437300234315/locations/us-central1/reasoningEngines/283924688617340928/operations/3640685120727285760'\n",
              ")"
            ]
          },
          "execution_count": 42,
          "metadata": {},
          "output_type": "execute_result"
        }
      ],
      "source": [
        "client.agent_engines.memories.generate(\n",
        "    scope={\"user_id\": USER_ID},\n",
        "    name=agent_engine.api_resource.name,\n",
        "    direct_contents_source={\n",
        "        \"events\": [\n",
        "            {\n",
        "                \"content\": {\n",
        "                    \"role\": \"user\",\n",
        "                    \"parts\": [{\"text\": \"I'm going to get my niece a red bike\"}],\n",
        "                }\n",
        "            }\n",
        "        ]\n",
        "    },\n",
        ")"
      ]
    },
    {
      "cell_type": "markdown",
      "metadata": {
        "id": "SodYXQQrXMqD"
      },
      "source": [
        "#### Custom Topics\n",
        "Alternatively, you can define your own custom topics where you define your own labels, descriptions, and examples."
      ]
    },
    {
      "cell_type": "code",
      "execution_count": null,
      "metadata": {
        "colab": {
          "base_uri": "https://localhost:8080/"
        },
        "id": "o-W0cxdqsjRi",
        "outputId": "2d7098fc-14bc-49ff-95f2-a55240d843b0"
      },
      "outputs": [
        {
          "name": "stderr",
          "output_type": "stream",
          "text": [
            "INFO:vertexai_genai.agentengines:View progress and logs at https://console.cloud.google.com/logs/query?project=unstacked-x-bwai.\n",
            "INFO:vertexai_genai.agentengines:Agent Engine updated. To use it in another session:\n",
            "INFO:vertexai_genai.agentengines:agent_engine=client.agent_engines.get('projects/437300234315/locations/us-central1/reasoningEngines/283924688617340928')\n"
          ]
        },
        {
          "data": {
            "text/plain": [
              "AgentEngine(api_resource.name='projects/437300234315/locations/us-central1/reasoningEngines/283924688617340928')"
            ]
          },
          "execution_count": 43,
          "metadata": {},
          "output_type": "execute_result"
        }
      ],
      "source": [
        "from vertexai.types import MemoryBankCustomizationConfig as CustomizationConfig\n",
        "from vertexai.types import (\n",
        "    MemoryBankCustomizationConfigGenerateMemoriesExample as GenerateMemoriesExample,\n",
        ")\n",
        "from vertexai.types import (\n",
        "    MemoryBankCustomizationConfigGenerateMemoriesExampleConversationSource as ConversationSource,\n",
        ")\n",
        "from vertexai.types import (\n",
        "    MemoryBankCustomizationConfigGenerateMemoriesExampleConversationSourceEvent as ConversationSourceEvent,\n",
        ")\n",
        "from vertexai.types import (\n",
        "    MemoryBankCustomizationConfigGenerateMemoriesExampleGeneratedMemory as ExampleGeneratedMemory,\n",
        ")\n",
        "from vertexai.types import MemoryBankCustomizationConfigMemoryTopic as MemoryTopic\n",
        "from vertexai.types import (\n",
        "    MemoryBankCustomizationConfigMemoryTopicCustomMemoryTopic as CustomMemoryTopic,\n",
        ")\n",
        "\n",
        "memory_topic = MemoryTopic(\n",
        "    custom_memory_topic=CustomMemoryTopic(\n",
        "        label=\"business_feedback\",\n",
        "        description=\"\"\"Specific user feedback about their experience at\n",
        "the coffee shop. This includes opinions on drinks, food, pastries, ambiance,\n",
        "staff friendliness, service speed, cleanliness, and any suggestions for\n",
        "improvement.\"\"\",\n",
        "    )\n",
        ")\n",
        "\n",
        "\n",
        "example = GenerateMemoriesExample(\n",
        "    conversation_source=ConversationSource(\n",
        "        events=[\n",
        "            ConversationSourceEvent(\n",
        "                content=Content(\n",
        "                    role=\"model\",\n",
        "                    parts=[\n",
        "                        Part(\n",
        "                            text=\"Welcome back to The Daily Grind! We'd love to hear your feedback on your visit.\"\n",
        "                        )\n",
        "                    ],\n",
        "                )\n",
        "            ),\n",
        "            ConversationSourceEvent(\n",
        "                content=Content(\n",
        "                    role=\"user\",\n",
        "                    parts=[\n",
        "                        Part(\n",
        "                            text=\"Hey. The drip coffee was a bit lukewarm today, which was a bummer. Also, the music was way too loud, I could barely hear my friend.\"\n",
        "                        )\n",
        "                    ],\n",
        "                )\n",
        "            ),\n",
        "        ]\n",
        "    ),\n",
        "    generated_memories=[\n",
        "        ExampleGeneratedMemory(\n",
        "            fact=\"The user reported that the drip coffee was lukewarm.\"\n",
        "        ),\n",
        "        ExampleGeneratedMemory(\n",
        "            fact=\"The user felt the music in the shop was too loud.\"\n",
        "        ),\n",
        "    ],\n",
        ")\n",
        "\n",
        "noop_example = GenerateMemoriesExample(\n",
        "    conversation_source=ConversationSource(\n",
        "        events=[\n",
        "            ConversationSourceEvent(\n",
        "                content=Content(\n",
        "                    role=\"model\",\n",
        "                    parts=[\n",
        "                        Part(\n",
        "                            text=\"Welcome back to The Daily Grind! We'd love to hear your feedback on your visit.\"\n",
        "                        )\n",
        "                    ],\n",
        "                )\n",
        "            ),\n",
        "            ConversationSourceEvent(\n",
        "                content=Content(\n",
        "                    role=\"user\", parts=[Part(text=\"Thanks for the coffee!\")]\n",
        "                )\n",
        "            ),\n",
        "        ]\n",
        "    ),\n",
        "    generated_memories=[],\n",
        ")\n",
        "\n",
        "client.agent_engines.update(\n",
        "    name=agent_engine.api_resource.name,\n",
        "    config={\n",
        "        \"context_spec\": {\n",
        "            \"memory_bank_config\": {\n",
        "                \"customization_configs\": [\n",
        "                    CustomizationConfig(\n",
        "                        memory_topics=[memory_topic],\n",
        "                        generate_memories_examples=[example, noop_example],\n",
        "                    )\n",
        "                ],\n",
        "            }\n",
        "        }\n",
        "    },\n",
        ")"
      ]
    },
    {
      "cell_type": "code",
      "execution_count": null,
      "metadata": {
        "colab": {
          "base_uri": "https://localhost:8080/"
        },
        "id": "XE783Z_TDHC_",
        "outputId": "55dea5b8-5e41-469d-c0cd-573e79e0c100"
      },
      "outputs": [
        {
          "data": {
            "text/plain": [
              "AgentEngineGenerateMemoriesOperation(\n",
              "  done=True,\n",
              "  metadata={\n",
              "    '@type': 'type.googleapis.com/google.cloud.aiplatform.v1beta1.GenerateMemoriesOperationMetadata',\n",
              "    'genericMetadata': {\n",
              "      'createTime': '2025-10-21T14:40:13.466775Z',\n",
              "      'updateTime': '2025-10-21T14:40:14.572092Z'\n",
              "    }\n",
              "  },\n",
              "  name='projects/437300234315/locations/us-central1/reasoningEngines/283924688617340928/operations/2414298647198957568'\n",
              ")"
            ]
          },
          "execution_count": 44,
          "metadata": {},
          "output_type": "execute_result"
        }
      ],
      "source": [
        "client.agent_engines.memories.generate(\n",
        "    scope={\"user_id\": \"123\"},\n",
        "    name=agent_engine.api_resource.name,\n",
        "    direct_contents_source={\n",
        "        \"events\": [\n",
        "            {\n",
        "                \"content\": {\n",
        "                    \"role\": \"user\",\n",
        "                    \"parts\": [{\"text\": \"I prefer the aisle seat\"}],\n",
        "                }\n",
        "            }\n",
        "        ]\n",
        "    },\n",
        ")"
      ]
    },
    {
      "cell_type": "code",
      "execution_count": null,
      "metadata": {
        "colab": {
          "base_uri": "https://localhost:8080/"
        },
        "id": "u1j8iPHBdg6n",
        "outputId": "0fa802ae-c916-4914-dd2f-97790e2c8bd6"
      },
      "outputs": [
        {
          "data": {
            "text/plain": [
              "AgentEngineGenerateMemoriesOperation(\n",
              "  done=True,\n",
              "  metadata={\n",
              "    '@type': 'type.googleapis.com/google.cloud.aiplatform.v1beta1.GenerateMemoriesOperationMetadata',\n",
              "    'genericMetadata': {\n",
              "      'createTime': '2025-10-21T14:40:21.197068Z',\n",
              "      'updateTime': '2025-10-21T14:40:22.505189Z'\n",
              "    }\n",
              "  },\n",
              "  name='projects/437300234315/locations/us-central1/reasoningEngines/283924688617340928/operations/6017178349095354368',\n",
              "  response=GenerateMemoriesResponse(\n",
              "    generated_memories=[\n",
              "      GenerateMemoriesResponseGeneratedMemory(\n",
              "        action=<GenerateMemoriesResponseGeneratedMemoryAction.CREATED: 'CREATED'>,\n",
              "        memory=Memory(\n",
              "          name='projects/437300234315/locations/us-central1/reasoningEngines/283924688617340928/memories/6170120055741743104'\n",
              "        )\n",
              "      ),\n",
              "    ]\n",
              "  )\n",
              ")"
            ]
          },
          "execution_count": 45,
          "metadata": {},
          "output_type": "execute_result"
        }
      ],
      "source": [
        "import vertexai\n",
        "\n",
        "client.agent_engines.memories.generate(\n",
        "    scope={\"user_id\": \"123\"},\n",
        "    name=agent_engine.api_resource.name,\n",
        "    direct_contents_source={\n",
        "        \"events\": [\n",
        "            {\n",
        "                \"content\": {\n",
        "                    \"role\": \"user\",\n",
        "                    \"parts\": [{\"text\": \"You should have almond milk\"}],\n",
        "                }\n",
        "            }\n",
        "        ]\n",
        "    },\n",
        ")"
      ]
    },
    {
      "cell_type": "code",
      "execution_count": null,
      "metadata": {
        "colab": {
          "base_uri": "https://localhost:8080/"
        },
        "id": "DJ7v62dIePo9",
        "outputId": "021b345e-dc4d-4b42-e46e-9251444d1ccb"
      },
      "outputs": [
        {
          "data": {
            "text/plain": [
              "[RetrieveMemoriesResponseRetrievedMemory(\n",
              "   memory=Memory(\n",
              "     create_time=datetime.datetime(2025, 10, 21, 14, 40, 22, 431937, tzinfo=TzInfo(UTC)),\n",
              "     fact='I suggested that the business should have almond milk.',\n",
              "     name='projects/437300234315/locations/us-central1/reasoningEngines/283924688617340928/memories/6170120055741743104',\n",
              "     scope={\n",
              "       'user_id': '123'\n",
              "     },\n",
              "     update_time=datetime.datetime(2025, 10, 21, 14, 40, 22, 431937, tzinfo=TzInfo(UTC))\n",
              "   )\n",
              " )]"
            ]
          },
          "execution_count": 46,
          "metadata": {},
          "output_type": "execute_result"
        }
      ],
      "source": [
        "list(\n",
        "    client.agent_engines.memories.retrieve(\n",
        "        name=agent_engine.api_resource.name, scope={\"user_id\": \"123\"}\n",
        "    )\n",
        ")"
      ]
    },
    {
      "cell_type": "markdown",
      "metadata": {
        "id": "KVPXrs2GS_ZJ"
      },
      "source": [
        "### Dynamic TTL\n",
        "\n",
        "You can also configure Memory Bank to automatically set the TTL for any generated or manually created (or updated) memories."
      ]
    },
    {
      "cell_type": "markdown",
      "metadata": {
        "id": "Dtf5AcltTV2I"
      },
      "source": [
        "#### Default TTL\n",
        "\n",
        "Default TTL applies to all operations that create or update a Memory."
      ]
    },
    {
      "cell_type": "code",
      "execution_count": null,
      "metadata": {
        "colab": {
          "base_uri": "https://localhost:8080/"
        },
        "id": "vQZKHD-TS-qD",
        "outputId": "d350f8cd-7830-4027-c161-9d167e8ba01d"
      },
      "outputs": [
        {
          "name": "stderr",
          "output_type": "stream",
          "text": [
            "INFO:vertexai_genai.agentengines:View progress and logs at https://console.cloud.google.com/logs/query?project=unstacked-x-bwai.\n",
            "INFO:vertexai_genai.agentengines:Agent Engine updated. To use it in another session:\n",
            "INFO:vertexai_genai.agentengines:agent_engine=client.agent_engines.get('projects/437300234315/locations/us-central1/reasoningEngines/283924688617340928')\n"
          ]
        },
        {
          "data": {
            "text/plain": [
              "AgentEngine(api_resource.name='projects/437300234315/locations/us-central1/reasoningEngines/283924688617340928')"
            ]
          },
          "execution_count": 47,
          "metadata": {},
          "output_type": "execute_result"
        }
      ],
      "source": [
        "client.agent_engines.update(\n",
        "    name=agent_engine.api_resource.name,\n",
        "    config={\n",
        "        \"context_spec\": {\n",
        "            \"memory_bank_config\": {\n",
        "                \"ttl_config\": {\n",
        "                    # 30 days\n",
        "                    \"default_ttl\": f\"{60 * 60 * 24 * 30}s\"\n",
        "                }\n",
        "            }\n",
        "        }\n",
        "    },\n",
        ")"
      ]
    },
    {
      "cell_type": "code",
      "execution_count": null,
      "metadata": {
        "colab": {
          "base_uri": "https://localhost:8080/"
        },
        "id": "vICeAqPyCaT0",
        "outputId": "9c6645ec-30b1-4945-f1cc-4bd69a601800"
      },
      "outputs": [
        {
          "data": {
            "text/plain": [
              "Memory(\n",
              "  create_time=datetime.datetime(2025, 10, 21, 14, 36, 9, 601480, tzinfo=TzInfo(UTC)),\n",
              "  expire_time=datetime.datetime(2025, 11, 20, 14, 42, 56, 299370, tzinfo=TzInfo(UTC)),\n",
              "  fact='I have four nieces.',\n",
              "  name='projects/437300234315/locations/us-central1/reasoningEngines/283924688617340928/memories/2531211556826382336',\n",
              "  scope={\n",
              "    'user_id': 'My User'\n",
              "  },\n",
              "  update_time=datetime.datetime(2025, 10, 21, 14, 42, 56, 302588, tzinfo=TzInfo(UTC))\n",
              ")"
            ]
          },
          "execution_count": 48,
          "metadata": {},
          "output_type": "execute_result"
        }
      ],
      "source": [
        "response = client.agent_engines.memories.generate(\n",
        "    scope={\"user_id\": USER_ID},\n",
        "    name=agent_engine.api_resource.name,\n",
        "    direct_contents_source={\n",
        "        \"events\": [\n",
        "            {\"content\": {\"role\": \"user\", \"parts\": [{\"text\": \"I have four nieces!\"}]}}\n",
        "        ]\n",
        "    },\n",
        "    config={\"wait_for_completion\": True},\n",
        ")\n",
        "\n",
        "client.agent_engines.memories.get(\n",
        "    name=response.response.generated_memories[0].memory.name\n",
        ")"
      ]
    },
    {
      "cell_type": "markdown",
      "metadata": {
        "id": "Oa0A4ogWT8BM"
      },
      "source": [
        "#### Granular TTL\n",
        "\n",
        "The TTL is calculated based on which operation created or updated the Memory. If not set for a given operation, then the operation won't update the Memory's expiration time.\n",
        "\n",
        "Parameters include:\n",
        " * `create_ttl`: Applies to Memories created with CreateMemory operations\n",
        " * `generate_created_ttl`: Applies to Memories created with GenerateMemories\n",
        " * `generate_updated_ttl`: Applies to Memories updated with GenerateMemories"
      ]
    },
    {
      "cell_type": "code",
      "execution_count": null,
      "metadata": {
        "colab": {
          "base_uri": "https://localhost:8080/"
        },
        "id": "3g02gtyrT7fG",
        "outputId": "4efaa174-1c5a-4931-b8da-16c3b8302c02"
      },
      "outputs": [
        {
          "name": "stderr",
          "output_type": "stream",
          "text": [
            "INFO:vertexai_genai.agentengines:View progress and logs at https://console.cloud.google.com/logs/query?project=unstacked-x-bwai.\n",
            "INFO:vertexai_genai.agentengines:Agent Engine updated. To use it in another session:\n",
            "INFO:vertexai_genai.agentengines:agent_engine=client.agent_engines.get('projects/437300234315/locations/us-central1/reasoningEngines/283924688617340928')\n"
          ]
        },
        {
          "data": {
            "text/plain": [
              "AgentEngine(api_resource.name='projects/437300234315/locations/us-central1/reasoningEngines/283924688617340928')"
            ]
          },
          "execution_count": 49,
          "metadata": {},
          "output_type": "execute_result"
        }
      ],
      "source": [
        "client.agent_engines.update(\n",
        "    name=agent_engine.api_resource.name,\n",
        "    config={\n",
        "        \"context_spec\": {\n",
        "            \"memory_bank_config\": {\n",
        "                \"ttl_config\": {\n",
        "                    \"granular_ttl_config\": {\n",
        "                        # 365 days\n",
        "                        \"generate_created_ttl\": f\"{24 * 60 * 60 * 365}s\",\n",
        "                    }\n",
        "                }\n",
        "            }\n",
        "        }\n",
        "    },\n",
        ")"
      ]
    },
    {
      "cell_type": "code",
      "execution_count": null,
      "metadata": {
        "colab": {
          "base_uri": "https://localhost:8080/"
        },
        "id": "dT3ffaBksw99",
        "outputId": "a604a853-23e7-485f-80cf-84bf2775f9ae"
      },
      "outputs": [
        {
          "data": {
            "text/plain": [
              "Memory(\n",
              "  create_time=datetime.datetime(2025, 10, 21, 14, 44, 34, 692040, tzinfo=TzInfo(UTC)),\n",
              "  expire_time=datetime.datetime(2026, 10, 21, 14, 44, 34, 685971, tzinfo=TzInfo(UTC)),\n",
              "  fact='I work at Zindua School.',\n",
              "  name='projects/437300234315/locations/us-central1/reasoningEngines/283924688617340928/memories/8151703891784761344',\n",
              "  scope={\n",
              "    'user_id': 'My User'\n",
              "  },\n",
              "  update_time=datetime.datetime(2025, 10, 21, 14, 44, 34, 692040, tzinfo=TzInfo(UTC))\n",
              ")"
            ]
          },
          "execution_count": 50,
          "metadata": {},
          "output_type": "execute_result"
        }
      ],
      "source": [
        "response = client.agent_engines.memories.generate(\n",
        "    scope={\"user_id\": USER_ID},\n",
        "    name=agent_engine.api_resource.name,\n",
        "    direct_contents_source={\n",
        "        \"events\": [\n",
        "            {\n",
        "                \"content\": {\n",
        "                    \"role\": \"user\",\n",
        "                    \"parts\": [{\"text\": \"Remember that I work at Zindua School!\"}],\n",
        "                }\n",
        "            }\n",
        "        ]\n",
        "    },\n",
        ")\n",
        "\n",
        "client.agent_engines.memories.get(\n",
        "    name=response.response.generated_memories[0].memory.name\n",
        ")"
      ]
    },
    {
      "cell_type": "code",
      "execution_count": null,
      "metadata": {
        "colab": {
          "base_uri": "https://localhost:8080/"
        },
        "id": "O6UGzBpCTpHB",
        "outputId": "cbf21a20-dcb0-48a9-9939-34bf2ea53be2"
      },
      "outputs": [
        {
          "data": {
            "text/plain": [
              "Memory(\n",
              "  create_time=datetime.datetime(2025, 10, 21, 14, 45, 10, 120194, tzinfo=TzInfo(UTC)),\n",
              "  expire_time=datetime.datetime(2026, 10, 21, 14, 45, 10, 114376, tzinfo=TzInfo(UTC)),\n",
              "  fact='I work at Google.',\n",
              "  name='projects/437300234315/locations/us-central1/reasoningEngines/283924688617340928/memories/6224163251270189056',\n",
              "  scope={\n",
              "    'user_id': 'My User'\n",
              "  },\n",
              "  update_time=datetime.datetime(2025, 10, 21, 14, 45, 10, 120194, tzinfo=TzInfo(UTC))\n",
              ")"
            ]
          },
          "execution_count": 51,
          "metadata": {},
          "output_type": "execute_result"
        }
      ],
      "source": [
        "response = client.agent_engines.memories.generate(\n",
        "    scope={\"user_id\": USER_ID},\n",
        "    name=agent_engine.api_resource.name,\n",
        "    direct_contents_source={\n",
        "        \"events\": [\n",
        "            {\"content\": {\"role\": \"user\", \"parts\": [{\"text\": \"I work at Google!\"}]}}\n",
        "        ]\n",
        "    },\n",
        ")\n",
        "\n",
        "client.agent_engines.memories.get(\n",
        "    name=response.response.generated_memories[0].memory.name\n",
        ")"
      ]
    },
    {
      "cell_type": "markdown",
      "metadata": {
        "id": "a678c7a2bf29"
      },
      "source": [
        "## Cleaning up\n",
        "\n",
        "It's always a best practice in cloud development to clean up resources you no longer need to avoid incurring unexpected costs. This final cell deletes the AgentEngine resources we created throughout this tutorial."
      ]
    },
    {
      "cell_type": "code",
      "execution_count": null,
      "metadata": {
        "id": "10fe83835935"
      },
      "outputs": [],
      "source": [
        "delete_agent_engines = True\n",
        "\n",
        "agent_engine_name = agent_engine.api_resource.name\n",
        "\n",
        "if delete_agent_engines:\n",
        "    # Delete agent engine\n",
        "    client.agent_engines.delete(name=agent_engine_name, force=True)"
      ]
    }
  ],
  "metadata": {
    "colab": {
      "provenance": [],
      "include_colab_link": true
    },
    "kernelspec": {
      "display_name": "Python 3",
      "name": "python3"
    }
  },
  "nbformat": 4,
  "nbformat_minor": 0
}